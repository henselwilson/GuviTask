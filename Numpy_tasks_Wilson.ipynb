{
  "cells": [
    {
      "cell_type": "markdown",
      "metadata": {
        "id": "view-in-github",
        "colab_type": "text"
      },
      "source": [
        "<a href=\"https://colab.research.google.com/github/henselwilson/GuviTask/blob/main/Numpy_tasks_Wilson.ipynb\" target=\"_parent\"><img src=\"https://colab.research.google.com/assets/colab-badge.svg\" alt=\"Open In Colab\"/></a>"
      ]
    },
    {
      "cell_type": "markdown",
      "metadata": {
        "id": "YeMn1lSYcn6c"
      },
      "source": [
        "# Numpy\n",
        "\n"
      ]
    },
    {
      "cell_type": "markdown",
      "metadata": {
        "id": "Y81upazkcn6g"
      },
      "source": [
        "#### 1. Import the numpy package under the name `np` (★☆☆) \n",
        "(**hint**: import … as …)"
      ]
    },
    {
      "cell_type": "code",
      "execution_count": 3,
      "metadata": {
        "collapsed": true,
        "id": "VBHjVRE8cn6h"
      },
      "outputs": [],
      "source": [
        "import numpy as np"
      ]
    },
    {
      "cell_type": "markdown",
      "metadata": {
        "id": "MjPmqX5Ucn6i"
      },
      "source": [
        "#### 2. Print the numpy version and the configuration (★☆☆) \n",
        "(**hint**: np.\\_\\_version\\_\\_, np.show\\_config)"
      ]
    },
    {
      "cell_type": "code",
      "execution_count": 4,
      "metadata": {
        "id": "bQ2iuzEycn6j",
        "colab": {
          "base_uri": "https://localhost:8080/"
        },
        "outputId": "b18a1fd1-f4d3-413e-c941-b06d14811ad0"
      },
      "outputs": [
        {
          "output_type": "stream",
          "name": "stdout",
          "text": [
            "1.21.6\n",
            "blas_mkl_info:\n",
            "  NOT AVAILABLE\n",
            "blis_info:\n",
            "  NOT AVAILABLE\n",
            "openblas_info:\n",
            "    libraries = ['openblas', 'openblas']\n",
            "    library_dirs = ['/usr/local/lib']\n",
            "    language = c\n",
            "    define_macros = [('HAVE_CBLAS', None)]\n",
            "    runtime_library_dirs = ['/usr/local/lib']\n",
            "blas_opt_info:\n",
            "    libraries = ['openblas', 'openblas']\n",
            "    library_dirs = ['/usr/local/lib']\n",
            "    language = c\n",
            "    define_macros = [('HAVE_CBLAS', None)]\n",
            "    runtime_library_dirs = ['/usr/local/lib']\n",
            "lapack_mkl_info:\n",
            "  NOT AVAILABLE\n",
            "openblas_lapack_info:\n",
            "    libraries = ['openblas', 'openblas']\n",
            "    library_dirs = ['/usr/local/lib']\n",
            "    language = c\n",
            "    define_macros = [('HAVE_CBLAS', None)]\n",
            "    runtime_library_dirs = ['/usr/local/lib']\n",
            "lapack_opt_info:\n",
            "    libraries = ['openblas', 'openblas']\n",
            "    library_dirs = ['/usr/local/lib']\n",
            "    language = c\n",
            "    define_macros = [('HAVE_CBLAS', None)]\n",
            "    runtime_library_dirs = ['/usr/local/lib']\n",
            "Supported SIMD extensions in this NumPy install:\n",
            "    baseline = SSE,SSE2,SSE3\n",
            "    found = SSSE3,SSE41,POPCNT,SSE42,AVX,F16C,FMA3,AVX2\n",
            "    not found = AVX512F,AVX512CD,AVX512_KNL,AVX512_KNM,AVX512_SKX,AVX512_CLX,AVX512_CNL,AVX512_ICL\n",
            "None\n"
          ]
        }
      ],
      "source": [
        "print(np.__version__)\n",
        "print(np.show_config())"
      ]
    },
    {
      "cell_type": "markdown",
      "metadata": {
        "id": "RizzQBmRcn6k"
      },
      "source": [
        "#### 3. Create a null vector of size 10 (★☆☆) \n",
        "(**hint**: np.zeros)"
      ]
    },
    {
      "cell_type": "code",
      "execution_count": 5,
      "metadata": {
        "id": "94eKraApcn6k",
        "colab": {
          "base_uri": "https://localhost:8080/"
        },
        "outputId": "19c3a727-470e-41be-e63f-9bf8bd58218c"
      },
      "outputs": [
        {
          "output_type": "execute_result",
          "data": {
            "text/plain": [
              "array([0., 0., 0., 0., 0., 0., 0., 0., 0., 0.])"
            ]
          },
          "metadata": {},
          "execution_count": 5
        }
      ],
      "source": [
        "a=np.zeros(10)\n",
        "a"
      ]
    },
    {
      "cell_type": "markdown",
      "metadata": {
        "id": "C3d3S1Kicn6l"
      },
      "source": [
        "#### 4.  How to find the memory size of any array (★☆☆) \n",
        "(**hint**: size, itemsize)"
      ]
    },
    {
      "cell_type": "code",
      "execution_count": 6,
      "metadata": {
        "id": "WTsOwhw8cn6l",
        "colab": {
          "base_uri": "https://localhost:8080/"
        },
        "outputId": "3c4c1772-6b9a-4da4-d4ae-4bd0163963ce"
      },
      "outputs": [
        {
          "output_type": "execute_result",
          "data": {
            "text/plain": [
              "10"
            ]
          },
          "metadata": {},
          "execution_count": 6
        }
      ],
      "source": [
        "a.size"
      ]
    },
    {
      "cell_type": "markdown",
      "metadata": {
        "id": "GvbyWs3Lcn6m"
      },
      "source": [
        "#### 5.  How to get the documentation of the numpy add function from the command line? (★☆☆) \n",
        "(**hint**: np.info)"
      ]
    },
    {
      "cell_type": "code",
      "source": [
        "np.info('add')"
      ],
      "metadata": {
        "colab": {
          "base_uri": "https://localhost:8080/"
        },
        "id": "GEU95d_0d5hg",
        "outputId": "a92f9390-3511-40d8-f316-dbbde3e3bc8a"
      },
      "execution_count": 7,
      "outputs": [
        {
          "output_type": "stream",
          "name": "stdout",
          "text": [
            "     *** Found in numpy ***\n",
            "add(x1, x2, /, out=None, *, where=True, casting='same_kind', order='K', dtype=None, subok=True[, signature, extobj])\n",
            "\n",
            "Add arguments element-wise.\n",
            "\n",
            "Parameters\n",
            "----------\n",
            "x1, x2 : array_like\n",
            "    The arrays to be added.\n",
            "    If ``x1.shape != x2.shape``, they must be broadcastable to a common\n",
            "    shape (which becomes the shape of the output).\n",
            "out : ndarray, None, or tuple of ndarray and None, optional\n",
            "    A location into which the result is stored. If provided, it must have\n",
            "    a shape that the inputs broadcast to. If not provided or None,\n",
            "    a freshly-allocated array is returned. A tuple (possible only as a\n",
            "    keyword argument) must have length equal to the number of outputs.\n",
            "where : array_like, optional\n",
            "    This condition is broadcast over the input. At locations where the\n",
            "    condition is True, the `out` array will be set to the ufunc result.\n",
            "    Elsewhere, the `out` array will retain its original value.\n",
            "    Note that if an uninitialized `out` array is created via the default\n",
            "    ``out=None``, locations within it where the condition is False will\n",
            "    remain uninitialized.\n",
            "**kwargs\n",
            "    For other keyword-only arguments, see the\n",
            "    :ref:`ufunc docs <ufuncs.kwargs>`.\n",
            "\n",
            "Returns\n",
            "-------\n",
            "add : ndarray or scalar\n",
            "    The sum of `x1` and `x2`, element-wise.\n",
            "    This is a scalar if both `x1` and `x2` are scalars.\n",
            "\n",
            "Notes\n",
            "-----\n",
            "Equivalent to `x1` + `x2` in terms of array broadcasting.\n",
            "\n",
            "Examples\n",
            "--------\n",
            ">>> np.add(1.0, 4.0)\n",
            "5.0\n",
            ">>> x1 = np.arange(9.0).reshape((3, 3))\n",
            ">>> x2 = np.arange(3.0)\n",
            ">>> np.add(x1, x2)\n",
            "array([[  0.,   2.,   4.],\n",
            "       [  3.,   5.,   7.],\n",
            "       [  6.,   8.,  10.]])\n",
            "\n",
            "The ``+`` operator can be used as a shorthand for ``np.add`` on ndarrays.\n",
            "\n",
            ">>> x1 = np.arange(9.0).reshape((3, 3))\n",
            ">>> x2 = np.arange(3.0)\n",
            ">>> x1 + x2\n",
            "array([[ 0.,  2.,  4.],\n",
            "       [ 3.,  5.,  7.],\n",
            "       [ 6.,  8., 10.]])\n",
            "----------------------------------------------------------------------------\n",
            "\n",
            "     *** Repeat reference found in numpy.core *** \n",
            "     *** Found in numpy.core.defchararray ***\n",
            " add(x1, x2)\n",
            "\n",
            "Return element-wise string concatenation for two arrays of str or unicode.\n",
            "\n",
            "Arrays `x1` and `x2` must have the same shape.\n",
            "\n",
            "Parameters\n",
            "----------\n",
            "x1 : array_like of str or unicode\n",
            "    Input array.\n",
            "x2 : array_like of str or unicode\n",
            "    Input array.\n",
            "\n",
            "Returns\n",
            "-------\n",
            "add : ndarray\n",
            "    Output array of `string_` or `unicode_`, depending on input types\n",
            "    of the same shape as `x1` and `x2`.\n",
            "----------------------------------------------------------------------------\n",
            "     *** Found in numpy.ma ***\n",
            "add(x1, x2, /, out=None, *, where=True, casting='same_kind', order='K', dtype=None, subok=True[, signature, extobj])\n",
            "\n",
            "Add arguments element-wise.\n",
            "\n",
            "Parameters\n",
            "----------\n",
            "x1, x2 : array_like\n",
            "    The arrays to be added.\n",
            "    If ``x1.shape != x2.shape``, they must be broadcastable to a common\n",
            "    shape (which becomes the shape of the output).\n",
            "out : ndarray, None, or tuple of ndarray and None, optional\n",
            "    A location into which the result is stored. If provided, it must have\n",
            "    a shape that the inputs broadcast to. If not provided or None,\n",
            "    a freshly-allocated array is returned. A tuple (possible only as a\n",
            "    keyword argument) must have length equal to the number of outputs.\n",
            "where : array_like, optional\n",
            "    This condition is broadcast over the input. At locations where the\n",
            "    condition is True, the `out` array will be set to the ufunc result.\n",
            "    Elsewhere, the `out` array will retain its original value.\n",
            "    Note that if an uninitialized `out` array is created via the default\n",
            "    ``out=None``, locations within it where the condition is False will\n",
            "    remain uninitialized.\n",
            "**kwargs\n",
            "    For other keyword-only arguments, see the\n",
            "    :ref:`ufunc docs <ufuncs.kwargs>`.\n",
            "\n",
            "Returns\n",
            "-------\n",
            "add : ndarray or scalar\n",
            "    The sum of `x1` and `x2`, element-wise.\n",
            "    This is a scalar if both `x1` and `x2` are scalars.\n",
            "\n",
            "Notes\n",
            "-----\n",
            "Equivalent to `x1` + `x2` in terms of array broadcasting.\n",
            "\n",
            "Examples\n",
            "--------\n",
            ">>> np.add(1.0, 4.0)\n",
            "5.0\n",
            ">>> x1 = np.arange(9.0).reshape((3, 3))\n",
            ">>> x2 = np.arange(3.0)\n",
            ">>> np.add(x1, x2)\n",
            "array([[  0.,   2.,   4.],\n",
            "       [  3.,   5.,   7.],\n",
            "       [  6.,   8.,  10.]])\n",
            "\n",
            "The ``+`` operator can be used as a shorthand for ``np.add`` on ndarrays.\n",
            "\n",
            ">>> x1 = np.arange(9.0).reshape((3, 3))\n",
            ">>> x2 = np.arange(3.0)\n",
            ">>> x1 + x2\n",
            "array([[ 0.,  2.,  4.],\n",
            "       [ 3.,  5.,  7.],\n",
            "       [ 6.,  8., 10.]])\n",
            "----------------------------------------------------------------------------\n",
            "\n",
            "     *** Repeat reference found in numpy.core._multiarray_umath *** \n",
            "\n",
            "     *** Repeat reference found in numpy.core.multiarray *** \n",
            "\n",
            "     *** Repeat reference found in numpy.core.umath *** \n",
            "\n",
            "     *** Repeat reference found in numpy.core.numeric *** \n",
            "\n",
            "     *** Repeat reference found in numpy.linalg.linalg *** \n",
            "\n",
            "     *** Repeat reference found in numpy.lib.function_base *** \n",
            "\n",
            "     *** Repeat reference found in numpy.ma.core *** \n",
            "\n",
            "     *** Repeat reference found in numpy.ma.extras *** \n",
            "     *** Found in operator ***\n",
            "Same as a + b.\n",
            "----------------------------------------------------------------------------\n",
            "\n",
            "     *** Total of 13 references found. ***\n"
          ]
        }
      ]
    },
    {
      "cell_type": "markdown",
      "metadata": {
        "id": "J2hH5Lbicn6m"
      },
      "source": [
        "#### 6.  Create a null vector of size 10 but the fifth value which is 1 (★☆☆) \n",
        "(**hint**: array\\[4\\])"
      ]
    },
    {
      "cell_type": "code",
      "execution_count": 8,
      "metadata": {
        "id": "s9Ea7m05cn6n",
        "colab": {
          "base_uri": "https://localhost:8080/"
        },
        "outputId": "938ed48c-dea2-4d10-8f99-308652947577"
      },
      "outputs": [
        {
          "output_type": "execute_result",
          "data": {
            "text/plain": [
              "array([0., 0., 0., 0., 1., 0., 0., 0., 0., 0.])"
            ]
          },
          "metadata": {},
          "execution_count": 8
        }
      ],
      "source": [
        "arr=np.zeros(10)\n",
        "arr[4]=1\n",
        "arr"
      ]
    },
    {
      "cell_type": "markdown",
      "metadata": {
        "id": "vYpXA4t8cn6n"
      },
      "source": [
        "#### 7.  Create a vector with values ranging from 10 to 49 (★☆☆) \n",
        "(**hint**: np.arange)"
      ]
    },
    {
      "cell_type": "code",
      "execution_count": 9,
      "metadata": {
        "id": "4ObrUvwlcn6o",
        "colab": {
          "base_uri": "https://localhost:8080/"
        },
        "outputId": "a08e58cc-1625-4a89-92ec-e62bc46045df"
      },
      "outputs": [
        {
          "output_type": "execute_result",
          "data": {
            "text/plain": [
              "array([10, 11, 12, 13, 14, 15, 16, 17, 18, 19, 20, 21, 22, 23, 24, 25, 26,\n",
              "       27, 28, 29, 30, 31, 32, 33, 34, 35, 36, 37, 38, 39, 40, 41, 42, 43,\n",
              "       44, 45, 46, 47, 48])"
            ]
          },
          "metadata": {},
          "execution_count": 9
        }
      ],
      "source": [
        "b=np.arange(10,49)\n",
        "b"
      ]
    },
    {
      "cell_type": "markdown",
      "metadata": {
        "id": "_WyvdEZ1cn6o"
      },
      "source": [
        "#### 8.  Reverse a vector (first element becomes last) (★☆☆) \n",
        "(**hint**: array\\[::-1\\])"
      ]
    },
    {
      "cell_type": "code",
      "execution_count": 10,
      "metadata": {
        "id": "Wiq8vzAVcn6o",
        "colab": {
          "base_uri": "https://localhost:8080/"
        },
        "outputId": "3a7a9471-c82a-4b8a-8e54-7a6efc606947"
      },
      "outputs": [
        {
          "output_type": "execute_result",
          "data": {
            "text/plain": [
              "array([48, 47, 46, 45, 44, 43, 42, 41, 40, 39, 38, 37, 36, 35, 34, 33, 32,\n",
              "       31, 30, 29, 28, 27, 26, 25, 24, 23, 22, 21, 20, 19, 18, 17, 16, 15,\n",
              "       14, 13, 12, 11, 10])"
            ]
          },
          "metadata": {},
          "execution_count": 10
        }
      ],
      "source": [
        "b[::-1]"
      ]
    },
    {
      "cell_type": "markdown",
      "metadata": {
        "id": "3qnl-jIvcn6o"
      },
      "source": [
        "#### 9.  Create a 3x3 matrix with values ranging from 0 to 8 (★☆☆) \n",
        "(**hint**: reshape)"
      ]
    },
    {
      "cell_type": "code",
      "execution_count": 11,
      "metadata": {
        "id": "3eQj24fLcn6p",
        "colab": {
          "base_uri": "https://localhost:8080/"
        },
        "outputId": "1b8977a9-949a-48d0-cdb3-bbc04c357350"
      },
      "outputs": [
        {
          "output_type": "execute_result",
          "data": {
            "text/plain": [
              "array([[0, 1, 2],\n",
              "       [3, 4, 5],\n",
              "       [6, 7, 8]])"
            ]
          },
          "metadata": {},
          "execution_count": 11
        }
      ],
      "source": [
        "np.arange(0,9).reshape(3,3)"
      ]
    },
    {
      "cell_type": "markdown",
      "metadata": {
        "id": "z0N2fBCUcn6p"
      },
      "source": [
        "#### 10. Find indices of non-zero elements from \\[1,2,0,0,4,0\\] (★☆☆) \n",
        "(**hint**: np.nonzero)"
      ]
    },
    {
      "cell_type": "code",
      "execution_count": 12,
      "metadata": {
        "id": "fJMqZqdzcn6p",
        "colab": {
          "base_uri": "https://localhost:8080/"
        },
        "outputId": "4a8da086-bc32-4787-90e9-891ad436bb68"
      },
      "outputs": [
        {
          "output_type": "execute_result",
          "data": {
            "text/plain": [
              "(array([0, 1, 4]),)"
            ]
          },
          "metadata": {},
          "execution_count": 12
        }
      ],
      "source": [
        "np.nonzero([1,2,0,0,4,0])"
      ]
    },
    {
      "cell_type": "markdown",
      "metadata": {
        "id": "hs9iIQFZcn6q"
      },
      "source": [
        "#### 11. Create a 3x3 identity matrix (★☆☆) \n",
        "(**hint**: np.eye)"
      ]
    },
    {
      "cell_type": "code",
      "execution_count": 13,
      "metadata": {
        "id": "Cb5mf8pRcn6q",
        "colab": {
          "base_uri": "https://localhost:8080/"
        },
        "outputId": "a3268a43-53bf-4deb-8568-5db39066f2f3"
      },
      "outputs": [
        {
          "output_type": "execute_result",
          "data": {
            "text/plain": [
              "array([[1., 0., 0.],\n",
              "       [0., 1., 0.],\n",
              "       [0., 0., 1.]])"
            ]
          },
          "metadata": {},
          "execution_count": 13
        }
      ],
      "source": [
        "np.eye(3)"
      ]
    },
    {
      "cell_type": "markdown",
      "metadata": {
        "id": "5ZeXnG4Qcn6q"
      },
      "source": [
        "#### 12. Create a 3x3x3 array with random values (★☆☆) \n",
        "(**hint**: np.random.random)"
      ]
    },
    {
      "cell_type": "code",
      "execution_count": 14,
      "metadata": {
        "collapsed": true,
        "id": "qEtFk0pocn6q",
        "colab": {
          "base_uri": "https://localhost:8080/"
        },
        "outputId": "b1f3517c-aa12-496f-f87d-9b5225af2ba0"
      },
      "outputs": [
        {
          "output_type": "execute_result",
          "data": {
            "text/plain": [
              "array([[[0.42184934, 0.30022127, 0.13919308],\n",
              "        [0.06679482, 0.44220093, 0.25377645],\n",
              "        [0.77479692, 0.89393426, 0.24696336]],\n",
              "\n",
              "       [[0.04116032, 0.94658448, 0.36033077],\n",
              "        [0.56345136, 0.76437012, 0.15779279],\n",
              "        [0.62979499, 0.70198125, 0.78996453]],\n",
              "\n",
              "       [[0.05770235, 0.89542169, 0.3198831 ],\n",
              "        [0.53955531, 0.46932517, 0.7827436 ],\n",
              "        [0.34366293, 0.41036207, 0.80592221]]])"
            ]
          },
          "metadata": {},
          "execution_count": 14
        }
      ],
      "source": [
        "from numpy import random\n",
        "random.rand(3,3,3)"
      ]
    },
    {
      "cell_type": "markdown",
      "metadata": {
        "id": "ius0JWo8cn6q"
      },
      "source": [
        "#### 13. Create a 10x10 array with random values and find the minimum and maximum values (★☆☆) \n",
        "(**hint**: min, max)"
      ]
    },
    {
      "cell_type": "code",
      "execution_count": 15,
      "metadata": {
        "id": "8us4ZO9Ocn6r",
        "colab": {
          "base_uri": "https://localhost:8080/"
        },
        "outputId": "a178a759-befc-464b-f4dc-719c3df6856e"
      },
      "outputs": [
        {
          "output_type": "stream",
          "name": "stdout",
          "text": [
            "0.9888610889064947\n",
            "0.00011437481734488664\n"
          ]
        }
      ],
      "source": [
        "random.seed(1)\n",
        "arr=random.rand(10,10)\n",
        "print(arr.max())\n",
        "print(arr.min())"
      ]
    },
    {
      "cell_type": "markdown",
      "metadata": {
        "id": "XIBTXTN_cn6r"
      },
      "source": [
        "#### 14. Create a random vector of size 30 and find the mean value (★☆☆) \n",
        "(**hint**: mean)"
      ]
    },
    {
      "cell_type": "code",
      "execution_count": 16,
      "metadata": {
        "id": "7MLAyoeecn6r",
        "colab": {
          "base_uri": "https://localhost:8080/"
        },
        "outputId": "f3de8605-26a8-4ea8-99b6-1c1fa702153e"
      },
      "outputs": [
        {
          "output_type": "execute_result",
          "data": {
            "text/plain": [
              "0.43544785374154765"
            ]
          },
          "metadata": {},
          "execution_count": 16
        }
      ],
      "source": [
        "random.seed(1)\n",
        "arr=random.rand(30,1)\n",
        "arr.mean()"
      ]
    },
    {
      "cell_type": "markdown",
      "metadata": {
        "id": "1Ag1FdEfcn6r"
      },
      "source": [
        "#### 15. Create a 2d array with 1 on the border and 0 inside (★☆☆) \n",
        "(**hint**: array\\[1:-1, 1:-1\\])"
      ]
    },
    {
      "cell_type": "code",
      "execution_count": 17,
      "metadata": {
        "id": "p78C7O1kcn6r",
        "colab": {
          "base_uri": "https://localhost:8080/"
        },
        "outputId": "379ae04c-455a-4468-d0ec-72b44055c5c6"
      },
      "outputs": [
        {
          "output_type": "execute_result",
          "data": {
            "text/plain": [
              "array([[1., 1., 1., 1.],\n",
              "       [1., 0., 0., 1.],\n",
              "       [1., 0., 0., 1.],\n",
              "       [1., 1., 1., 1.]])"
            ]
          },
          "metadata": {},
          "execution_count": 17
        }
      ],
      "source": [
        "arz=np.ones((4,4))\n",
        "arz[1:-1,1:-1]=0\n",
        "arz"
      ]
    },
    {
      "cell_type": "markdown",
      "metadata": {
        "id": "p06bOGBKcn6r"
      },
      "source": [
        "#### 16. How to add a border (filled with 0's) around an existing array? (★☆☆) \n",
        "(**hint**: np.pad)"
      ]
    },
    {
      "cell_type": "code",
      "execution_count": 18,
      "metadata": {
        "id": "cXJK5V-bcn6s",
        "colab": {
          "base_uri": "https://localhost:8080/"
        },
        "outputId": "5220e81d-262a-4933-d191-cfe5fad41df0"
      },
      "outputs": [
        {
          "output_type": "stream",
          "name": "stdout",
          "text": [
            "[[ 6  6  6  6  6  6]\n",
            " [ 6 47 56 70  2  6]\n",
            " [ 6 88 73 51 10  6]\n",
            " [ 6 59 95 56 56  6]\n",
            " [ 6 58 37 51 45  6]\n",
            " [ 6  6  6  6  6  6]]\n"
          ]
        }
      ],
      "source": [
        "random.seed(4)\n",
        "arp=random.randint(1,100,(4,4))\n",
        "print(np.pad(arp,pad_width=1,mode='constant',constant_values=6))"
      ]
    },
    {
      "cell_type": "markdown",
      "metadata": {
        "id": "Lz6RSZr3cn6s"
      },
      "source": [
        "#### 17. What is the result of the following expression? (★☆☆) \n",
        "(**hint**: NaN = not a number, inf = infinity)"
      ]
    },
    {
      "cell_type": "markdown",
      "metadata": {
        "id": "dqJ8AsT-cn6s"
      },
      "source": [
        "```python\n",
        "0 * np.nan\n",
        "np.nan == np.nan\n",
        "np.inf > np.nan\n",
        "np.nan - np.nan\n",
        "0.3 == 3 * 0.1\n",
        "```"
      ]
    },
    {
      "cell_type": "code",
      "execution_count": 19,
      "metadata": {
        "id": "fH1G6Qa4cn6s",
        "colab": {
          "base_uri": "https://localhost:8080/",
          "height": 235
        },
        "outputId": "d3a46e7b-aafa-4f11-e629-7b04c5cc2a6d"
      },
      "outputs": [
        {
          "output_type": "error",
          "ename": "NameError",
          "evalue": "ignored",
          "traceback": [
            "\u001b[0;31m---------------------------------------------------------------------------\u001b[0m",
            "\u001b[0;31mNameError\u001b[0m                                 Traceback (most recent call last)",
            "\u001b[0;32m<ipython-input-19-1c90ec8c0578>\u001b[0m in \u001b[0;36m<module>\u001b[0;34m()\u001b[0m\n\u001b[0;32m----> 1\u001b[0;31m \u001b[0mnan\u001b[0m\u001b[0;34m\u001b[0m\u001b[0;34m\u001b[0m\u001b[0m\n\u001b[0m\u001b[1;32m      2\u001b[0m \u001b[0;32mFalse\u001b[0m\u001b[0;34m\u001b[0m\u001b[0;34m\u001b[0m\u001b[0m\n\u001b[1;32m      3\u001b[0m \u001b[0;32mFalse\u001b[0m\u001b[0;34m\u001b[0m\u001b[0;34m\u001b[0m\u001b[0m\n\u001b[1;32m      4\u001b[0m \u001b[0mnan\u001b[0m\u001b[0;34m\u001b[0m\u001b[0;34m\u001b[0m\u001b[0m\n\u001b[1;32m      5\u001b[0m \u001b[0;32mFalse\u001b[0m\u001b[0;34m\u001b[0m\u001b[0;34m\u001b[0m\u001b[0m\n",
            "\u001b[0;31mNameError\u001b[0m: name 'nan' is not defined"
          ]
        }
      ],
      "source": [
        "nan\n",
        "False\n",
        "False\n",
        "nan\n",
        "False"
      ]
    },
    {
      "cell_type": "markdown",
      "metadata": {
        "id": "7p3sdfJqcn6t"
      },
      "source": [
        "#### 18. Create a 5x5 matrix with values 1,2,3,4 just below the diagonal (★☆☆) \n",
        "(**hint**: np.diag)"
      ]
    },
    {
      "cell_type": "code",
      "execution_count": 20,
      "metadata": {
        "id": "fTYUab1Fcn6t",
        "colab": {
          "base_uri": "https://localhost:8080/"
        },
        "outputId": "b35790c8-c845-48bf-e417-2618ac69318c"
      },
      "outputs": [
        {
          "output_type": "execute_result",
          "data": {
            "text/plain": [
              "array([[0, 0, 0, 0, 0],\n",
              "       [1, 0, 0, 0, 0],\n",
              "       [0, 2, 0, 0, 0],\n",
              "       [0, 0, 3, 0, 0],\n",
              "       [0, 0, 0, 4, 0]])"
            ]
          },
          "metadata": {},
          "execution_count": 20
        }
      ],
      "source": [
        "np.diag(np.arange(1,5),k=-1)"
      ]
    },
    {
      "cell_type": "markdown",
      "metadata": {
        "id": "3By8tIZ0cn6t"
      },
      "source": [
        "#### 19. Create a 8x8 matrix and fill it with a checkerboard pattern (★☆☆) \n",
        "(**hint**: array\\[::2\\])"
      ]
    },
    {
      "cell_type": "code",
      "execution_count": 21,
      "metadata": {
        "id": "AJKkD89Dcn6t",
        "colab": {
          "base_uri": "https://localhost:8080/"
        },
        "outputId": "b454cefe-d68b-4913-abb9-83fe63562954"
      },
      "outputs": [
        {
          "output_type": "execute_result",
          "data": {
            "text/plain": [
              "array([[0., 1., 0., 1., 0., 1., 0., 1.],\n",
              "       [1., 0., 1., 0., 1., 0., 1., 0.],\n",
              "       [0., 1., 0., 1., 0., 1., 0., 1.],\n",
              "       [1., 0., 1., 0., 1., 0., 1., 0.],\n",
              "       [0., 1., 0., 1., 0., 1., 0., 1.],\n",
              "       [1., 0., 1., 0., 1., 0., 1., 0.],\n",
              "       [0., 1., 0., 1., 0., 1., 0., 1.],\n",
              "       [1., 0., 1., 0., 1., 0., 1., 0.]])"
            ]
          },
          "metadata": {},
          "execution_count": 21
        }
      ],
      "source": [
        "arc=np.ones((8,8))\n",
        "arc[::2,::2]=0\n",
        "arc[1::2,1::2]=0\n",
        "arc"
      ]
    },
    {
      "cell_type": "markdown",
      "metadata": {
        "id": "s5WT82aGcn6t"
      },
      "source": [
        "#### 20. Consider a (6,7,8) shape array, what is the index (x,y,z) of the 100th element? \n",
        "(**hint**: np.unravel_index)"
      ]
    },
    {
      "cell_type": "code",
      "execution_count": 22,
      "metadata": {
        "id": "yFIQsPR4cn6t",
        "colab": {
          "base_uri": "https://localhost:8080/"
        },
        "outputId": "acdee541-b963-45a4-bb51-97135a11ec86"
      },
      "outputs": [
        {
          "output_type": "execute_result",
          "data": {
            "text/plain": [
              "(1, 5, 4)"
            ]
          },
          "metadata": {},
          "execution_count": 22
        }
      ],
      "source": [
        "np.unravel_index(100,(6,7,8))"
      ]
    },
    {
      "cell_type": "markdown",
      "metadata": {
        "id": "ziAgxFeWcn6u"
      },
      "source": [
        "#### 21. Create a checkerboard 8x8 matrix using the tile function (★☆☆) \n",
        "(**hint**: np.tile)"
      ]
    },
    {
      "cell_type": "code",
      "execution_count": 23,
      "metadata": {
        "id": "-Jw9aNHXcn6u",
        "colab": {
          "base_uri": "https://localhost:8080/"
        },
        "outputId": "8c48d1c7-8fb2-4280-fd59-66cbf4c86ae7"
      },
      "outputs": [
        {
          "output_type": "execute_result",
          "data": {
            "text/plain": [
              "array([[1., 0., 1., 0., 1., 0., 1., 0.],\n",
              "       [0., 1., 0., 1., 0., 1., 0., 1.],\n",
              "       [1., 0., 1., 0., 1., 0., 1., 0.],\n",
              "       [0., 1., 0., 1., 0., 1., 0., 1.],\n",
              "       [1., 0., 1., 0., 1., 0., 1., 0.],\n",
              "       [0., 1., 0., 1., 0., 1., 0., 1.],\n",
              "       [1., 0., 1., 0., 1., 0., 1., 0.],\n",
              "       [0., 1., 0., 1., 0., 1., 0., 1.]])"
            ]
          },
          "metadata": {},
          "execution_count": 23
        }
      ],
      "source": [
        "art=np.diag(np.ones(2))\n",
        "np.tile(art,(4,4))"
      ]
    },
    {
      "cell_type": "markdown",
      "metadata": {
        "id": "JJINLuAAcn6u"
      },
      "source": [
        "#### 22. Normalize a 5x5 random matrix (★☆☆) \n",
        "(**hint**: (x - min) / (max - min))"
      ]
    },
    {
      "cell_type": "code",
      "execution_count": 24,
      "metadata": {
        "id": "coMcaZYxcn6v",
        "colab": {
          "base_uri": "https://localhost:8080/"
        },
        "outputId": "5bc2eb6f-b9d5-45cf-97f4-399e8966df40"
      },
      "outputs": [
        {
          "output_type": "execute_result",
          "data": {
            "text/plain": [
              "array([[ 2.29166667e-01,  4.29166667e-01,  3.89166667e-01,\n",
              "         2.39166667e-01,  8.49166667e-01],\n",
              "       [ 1.69166667e-01, -8.33333333e-04,  9.29166667e-01,\n",
              "         6.59166667e-01,  4.69166667e-01],\n",
              "       [ 9.49166667e-01,  3.69166667e-01,  5.91666667e-02,\n",
              "         3.29166667e-01,  1.39166667e-01],\n",
              "       [ 9.59166667e-01,  8.59166667e-01,  4.69166667e-01,\n",
              "         3.79166667e-01,  4.29166667e-01],\n",
              "       [ 6.99166667e-01,  2.29166667e-01,  5.99166667e-01,\n",
              "         1.19166667e-01,  1.79166667e-01]])"
            ]
          },
          "metadata": {},
          "execution_count": 24
        }
      ],
      "source": [
        "#Correction Normalization --> (x-mean)/(max-min)\n",
        "random.seed(33)\n",
        "arn=random.rand(5,5).round(2)\n",
        "arn=(arn-np.min(arn)/(np.max(arn)-np.min(arn)))\n",
        "arn"
      ]
    },
    {
      "cell_type": "markdown",
      "metadata": {
        "id": "baRMn-zfcn6v"
      },
      "source": [
        "#### 23. Create a custom dtype that describes a color as four unsigned bytes (RGBA) (★☆☆) \n",
        "(**hint**: np.dtype)"
      ]
    },
    {
      "cell_type": "code",
      "execution_count": 25,
      "metadata": {
        "collapsed": true,
        "id": "pwGrCzMYcn6w",
        "colab": {
          "base_uri": "https://localhost:8080/"
        },
        "outputId": "62bd5dd4-055b-455d-a070-a6c94a1c0f03"
      },
      "outputs": [
        {
          "output_type": "stream",
          "name": "stdout",
          "text": [
            "10\n"
          ]
        },
        {
          "output_type": "execute_result",
          "data": {
            "text/plain": [
              "numpy.ndarray"
            ]
          },
          "metadata": {},
          "execution_count": 25
        }
      ],
      "source": [
        "RGBA = np.dtype([('red',np.uint8),('green',np.uint8),('blue',np.uint8),('alpha',np.uint8)])\n",
        "color = np.array((10,2,4,3),dtype = RGBA)\n",
        "print(color['red'])\n",
        "type(color)"
      ]
    },
    {
      "cell_type": "markdown",
      "metadata": {
        "id": "k2MMnAGDcn6w"
      },
      "source": [
        "#### 24. Multiply a 5x3 matrix by a 3x2 matrix (real matrix product) (★☆☆) \n",
        "(**hint**: np.dot | @)"
      ]
    },
    {
      "cell_type": "code",
      "execution_count": 26,
      "metadata": {
        "id": "XcxE_K0Wcn6w",
        "colab": {
          "base_uri": "https://localhost:8080/"
        },
        "outputId": "cda1db09-69cb-49a9-87a0-661bb548f14e"
      },
      "outputs": [
        {
          "output_type": "execute_result",
          "data": {
            "text/plain": [
              "array([[ 47,  52],\n",
              "       [ 88, 131],\n",
              "       [ 54,  69],\n",
              "       [ 86,  97],\n",
              "       [ 71, 145]])"
            ]
          },
          "metadata": {},
          "execution_count": 26
        }
      ],
      "source": [
        "Mat1=np.random.randint(1,10,(5,3))\n",
        "Mat2=np.random.randint(1,10,(3,2))\n",
        "np.dot(Mat1,Mat2)"
      ]
    },
    {
      "cell_type": "markdown",
      "metadata": {
        "id": "qv4MrOM4cn6w"
      },
      "source": [
        "#### 25. Given a 1D array, negate all elements which are between 3 and 8, in place. (★☆☆) \n",
        "(**hint**: >, <=)"
      ]
    },
    {
      "cell_type": "code",
      "execution_count": 27,
      "metadata": {
        "id": "DAQaEoDvcn6w",
        "colab": {
          "base_uri": "https://localhost:8080/"
        },
        "outputId": "eec051ff-8bac-484f-c191-b227c6750e9a"
      },
      "outputs": [
        {
          "output_type": "execute_result",
          "data": {
            "text/plain": [
              "array([10, 18, 12, -6, 15, 11,  1, 12,  1, 17, 10, 17, 11, -5,  9])"
            ]
          },
          "metadata": {},
          "execution_count": 27
        }
      ],
      "source": [
        "aRR=np.random.randint(1,20,15)\n",
        "aRR[(aRR>=3) & (aRR<=8)]*=(-1)\n",
        "aRR\n"
      ]
    },
    {
      "cell_type": "markdown",
      "metadata": {
        "id": "tLWYHoEucn6w"
      },
      "source": [
        "#### 26. What is the output of the following script? (★☆☆) \n",
        "(**hint**: np.sum)"
      ]
    },
    {
      "cell_type": "markdown",
      "metadata": {
        "id": "Y4JuLZYVcn6x"
      },
      "source": [
        "```python\n",
        "# Author: Jake VanderPlas\n",
        "\n",
        "print(sum(range(5),-1))\n",
        "from numpy import *\n",
        "print(sum(range(5),-1))\n",
        "```"
      ]
    },
    {
      "cell_type": "code",
      "execution_count": 28,
      "metadata": {
        "id": "bv76y1Ldcn6x",
        "colab": {
          "base_uri": "https://localhost:8080/"
        },
        "outputId": "6d2a0b8c-c465-40ba-d699-63bfc5734e71"
      },
      "outputs": [
        {
          "output_type": "execute_result",
          "data": {
            "text/plain": [
              "10"
            ]
          },
          "metadata": {},
          "execution_count": 28
        }
      ],
      "source": [
        "9\n",
        "10"
      ]
    },
    {
      "cell_type": "markdown",
      "metadata": {
        "id": "_qNE3Zq4cn6x"
      },
      "source": [
        "#### 27. Consider an integer vector Z, which of these expressions are legal? (★☆☆)"
      ]
    },
    {
      "cell_type": "markdown",
      "metadata": {
        "id": "mBtgy9gUcn6x"
      },
      "source": [
        "```python\n",
        "Z**Z\n",
        "2 << Z >> 2\n",
        "Z <- Z\n",
        "1j*Z\n",
        "Z/1/1\n",
        "Z<Z>Z\n",
        "```"
      ]
    },
    {
      "cell_type": "code",
      "execution_count": 29,
      "metadata": {
        "id": "5T_ovwM3cn6x"
      },
      "outputs": [],
      "source": [
        "# Z**Z is valid and gives the pow of the number to the number itself\n",
        "# 2 << Z >> 2 is valid and gives 2^Z\n",
        "# z <- z is valid and giveas boolean based on if that z is less than the -ve of itself\n",
        "# 1j*z is valid and multiplies the complex number j with z\n",
        "# z/1/1 is legal and gives float of the integer in Z\n",
        "# z<z>z is invalid, throws error"
      ]
    },
    {
      "cell_type": "markdown",
      "metadata": {
        "id": "sfPIARsGcn6x"
      },
      "source": [
        "#### 28. What are the result of the following expressions?"
      ]
    },
    {
      "cell_type": "markdown",
      "metadata": {
        "id": "vCTpPAoxcn6x"
      },
      "source": [
        "```python\n",
        "np.array(0) / np.array(0)\n",
        "np.array(0) // np.array(0)\n",
        "np.array([np.nan]).astype(int).astype(float)\n",
        "```"
      ]
    },
    {
      "cell_type": "code",
      "execution_count": 30,
      "metadata": {
        "id": "gpYhMRnLcn6y"
      },
      "outputs": [],
      "source": [
        "# Nan\n",
        "# 0\n",
        "# array([-9.22337204e+18])"
      ]
    },
    {
      "cell_type": "markdown",
      "metadata": {
        "id": "QkOD4BX7cn6y"
      },
      "source": [
        "#### 29. How to round away from zero a float array ? (★☆☆) \n",
        "(**hint**: np.uniform, np.copysign, np.ceil, np.abs)"
      ]
    },
    {
      "cell_type": "code",
      "execution_count": 31,
      "metadata": {
        "id": "FtaXsriVcn6y",
        "colab": {
          "base_uri": "https://localhost:8080/"
        },
        "outputId": "c023bb21-6608-475d-8dc4-918e5e79e4c0"
      },
      "outputs": [
        {
          "output_type": "execute_result",
          "data": {
            "text/plain": [
              "array([[0.4 , 0.02, 0.47, 0.89],\n",
              "       [0.16, 0.84, 0.28, 0.77],\n",
              "       [0.83, 0.9 , 0.97, 0.43],\n",
              "       [0.69, 0.33, 0.8 , 0.43]])"
            ]
          },
          "metadata": {},
          "execution_count": 31
        }
      ],
      "source": [
        "arr = np.random.random((4,4))\n",
        "arr = np.round(arr,2)\n",
        "arr"
      ]
    },
    {
      "cell_type": "markdown",
      "metadata": {
        "id": "gldJ3cqocn6y"
      },
      "source": [
        "#### 30. How to find common values between two arrays? (★☆☆) \n",
        "(**hint**: np.intersect1d)"
      ]
    },
    {
      "cell_type": "code",
      "execution_count": 32,
      "metadata": {
        "id": "Qbsbp5AWcn6y",
        "colab": {
          "base_uri": "https://localhost:8080/"
        },
        "outputId": "99f8d10b-7aa1-49fb-dc47-3a44b27d5007"
      },
      "outputs": [
        {
          "output_type": "execute_result",
          "data": {
            "text/plain": [
              "array([5, 6, 7])"
            ]
          },
          "metadata": {},
          "execution_count": 32
        }
      ],
      "source": [
        "ar1=np.arange(1,8)\n",
        "ar2=np.arange(5,11)\n",
        "np.intersect1d(ar1,ar2)"
      ]
    },
    {
      "cell_type": "markdown",
      "metadata": {
        "id": "bcR4D5IJcn6y"
      },
      "source": [
        "#### 31. How to ignore all numpy warnings (not recommended)? (★☆☆) \n",
        "(**hint**: np.seterr, np.errstate)"
      ]
    },
    {
      "cell_type": "code",
      "execution_count": 33,
      "metadata": {
        "id": "cHeuSbh3cn6y",
        "colab": {
          "base_uri": "https://localhost:8080/"
        },
        "outputId": "1454284c-0b21-4cf2-dc48-a0f3296ea16d"
      },
      "outputs": [
        {
          "output_type": "execute_result",
          "data": {
            "text/plain": [
              "{'divide': 'warn', 'invalid': 'warn', 'over': 'warn', 'under': 'ignore'}"
            ]
          },
          "metadata": {},
          "execution_count": 33
        }
      ],
      "source": [
        "np.seterr(all='ignore')"
      ]
    },
    {
      "cell_type": "markdown",
      "metadata": {
        "id": "y3GwEUzQcn6y"
      },
      "source": [
        "#### 32. Is the following expressions true? (★☆☆) \n",
        "(**hint**: imaginary number)"
      ]
    },
    {
      "cell_type": "markdown",
      "metadata": {
        "id": "kymLRYG1cn6z"
      },
      "source": [
        "```python\n",
        "np.sqrt(-1) == np.emath.sqrt(-1)\n",
        "```"
      ]
    },
    {
      "cell_type": "code",
      "execution_count": 34,
      "metadata": {
        "id": "DmDpO5Ugcn6z",
        "colab": {
          "base_uri": "https://localhost:8080/"
        },
        "outputId": "c8259078-b448-4b27-ef33-697f58d3c534"
      },
      "outputs": [
        {
          "output_type": "execute_result",
          "data": {
            "text/plain": [
              "False"
            ]
          },
          "metadata": {},
          "execution_count": 34
        }
      ],
      "source": [
        "False"
      ]
    },
    {
      "cell_type": "markdown",
      "metadata": {
        "id": "s4MtcHmccn6z"
      },
      "source": [
        "#### 33. How to get the dates of yesterday, today and tomorrow? (★☆☆) \n",
        "(**hint**: np.datetime64, np.timedelta64)"
      ]
    },
    {
      "cell_type": "code",
      "execution_count": 35,
      "metadata": {
        "collapsed": true,
        "id": "Ckdf85FEcn6z",
        "colab": {
          "base_uri": "https://localhost:8080/"
        },
        "outputId": "f84ebdc4-ce71-4b2a-b41c-6010927148d2"
      },
      "outputs": [
        {
          "output_type": "stream",
          "name": "stdout",
          "text": [
            "2022-07-30\n",
            "2022-07-31\n",
            "2022-08-01\n"
          ]
        }
      ],
      "source": [
        "import numpy as np\n",
        "print(np.datetime64('today','D')-np.timedelta64(1,'D'))\n",
        "print(np.datetime64('today','D'))\n",
        "print(np.datetime64('today','D')+np.timedelta64(1,'D'))"
      ]
    },
    {
      "cell_type": "markdown",
      "metadata": {
        "id": "djUfsJb5cn6z"
      },
      "source": [
        "#### 34. How to get all the dates corresponding to the month of July 2016? (★★☆) \n",
        "(**hint**: np.arange(dtype=datetime64\\['D'\\]))"
      ]
    },
    {
      "cell_type": "code",
      "execution_count": 36,
      "metadata": {
        "id": "cOQCGRIGcn6z",
        "colab": {
          "base_uri": "https://localhost:8080/"
        },
        "outputId": "b2992d3c-79f9-4e11-fddd-049b5ef05fae"
      },
      "outputs": [
        {
          "output_type": "execute_result",
          "data": {
            "text/plain": [
              "array(['2016-07-01', '2016-07-02', '2016-07-03', '2016-07-04',\n",
              "       '2016-07-05', '2016-07-06', '2016-07-07', '2016-07-08',\n",
              "       '2016-07-09', '2016-07-10', '2016-07-11', '2016-07-12',\n",
              "       '2016-07-13', '2016-07-14', '2016-07-15', '2016-07-16',\n",
              "       '2016-07-17', '2016-07-18', '2016-07-19', '2016-07-20',\n",
              "       '2016-07-21', '2016-07-22', '2016-07-23', '2016-07-24',\n",
              "       '2016-07-25', '2016-07-26', '2016-07-27', '2016-07-28',\n",
              "       '2016-07-29', '2016-07-30', '2016-07-31'], dtype='datetime64[D]')"
            ]
          },
          "metadata": {},
          "execution_count": 36
        }
      ],
      "source": [
        "np.arange('2016-07', '2016-08', dtype='datetime64[D]')"
      ]
    },
    {
      "cell_type": "markdown",
      "metadata": {
        "id": "SrDevWq7cn6z"
      },
      "source": [
        "#### 35. How to compute ((A+B)\\*(-A/2)) in place (without copy)? (★★☆) \n",
        "(**hint**: np.add(out=), np.negative(out=), np.multiply(out=), np.divide(out=))"
      ]
    },
    {
      "cell_type": "code",
      "execution_count": 37,
      "metadata": {
        "id": "apl8nbjbcn6z",
        "colab": {
          "base_uri": "https://localhost:8080/"
        },
        "outputId": "aa3bbed0-266f-4c99-9617-de2640822113"
      },
      "outputs": [
        {
          "output_type": "execute_result",
          "data": {
            "text/plain": [
              "-4.5"
            ]
          },
          "metadata": {},
          "execution_count": 37
        }
      ],
      "source": [
        "A = np.ones(3)*1\n",
        "B = np.ones(3)*2\n",
        "C = np.ones(3)*3\n",
        "np.add(A,B,out=B)\n",
        "np.divide(A,2,out=A)\n",
        "np.negative(A,out=A)\n",
        "np.dot(A,B)"
      ]
    },
    {
      "cell_type": "markdown",
      "metadata": {
        "id": "aJ9qfv4acn60"
      },
      "source": [
        "#### 36. Extract the integer part of a random array using 5 different methods (★★☆) \n",
        "(**hint**: %, np.floor, np.ceil, astype, np.trunc)"
      ]
    },
    {
      "cell_type": "code",
      "execution_count": 38,
      "metadata": {
        "id": "iFsiuoBxcn60",
        "colab": {
          "base_uri": "https://localhost:8080/"
        },
        "outputId": "7ad1c3c0-e0a6-4646-cdbb-20d94052fb98"
      },
      "outputs": [
        {
          "output_type": "stream",
          "name": "stdout",
          "text": [
            "[5.10194394 7.63328637 1.73919153 4.52445538 8.98191366 6.89283121\n",
            " 2.85970004 4.2086349  5.67920747 9.67631586]\n",
            "[5. 7. 1. 4. 8. 6. 2. 4. 5. 9.]\n",
            "[5. 7. 1. 4. 8. 6. 2. 4. 5. 9.]\n",
            "[5. 7. 1. 4. 8. 6. 2. 4. 5. 9.]\n",
            "[5 7 1 4 8 6 2 4 5 9]\n",
            "[5. 7. 1. 4. 8. 6. 2. 4. 5. 9.]\n"
          ]
        }
      ],
      "source": [
        "Z = np.random.uniform(0,10,10)\n",
        "print(Z)\n",
        "print (Z - Z%1)\n",
        "print (np.floor(Z))\n",
        "print (np.ceil(Z)-1)\n",
        "print (Z.astype(int))\n",
        "print(np.trunc(Z))"
      ]
    },
    {
      "cell_type": "markdown",
      "metadata": {
        "id": "Mx76Ob-Ncn60"
      },
      "source": [
        "#### 37. Create a 5x5 matrix with row values ranging from 0 to 4 (★★☆) \n",
        "(**hint**: np.arange)"
      ]
    },
    {
      "cell_type": "code",
      "execution_count": 39,
      "metadata": {
        "id": "L9JlCRqYcn60",
        "colab": {
          "base_uri": "https://localhost:8080/"
        },
        "outputId": "8ea07e95-a6b2-4d48-a3d1-40483ac4d411"
      },
      "outputs": [
        {
          "output_type": "execute_result",
          "data": {
            "text/plain": [
              "array([[0, 1, 2, 3, 4],\n",
              "       [0, 1, 2, 3, 4],\n",
              "       [0, 1, 2, 3, 4],\n",
              "       [0, 1, 2, 3, 4],\n",
              "       [0, 1, 2, 3, 4]])"
            ]
          },
          "metadata": {},
          "execution_count": 39
        }
      ],
      "source": [
        "A=np.arange(0,5)\n",
        "np.tile(A,(5,1))"
      ]
    },
    {
      "cell_type": "markdown",
      "metadata": {
        "id": "_qBD9oJScn60"
      },
      "source": [
        "#### 38. Consider a generator function that generates 10 integers and use it to build an array (★☆☆) \n",
        "(**hint**: np.fromiter)"
      ]
    },
    {
      "cell_type": "code",
      "execution_count": 40,
      "metadata": {
        "id": "szdH8PsXcn60",
        "colab": {
          "base_uri": "https://localhost:8080/"
        },
        "outputId": "db2d62da-6158-4a63-cf69-4fa8361633c1"
      },
      "outputs": [
        {
          "output_type": "stream",
          "name": "stdout",
          "text": [
            "[0. 1. 2. 3. 4. 5. 6. 7. 8. 9.]\n"
          ]
        }
      ],
      "source": [
        "def generate():\n",
        "    for i in range(10):\n",
        "        yield i\n",
        "j = np.fromiter(generate(),dtype=float,count=-1)\n",
        "print(j)"
      ]
    },
    {
      "cell_type": "markdown",
      "metadata": {
        "id": "5BV0owJpcn60"
      },
      "source": [
        "#### 39. Create a vector of size 10 with values ranging from 0 to 1, both excluded (★★☆) \n",
        "(**hint**: np.linspace)"
      ]
    },
    {
      "cell_type": "code",
      "execution_count": 41,
      "metadata": {
        "id": "kEe8dnK-cn61",
        "colab": {
          "base_uri": "https://localhost:8080/"
        },
        "outputId": "266a11c0-dc97-4c76-ba8f-eef44d50c03b"
      },
      "outputs": [
        {
          "output_type": "execute_result",
          "data": {
            "text/plain": [
              "array([0.09090909, 0.18181818, 0.27272727, 0.36363636, 0.45454545,\n",
              "       0.54545455, 0.63636364, 0.72727273, 0.81818182, 0.90909091])"
            ]
          },
          "metadata": {},
          "execution_count": 41
        }
      ],
      "source": [
        "np.linspace(0,1,11,endpoint=False)[1:]"
      ]
    },
    {
      "cell_type": "markdown",
      "metadata": {
        "id": "JykkmO_Xcn61"
      },
      "source": [
        "#### 40. Create a random vector of size 10 and sort it (★★☆) \n",
        "(**hint**: sort)"
      ]
    },
    {
      "cell_type": "code",
      "execution_count": 42,
      "metadata": {
        "id": "UnPSeJWecn61",
        "colab": {
          "base_uri": "https://localhost:8080/"
        },
        "outputId": "82e3614f-0bc2-40dc-ba01-83dbedc855a5"
      },
      "outputs": [
        {
          "output_type": "stream",
          "name": "stdout",
          "text": [
            "[0.17099072 0.23590537 0.34182884 0.36822585 0.56071049 0.56629399\n",
            " 0.65331494 0.88547565 0.96387126 0.97286421]\n"
          ]
        }
      ],
      "source": [
        "C=np.random.rand(10)\n",
        "print(np.sort(C))"
      ]
    },
    {
      "cell_type": "markdown",
      "metadata": {
        "id": "14DZOJ7jcn61"
      },
      "source": [
        "#### 41. How to sum a small array faster than np.sum? (★★☆) \n",
        "(**hint**: np.add.reduce)"
      ]
    },
    {
      "cell_type": "code",
      "execution_count": 43,
      "metadata": {
        "id": "IEuuwX_bcn61",
        "colab": {
          "base_uri": "https://localhost:8080/"
        },
        "outputId": "92361e75-7301-4869-9d13-31065b3953c5"
      },
      "outputs": [
        {
          "output_type": "execute_result",
          "data": {
            "text/plain": [
              "45"
            ]
          },
          "metadata": {},
          "execution_count": 43
        }
      ],
      "source": [
        "import functools as ft\n",
        "Z = np.arange(10)\n",
        "np.add.reduce(Z)"
      ]
    },
    {
      "cell_type": "markdown",
      "metadata": {
        "id": "m0XNyj5Qcn61"
      },
      "source": [
        "#### 42. Consider two random array A and B, check if they are equal (★★☆) \n",
        "(**hint**: np.allclose, np.array\\_equal)"
      ]
    },
    {
      "cell_type": "code",
      "execution_count": 44,
      "metadata": {
        "id": "i2vD4qANcn61",
        "colab": {
          "base_uri": "https://localhost:8080/"
        },
        "outputId": "4ab11cf6-f5fc-4cf3-a66d-db20fb87cb17"
      },
      "outputs": [
        {
          "output_type": "stream",
          "name": "stdout",
          "text": [
            "False\n"
          ]
        }
      ],
      "source": [
        "X = np.random.randint(0,5,10)\n",
        "Y = np.random.randint(0,5,10)\n",
        "equal = np.allclose(X,Y)\n",
        "print(equal)"
      ]
    },
    {
      "cell_type": "markdown",
      "metadata": {
        "id": "bmuxMAWZcn61"
      },
      "source": [
        "#### 43. Make an array immutable (read-only) (★★☆) \n",
        "(**hint**: flags.writeable)"
      ]
    },
    {
      "cell_type": "code",
      "execution_count": 45,
      "metadata": {
        "id": "LMuII5EMcn63"
      },
      "outputs": [],
      "source": [
        "X.flags.writeable = False"
      ]
    },
    {
      "cell_type": "markdown",
      "metadata": {
        "id": "HY1-2-GYcn63"
      },
      "source": [
        "#### 44. Consider a random 10x2 matrix representing cartesian coordinates, convert them to polar coordinates (★★☆) \n",
        "(**hint**: np.sqrt, np.arctan2)"
      ]
    },
    {
      "cell_type": "code",
      "execution_count": 46,
      "metadata": {
        "id": "o4uiJ6bXcn63",
        "colab": {
          "base_uri": "https://localhost:8080/"
        },
        "outputId": "de8c3204-540a-4f7b-8b3f-2855ad2ba175"
      },
      "outputs": [
        {
          "output_type": "execute_result",
          "data": {
            "text/plain": [
              "array([ 0.        ,  1.41421356,  2.82842712,  4.24264069,  5.65685425,\n",
              "        7.07106781,  8.48528137,  9.89949494, 11.3137085 , 12.72792206,\n",
              "       14.14213562, 15.55634919, 16.97056275, 18.38477631, 19.79898987,\n",
              "       21.21320344, 22.627417  , 24.04163056, 25.45584412, 26.87005769,\n",
              "       28.28427125, 29.69848481, 31.11269837, 32.52691193, 33.9411255 ,\n",
              "       35.35533906, 36.76955262, 38.18376618, 39.59797975, 41.01219331,\n",
              "       42.42640687, 43.84062043, 45.254834  , 46.66904756, 48.08326112,\n",
              "       49.49747468, 50.91168825, 52.32590181, 53.74011537, 55.15432893,\n",
              "       56.56854249, 57.98275606, 59.39696962, 60.81118318, 62.22539674,\n",
              "       63.63961031, 65.05382387, 66.46803743, 67.88225099, 69.29646456,\n",
              "        0.        ,  0.78539816,  0.78539816,  0.78539816,  0.78539816,\n",
              "        0.78539816,  0.78539816,  0.78539816,  0.78539816,  0.78539816,\n",
              "        0.78539816,  0.78539816,  0.78539816,  0.78539816,  0.78539816,\n",
              "        0.78539816,  0.78539816,  0.78539816,  0.78539816,  0.78539816,\n",
              "        0.78539816,  0.78539816,  0.78539816,  0.78539816,  0.78539816,\n",
              "        0.78539816,  0.78539816,  0.78539816,  0.78539816,  0.78539816,\n",
              "        0.78539816,  0.78539816,  0.78539816,  0.78539816,  0.78539816,\n",
              "        0.78539816,  0.78539816,  0.78539816,  0.78539816,  0.78539816,\n",
              "        0.78539816,  0.78539816,  0.78539816,  0.78539816,  0.78539816,\n",
              "        0.78539816,  0.78539816,  0.78539816,  0.78539816,  0.78539816])"
            ]
          },
          "metadata": {},
          "execution_count": 46
        }
      ],
      "source": [
        "Cart=np.arange(0,50)\n",
        "Cart=np.tile(Cart,(2,1))\n",
        "PolR=np.sqrt(Cart[0]**2+Cart[1]**2)\n",
        "PolT=np.arctan2(Cart[0],Cart[1])\n",
        "Pol=np.concatenate([PolR,PolT])\n",
        "Pol"
      ]
    },
    {
      "cell_type": "markdown",
      "metadata": {
        "id": "xwT3GKn9cn63"
      },
      "source": [
        "#### 45. Create random vector of size 10 and replace the maximum value by 0 (★★☆) \n",
        "(**hint**: argmax)"
      ]
    },
    {
      "cell_type": "code",
      "execution_count": 47,
      "metadata": {
        "id": "S9ciovJ2cn63",
        "colab": {
          "base_uri": "https://localhost:8080/"
        },
        "outputId": "482edb06-76e7-4f80-a436-47db16b68fb7"
      },
      "outputs": [
        {
          "output_type": "stream",
          "name": "stdout",
          "text": [
            "[14  8  8 12  7 12  7  7 14  5]\n"
          ]
        },
        {
          "output_type": "execute_result",
          "data": {
            "text/plain": [
              "array([ 0,  8,  8, 12,  7, 12,  7,  7, 14,  5])"
            ]
          },
          "metadata": {},
          "execution_count": 47
        }
      ],
      "source": [
        "Vec=np.random.randint(5,16,10)\n",
        "print(Vec)\n",
        "Vec[np.argmax(Vec)]=0\n",
        "Vec"
      ]
    },
    {
      "cell_type": "markdown",
      "metadata": {
        "id": "GLytuDvLcn63"
      },
      "source": [
        "#### 46. Create a structured array with `x` and `y` coordinates covering the \\[0,1\\]x\\[0,1\\] area (★★☆) \n",
        "(**hint**: np.meshgrid)"
      ]
    },
    {
      "cell_type": "code",
      "execution_count": 48,
      "metadata": {
        "id": "3c0Sk4Hlcn63",
        "colab": {
          "base_uri": "https://localhost:8080/"
        },
        "outputId": "3be51c04-a19f-4fe5-aa4f-43f6f7fbe69a"
      },
      "outputs": [
        {
          "output_type": "stream",
          "name": "stdout",
          "text": [
            "[[0 1]\n",
            " [0 1]]\n",
            "[[0 0]\n",
            " [1 1]]\n"
          ]
        }
      ],
      "source": [
        "x=[0,1]\n",
        "y=[0,1]\n",
        "Xax,Yax=np.meshgrid(x,y)\n",
        "print(Xax)\n",
        "print(Yax)"
      ]
    },
    {
      "cell_type": "markdown",
      "metadata": {
        "id": "n32p5XUCcn63"
      },
      "source": [
        "####  47. Given two arrays, X and Y, construct the Cauchy matrix C (Cij =1/(xi - yj)) \n",
        "(**hint**: np.subtract.outer)"
      ]
    },
    {
      "cell_type": "code",
      "execution_count": 49,
      "metadata": {
        "id": "Pgb41PiHcn63",
        "colab": {
          "base_uri": "https://localhost:8080/"
        },
        "outputId": "768a6292-09bf-46b7-efa7-fb0931465075"
      },
      "outputs": [
        {
          "output_type": "execute_result",
          "data": {
            "text/plain": [
              "array([[0.06666667, 0.11111111, 0.05555556, 0.0625    , 0.05882353,\n",
              "        0.1       , 0.05555556, 0.05263158, 0.05882353, 0.1       ],\n",
              "       [0.11111111, 0.33333333, 0.08333333, 0.1       , 0.09090909,\n",
              "        0.25      , 0.08333333, 0.07692308, 0.09090909, 0.25      ],\n",
              "       [0.125     , 0.5       , 0.09090909, 0.11111111, 0.1       ,\n",
              "        0.33333333, 0.09090909, 0.08333333, 0.1       , 0.33333333],\n",
              "       [0.07142857, 0.125     , 0.05882353, 0.06666667, 0.0625    ,\n",
              "        0.11111111, 0.05882353, 0.05555556, 0.0625    , 0.11111111],\n",
              "       [0.07692308, 0.14285714, 0.0625    , 0.07142857, 0.06666667,\n",
              "        0.125     , 0.0625    , 0.05882353, 0.06666667, 0.125     ],\n",
              "       [0.07142857, 0.125     , 0.05882353, 0.06666667, 0.0625    ,\n",
              "        0.11111111, 0.05882353, 0.05555556, 0.0625    , 0.11111111],\n",
              "       [0.07142857, 0.125     , 0.05882353, 0.06666667, 0.0625    ,\n",
              "        0.11111111, 0.05882353, 0.05555556, 0.0625    , 0.11111111],\n",
              "       [0.14285714, 1.        , 0.1       , 0.125     , 0.11111111,\n",
              "        0.5       , 0.1       , 0.09090909, 0.11111111, 0.5       ],\n",
              "       [0.05882353, 0.09090909, 0.05      , 0.05555556, 0.05263158,\n",
              "        0.08333333, 0.05      , 0.04761905, 0.05263158, 0.08333333],\n",
              "       [0.09090909, 0.2       , 0.07142857, 0.08333333, 0.07692308,\n",
              "        0.16666667, 0.07142857, 0.06666667, 0.07692308, 0.16666667]])"
            ]
          },
          "metadata": {},
          "execution_count": 49
        }
      ],
      "source": [
        "Y = np.random.randint(0,11,10)\n",
        "X = np.random.randint(11,22,10)\n",
        "Y = np.tile(Y,(10,1))\n",
        "X  = np.tile(X,(10,1)).T\n",
        "C = 1/(X - Y)\n",
        "C"
      ]
    },
    {
      "cell_type": "markdown",
      "metadata": {
        "id": "TErVDHYWcn64"
      },
      "source": [
        "#### 48. Print the minimum and maximum representable value for each numpy scalar type (★★☆) \n",
        "(**hint**: np.iinfo, np.finfo, eps)"
      ]
    },
    {
      "cell_type": "code",
      "execution_count": 50,
      "metadata": {
        "id": "DWp1xiv6cn64",
        "colab": {
          "base_uri": "https://localhost:8080/"
        },
        "outputId": "80205e47-c526-4ee8-dd28-23075427ace3"
      },
      "outputs": [
        {
          "output_type": "stream",
          "name": "stdout",
          "text": [
            "-128\n",
            "127\n",
            "-2147483648\n",
            "2147483647\n",
            "-9223372036854775808\n",
            "9223372036854775807\n",
            "\n",
            "**** \t ****\n",
            "\n",
            "-3.4028235e+38\n",
            "3.4028235e+38\n",
            "1.1920929e-07\n",
            "-1.7976931348623157e+308\n",
            "1.7976931348623157e+308\n",
            "2.220446049250313e-16\n"
          ]
        }
      ],
      "source": [
        "for dtype in [np.int8, np.int32, np.int64]:\n",
        "    print(np.iinfo(dtype).min)\n",
        "    print(np.iinfo(dtype).max)\n",
        "\n",
        "print(\"\\n**** \\t ****\\n\")\n",
        "for dtype in [np.float32, np.float64]:\n",
        "    print(np.finfo(dtype).min)\n",
        "    print(np.finfo(dtype).max)\n",
        "    print(np.finfo(dtype).eps)"
      ]
    },
    {
      "cell_type": "markdown",
      "metadata": {
        "id": "LMvxOiOdcn64"
      },
      "source": [
        "#### 49. How to print all the values of an array? (★★☆) \n",
        "(**hint**: np.set\\_printoptions)"
      ]
    },
    {
      "cell_type": "code",
      "execution_count": 51,
      "metadata": {
        "id": "64vtoWPtcn64",
        "colab": {
          "base_uri": "https://localhost:8080/"
        },
        "outputId": "e3ace7df-9746-4b43-80ad-5ef5562200d7"
      },
      "outputs": [
        {
          "output_type": "execute_result",
          "data": {
            "text/plain": [
              "array([[ 1,  2,  3,  4,  5,  6,  7,  8,  9],\n",
              "       [10, 11, 12, 13, 14, 15, 16, 17, 18],\n",
              "       [19, 20, 21, 22, 23, 24, 25, 26, 27],\n",
              "       [28, 29, 30, 31, 32, 33, 34, 35, 36],\n",
              "       [37, 38, 39, 40, 41, 42, 43, 44, 45],\n",
              "       [46, 47, 48, 49, 50, 51, 52, 53, 54],\n",
              "       [55, 56, 57, 58, 59, 60, 61, 62, 63],\n",
              "       [64, 65, 66, 67, 68, 69, 70, 71, 72],\n",
              "       [73, 74, 75, 76, 77, 78, 79, 80, 81]])"
            ]
          },
          "metadata": {},
          "execution_count": 51
        }
      ],
      "source": [
        "np.set_printoptions(threshold=1000)\n",
        "np.arange(1,82).reshape(9,9)"
      ]
    },
    {
      "cell_type": "markdown",
      "metadata": {
        "id": "BsoJXcGccn64"
      },
      "source": [
        "#### 50. How to find the closest value (to a given scalar) in a vector? (★★☆) \n",
        "(**hint**: argmin)"
      ]
    },
    {
      "cell_type": "code",
      "execution_count": 52,
      "metadata": {
        "id": "rIPJW86Tcn64",
        "colab": {
          "base_uri": "https://localhost:8080/"
        },
        "outputId": "8fa8fb45-3d63-4d69-903b-07c5e645bcbc"
      },
      "outputs": [
        {
          "output_type": "stream",
          "name": "stdout",
          "text": [
            "[8.57967307 5.6279729  2.68832297 4.77688576 4.2214271  6.0800912\n",
            " 7.18789459 4.6204037  3.86755485 0.53834636]\n",
            "2.6883229662811834\n"
          ]
        }
      ],
      "source": [
        "from numpy.lib.index_tricks import index_exp\n",
        "Arra = np.random.uniform(0,10,10)\n",
        "scalar = 3\n",
        "arr_sub = np.abs(Arra - 3)\n",
        "indx = arr_sub.argmin()\n",
        "print(Arra)\n",
        "print(Arra[indx])"
      ]
    },
    {
      "cell_type": "markdown",
      "metadata": {
        "id": "VrkF7Itlcn64"
      },
      "source": [
        "#### 51. Create a structured array representing a position (x,y) and a color (r,g,b) (★★☆) \n",
        "(**hint**: dtype)"
      ]
    },
    {
      "cell_type": "code",
      "execution_count": 53,
      "metadata": {
        "id": "4mXPkw7ycn64",
        "colab": {
          "base_uri": "https://localhost:8080/"
        },
        "outputId": "6e312d82-2239-4d37-ba75-234720a2e48a"
      },
      "outputs": [
        {
          "output_type": "stream",
          "name": "stdout",
          "text": [
            "[((0., 0.), (0., 0., 0.)) ((0., 0.), (0., 0., 0.))\n",
            " ((0., 0.), (0., 0., 0.)) ((0., 0.), (0., 0., 0.))\n",
            " ((0., 0.), (0., 0., 0.)) ((0., 0.), (0., 0., 0.))\n",
            " ((0., 0.), (0., 0., 0.)) ((0., 0.), (0., 0., 0.))\n",
            " ((0., 0.), (0., 0., 0.)) ((0., 0.), (0., 0., 0.))]\n"
          ]
        },
        {
          "output_type": "stream",
          "name": "stderr",
          "text": [
            "/usr/local/lib/python3.7/dist-packages/ipykernel_launcher.py:5: FutureWarning: Passing (type, 1) or '1type' as a synonym of type is deprecated; in a future version of numpy, it will be understood as (type, (1,)) / '(1,)type'.\n",
            "  \"\"\"\n"
          ]
        }
      ],
      "source": [
        "Z = np.zeros(10, [ ('position', [ ('x', float, 1),\n",
        "                                  ('y', float, 1)]),\n",
        "                   ('color',    [ ('r', float, 1),\n",
        "                                  ('g', float, 1),\n",
        "                                  ('b', float, 1)])])\n",
        "print(Z)"
      ]
    },
    {
      "cell_type": "markdown",
      "metadata": {
        "id": "a-85_6Cpcn64"
      },
      "source": [
        "#### 52. Consider a random vector with shape (100,2) representing coordinates, find point by point distances (★★☆) \n",
        "(**hint**: np.atleast\\_2d, T, np.sqrt)"
      ]
    },
    {
      "cell_type": "code",
      "execution_count": 54,
      "metadata": {
        "id": "43m05fAmcn65",
        "colab": {
          "base_uri": "https://localhost:8080/"
        },
        "outputId": "5314a4f3-042b-46f1-f0a5-20d229f98b41"
      },
      "outputs": [
        {
          "output_type": "execute_result",
          "data": {
            "text/plain": [
              "array([[0.        , 0.53789156, 0.7261725 , ..., 0.24592131, 0.88819662,\n",
              "        0.7127398 ],\n",
              "       [0.53789156, 0.        , 0.28297837, ..., 0.29409557, 0.5580639 ,\n",
              "        0.2758163 ],\n",
              "       [0.7261725 , 0.28297837, 0.        , ..., 0.51396764, 0.28939728,\n",
              "        0.01424678],\n",
              "       ...,\n",
              "       [0.24592131, 0.29409557, 0.51396764, ..., 0.        , 0.72506153,\n",
              "        0.50180294],\n",
              "       [0.88819662, 0.5580639 , 0.28939728, ..., 0.72506153, 0.        ,\n",
              "        0.2911708 ],\n",
              "       [0.7127398 , 0.2758163 , 0.01424678, ..., 0.50180294, 0.2911708 ,\n",
              "        0.        ]])"
            ]
          },
          "metadata": {},
          "execution_count": 54
        }
      ],
      "source": [
        "arr = np.random.random((100,2))\n",
        "X,Y = np.atleast_2d(arr[:,0],arr[:,1])\n",
        "D = np.sqrt( (X-X.T)**2 + (Y-Y.T)**2)\n",
        "D"
      ]
    },
    {
      "cell_type": "markdown",
      "metadata": {
        "id": "GPJJ28z4cn65"
      },
      "source": [
        "#### 53. How to convert a float (32 bits) array into an integer (32 bits) in place? \n",
        "(**hint**: astype(copy=False))"
      ]
    },
    {
      "cell_type": "code",
      "execution_count": 55,
      "metadata": {
        "id": "Nramj3Wbcn65",
        "colab": {
          "base_uri": "https://localhost:8080/"
        },
        "outputId": "1f4ffc27-b915-4b59-b39f-e170e6624305"
      },
      "outputs": [
        {
          "output_type": "execute_result",
          "data": {
            "text/plain": [
              "array([1, 1, 1, 1, 1, 1, 1, 1, 1, 1])"
            ]
          },
          "metadata": {},
          "execution_count": 55
        }
      ],
      "source": [
        "Fl=np.ones(10,dtype=float)\n",
        "Fl.astype(int)"
      ]
    },
    {
      "cell_type": "markdown",
      "metadata": {
        "id": "D_-6p8Q-cn65"
      },
      "source": [
        "#### 54. How to read the following file? (★★☆) \n",
        "(**hint**: np.genfromtxt)"
      ]
    },
    {
      "cell_type": "markdown",
      "metadata": {
        "id": "XW1x9QDZcn65"
      },
      "source": [
        "```\n",
        "1, 2, 3, 4, 5\n",
        "6,  ,  , 7, 8\n",
        " ,  , 9,10,11\n",
        "```"
      ]
    },
    {
      "cell_type": "code",
      "execution_count": 56,
      "metadata": {
        "id": "nwQBEG-jcn65",
        "colab": {
          "base_uri": "https://localhost:8080/"
        },
        "outputId": "982f926e-5af9-498c-d653-b40afdecf1b7"
      },
      "outputs": [
        {
          "output_type": "stream",
          "name": "stdout",
          "text": [
            "[[ 1  2  3  4  5]\n",
            " [ 6 -1 -1  7  8]\n",
            " [-1 -1  9 10 11]]\n"
          ]
        },
        {
          "output_type": "stream",
          "name": "stderr",
          "text": [
            "/usr/local/lib/python3.7/dist-packages/ipykernel_launcher.py:5: DeprecationWarning: `np.int` is a deprecated alias for the builtin `int`. To silence this warning, use `int` by itself. Doing this will not modify any behavior and is safe. When replacing `np.int`, you may wish to use e.g. `np.int64` or `np.int32` to specify the precision. If you wish to review your current use, check the release note link for additional information.\n",
            "Deprecated in NumPy 1.20; for more details and guidance: https://numpy.org/devdocs/release/1.20.0-notes.html#deprecations\n",
            "  \"\"\"\n"
          ]
        }
      ],
      "source": [
        "from io import StringIO\n",
        "Fil = StringIO(\"\"\"1, 2, 3, 4, 5\\n\n",
        "                6,  ,  , 7, 8\\n\n",
        "                 ,  , 9,10,11\\n\"\"\")\n",
        "J = np.genfromtxt(Fil, delimiter=\",\", dtype=np.int)\n",
        "print(J)"
      ]
    },
    {
      "cell_type": "markdown",
      "metadata": {
        "id": "uaOWaPKWcn65"
      },
      "source": [
        "#### 55. What is the equivalent of enumerate for numpy arrays? (★★☆) \n",
        "(**hint**: np.ndenumerate, np.ndindex)"
      ]
    },
    {
      "cell_type": "code",
      "execution_count": 57,
      "metadata": {
        "id": "PK8Cq7bbcn65",
        "colab": {
          "base_uri": "https://localhost:8080/"
        },
        "outputId": "b6d06e33-405e-44d6-aa7d-93ce36b00639"
      },
      "outputs": [
        {
          "output_type": "stream",
          "name": "stdout",
          "text": [
            "(0, 0) 0\n",
            "(0, 1) 1\n",
            "(0, 2) 2\n",
            "(1, 0) 3\n",
            "(1, 1) 4\n",
            "(1, 2) 5\n",
            "(2, 0) 6\n",
            "(2, 1) 7\n",
            "(2, 2) 8\n"
          ]
        }
      ],
      "source": [
        "k = np.arange(9).reshape(3,3)\n",
        "for inde, val in np.ndenumerate(k):\n",
        "    print(inde, val)"
      ]
    },
    {
      "cell_type": "markdown",
      "metadata": {
        "id": "_-HTwALpcn66"
      },
      "source": [
        "#### 56. Generate a generic 2D Gaussian-like array (★★☆) \n",
        "(**hint**: np.meshgrid, np.exp)"
      ]
    },
    {
      "cell_type": "code",
      "execution_count": 58,
      "metadata": {
        "id": "UxLLdt5Vcn66",
        "colab": {
          "base_uri": "https://localhost:8080/",
          "height": 363
        },
        "outputId": "5c46acbd-8537-4089-99a6-14e4f9aff67b"
      },
      "outputs": [
        {
          "output_type": "execute_result",
          "data": {
            "text/plain": [
              "          0         1         2         3         4         5         6  \\\n",
              "0  0.367879  0.448221  0.519795  0.573753  0.602798  0.602798  0.573753   \n",
              "1  0.448221  0.546108  0.633313  0.699056  0.734444  0.734444  0.699056   \n",
              "2  0.519795  0.633313  0.734444  0.810684  0.851723  0.851723  0.810684   \n",
              "3  0.573753  0.699056  0.810684  0.894839  0.940138  0.940138  0.894839   \n",
              "4  0.602798  0.734444  0.851723  0.940138  0.987730  0.987730  0.940138   \n",
              "5  0.602798  0.734444  0.851723  0.940138  0.987730  0.987730  0.940138   \n",
              "6  0.573753  0.699056  0.810684  0.894839  0.940138  0.940138  0.894839   \n",
              "7  0.519795  0.633313  0.734444  0.810684  0.851723  0.851723  0.810684   \n",
              "8  0.448221  0.546108  0.633313  0.699056  0.734444  0.734444  0.699056   \n",
              "9  0.367879  0.448221  0.519795  0.573753  0.602798  0.602798  0.573753   \n",
              "\n",
              "          7         8         9  \n",
              "0  0.519795  0.448221  0.367879  \n",
              "1  0.633313  0.546108  0.448221  \n",
              "2  0.734444  0.633313  0.519795  \n",
              "3  0.810684  0.699056  0.573753  \n",
              "4  0.851723  0.734444  0.602798  \n",
              "5  0.851723  0.734444  0.602798  \n",
              "6  0.810684  0.699056  0.573753  \n",
              "7  0.734444  0.633313  0.519795  \n",
              "8  0.633313  0.546108  0.448221  \n",
              "9  0.519795  0.448221  0.367879  "
            ],
            "text/html": [
              "\n",
              "  <div id=\"df-394d82de-ba5f-4b91-9f40-9e76245c05ab\">\n",
              "    <div class=\"colab-df-container\">\n",
              "      <div>\n",
              "<style scoped>\n",
              "    .dataframe tbody tr th:only-of-type {\n",
              "        vertical-align: middle;\n",
              "    }\n",
              "\n",
              "    .dataframe tbody tr th {\n",
              "        vertical-align: top;\n",
              "    }\n",
              "\n",
              "    .dataframe thead th {\n",
              "        text-align: right;\n",
              "    }\n",
              "</style>\n",
              "<table border=\"1\" class=\"dataframe\">\n",
              "  <thead>\n",
              "    <tr style=\"text-align: right;\">\n",
              "      <th></th>\n",
              "      <th>0</th>\n",
              "      <th>1</th>\n",
              "      <th>2</th>\n",
              "      <th>3</th>\n",
              "      <th>4</th>\n",
              "      <th>5</th>\n",
              "      <th>6</th>\n",
              "      <th>7</th>\n",
              "      <th>8</th>\n",
              "      <th>9</th>\n",
              "    </tr>\n",
              "  </thead>\n",
              "  <tbody>\n",
              "    <tr>\n",
              "      <th>0</th>\n",
              "      <td>0.367879</td>\n",
              "      <td>0.448221</td>\n",
              "      <td>0.519795</td>\n",
              "      <td>0.573753</td>\n",
              "      <td>0.602798</td>\n",
              "      <td>0.602798</td>\n",
              "      <td>0.573753</td>\n",
              "      <td>0.519795</td>\n",
              "      <td>0.448221</td>\n",
              "      <td>0.367879</td>\n",
              "    </tr>\n",
              "    <tr>\n",
              "      <th>1</th>\n",
              "      <td>0.448221</td>\n",
              "      <td>0.546108</td>\n",
              "      <td>0.633313</td>\n",
              "      <td>0.699056</td>\n",
              "      <td>0.734444</td>\n",
              "      <td>0.734444</td>\n",
              "      <td>0.699056</td>\n",
              "      <td>0.633313</td>\n",
              "      <td>0.546108</td>\n",
              "      <td>0.448221</td>\n",
              "    </tr>\n",
              "    <tr>\n",
              "      <th>2</th>\n",
              "      <td>0.519795</td>\n",
              "      <td>0.633313</td>\n",
              "      <td>0.734444</td>\n",
              "      <td>0.810684</td>\n",
              "      <td>0.851723</td>\n",
              "      <td>0.851723</td>\n",
              "      <td>0.810684</td>\n",
              "      <td>0.734444</td>\n",
              "      <td>0.633313</td>\n",
              "      <td>0.519795</td>\n",
              "    </tr>\n",
              "    <tr>\n",
              "      <th>3</th>\n",
              "      <td>0.573753</td>\n",
              "      <td>0.699056</td>\n",
              "      <td>0.810684</td>\n",
              "      <td>0.894839</td>\n",
              "      <td>0.940138</td>\n",
              "      <td>0.940138</td>\n",
              "      <td>0.894839</td>\n",
              "      <td>0.810684</td>\n",
              "      <td>0.699056</td>\n",
              "      <td>0.573753</td>\n",
              "    </tr>\n",
              "    <tr>\n",
              "      <th>4</th>\n",
              "      <td>0.602798</td>\n",
              "      <td>0.734444</td>\n",
              "      <td>0.851723</td>\n",
              "      <td>0.940138</td>\n",
              "      <td>0.987730</td>\n",
              "      <td>0.987730</td>\n",
              "      <td>0.940138</td>\n",
              "      <td>0.851723</td>\n",
              "      <td>0.734444</td>\n",
              "      <td>0.602798</td>\n",
              "    </tr>\n",
              "    <tr>\n",
              "      <th>5</th>\n",
              "      <td>0.602798</td>\n",
              "      <td>0.734444</td>\n",
              "      <td>0.851723</td>\n",
              "      <td>0.940138</td>\n",
              "      <td>0.987730</td>\n",
              "      <td>0.987730</td>\n",
              "      <td>0.940138</td>\n",
              "      <td>0.851723</td>\n",
              "      <td>0.734444</td>\n",
              "      <td>0.602798</td>\n",
              "    </tr>\n",
              "    <tr>\n",
              "      <th>6</th>\n",
              "      <td>0.573753</td>\n",
              "      <td>0.699056</td>\n",
              "      <td>0.810684</td>\n",
              "      <td>0.894839</td>\n",
              "      <td>0.940138</td>\n",
              "      <td>0.940138</td>\n",
              "      <td>0.894839</td>\n",
              "      <td>0.810684</td>\n",
              "      <td>0.699056</td>\n",
              "      <td>0.573753</td>\n",
              "    </tr>\n",
              "    <tr>\n",
              "      <th>7</th>\n",
              "      <td>0.519795</td>\n",
              "      <td>0.633313</td>\n",
              "      <td>0.734444</td>\n",
              "      <td>0.810684</td>\n",
              "      <td>0.851723</td>\n",
              "      <td>0.851723</td>\n",
              "      <td>0.810684</td>\n",
              "      <td>0.734444</td>\n",
              "      <td>0.633313</td>\n",
              "      <td>0.519795</td>\n",
              "    </tr>\n",
              "    <tr>\n",
              "      <th>8</th>\n",
              "      <td>0.448221</td>\n",
              "      <td>0.546108</td>\n",
              "      <td>0.633313</td>\n",
              "      <td>0.699056</td>\n",
              "      <td>0.734444</td>\n",
              "      <td>0.734444</td>\n",
              "      <td>0.699056</td>\n",
              "      <td>0.633313</td>\n",
              "      <td>0.546108</td>\n",
              "      <td>0.448221</td>\n",
              "    </tr>\n",
              "    <tr>\n",
              "      <th>9</th>\n",
              "      <td>0.367879</td>\n",
              "      <td>0.448221</td>\n",
              "      <td>0.519795</td>\n",
              "      <td>0.573753</td>\n",
              "      <td>0.602798</td>\n",
              "      <td>0.602798</td>\n",
              "      <td>0.573753</td>\n",
              "      <td>0.519795</td>\n",
              "      <td>0.448221</td>\n",
              "      <td>0.367879</td>\n",
              "    </tr>\n",
              "  </tbody>\n",
              "</table>\n",
              "</div>\n",
              "      <button class=\"colab-df-convert\" onclick=\"convertToInteractive('df-394d82de-ba5f-4b91-9f40-9e76245c05ab')\"\n",
              "              title=\"Convert this dataframe to an interactive table.\"\n",
              "              style=\"display:none;\">\n",
              "        \n",
              "  <svg xmlns=\"http://www.w3.org/2000/svg\" height=\"24px\"viewBox=\"0 0 24 24\"\n",
              "       width=\"24px\">\n",
              "    <path d=\"M0 0h24v24H0V0z\" fill=\"none\"/>\n",
              "    <path d=\"M18.56 5.44l.94 2.06.94-2.06 2.06-.94-2.06-.94-.94-2.06-.94 2.06-2.06.94zm-11 1L8.5 8.5l.94-2.06 2.06-.94-2.06-.94L8.5 2.5l-.94 2.06-2.06.94zm10 10l.94 2.06.94-2.06 2.06-.94-2.06-.94-.94-2.06-.94 2.06-2.06.94z\"/><path d=\"M17.41 7.96l-1.37-1.37c-.4-.4-.92-.59-1.43-.59-.52 0-1.04.2-1.43.59L10.3 9.45l-7.72 7.72c-.78.78-.78 2.05 0 2.83L4 21.41c.39.39.9.59 1.41.59.51 0 1.02-.2 1.41-.59l7.78-7.78 2.81-2.81c.8-.78.8-2.07 0-2.86zM5.41 20L4 18.59l7.72-7.72 1.47 1.35L5.41 20z\"/>\n",
              "  </svg>\n",
              "      </button>\n",
              "      \n",
              "  <style>\n",
              "    .colab-df-container {\n",
              "      display:flex;\n",
              "      flex-wrap:wrap;\n",
              "      gap: 12px;\n",
              "    }\n",
              "\n",
              "    .colab-df-convert {\n",
              "      background-color: #E8F0FE;\n",
              "      border: none;\n",
              "      border-radius: 50%;\n",
              "      cursor: pointer;\n",
              "      display: none;\n",
              "      fill: #1967D2;\n",
              "      height: 32px;\n",
              "      padding: 0 0 0 0;\n",
              "      width: 32px;\n",
              "    }\n",
              "\n",
              "    .colab-df-convert:hover {\n",
              "      background-color: #E2EBFA;\n",
              "      box-shadow: 0px 1px 2px rgba(60, 64, 67, 0.3), 0px 1px 3px 1px rgba(60, 64, 67, 0.15);\n",
              "      fill: #174EA6;\n",
              "    }\n",
              "\n",
              "    [theme=dark] .colab-df-convert {\n",
              "      background-color: #3B4455;\n",
              "      fill: #D2E3FC;\n",
              "    }\n",
              "\n",
              "    [theme=dark] .colab-df-convert:hover {\n",
              "      background-color: #434B5C;\n",
              "      box-shadow: 0px 1px 3px 1px rgba(0, 0, 0, 0.15);\n",
              "      filter: drop-shadow(0px 1px 2px rgba(0, 0, 0, 0.3));\n",
              "      fill: #FFFFFF;\n",
              "    }\n",
              "  </style>\n",
              "\n",
              "      <script>\n",
              "        const buttonEl =\n",
              "          document.querySelector('#df-394d82de-ba5f-4b91-9f40-9e76245c05ab button.colab-df-convert');\n",
              "        buttonEl.style.display =\n",
              "          google.colab.kernel.accessAllowed ? 'block' : 'none';\n",
              "\n",
              "        async function convertToInteractive(key) {\n",
              "          const element = document.querySelector('#df-394d82de-ba5f-4b91-9f40-9e76245c05ab');\n",
              "          const dataTable =\n",
              "            await google.colab.kernel.invokeFunction('convertToInteractive',\n",
              "                                                     [key], {});\n",
              "          if (!dataTable) return;\n",
              "\n",
              "          const docLinkHtml = 'Like what you see? Visit the ' +\n",
              "            '<a target=\"_blank\" href=https://colab.research.google.com/notebooks/data_table.ipynb>data table notebook</a>'\n",
              "            + ' to learn more about interactive tables.';\n",
              "          element.innerHTML = '';\n",
              "          dataTable['output_type'] = 'display_data';\n",
              "          await google.colab.output.renderOutput(dataTable, element);\n",
              "          const docLink = document.createElement('div');\n",
              "          docLink.innerHTML = docLinkHtml;\n",
              "          element.appendChild(docLink);\n",
              "        }\n",
              "      </script>\n",
              "    </div>\n",
              "  </div>\n",
              "  "
            ]
          },
          "metadata": {},
          "execution_count": 58
        }
      ],
      "source": [
        "import pandas as pd\n",
        "sigma,myu = 1.0,0.0\n",
        "\n",
        "X,Y  = np.meshgrid(np.linspace(-1,1,10),np.linspace(-1,1,10))\n",
        "D = np.sqrt(X**2+Y**2)\n",
        "G = np.exp(-(D-myu)**2/(2*sigma**2))\n",
        "pd.DataFrame(G)"
      ]
    },
    {
      "cell_type": "markdown",
      "metadata": {
        "id": "epUsO1cccn66"
      },
      "source": [
        "#### 57. How to randomly place p elements in a 2D array? (★★☆) \n",
        "(**hint**: np.put, np.random.choice)"
      ]
    },
    {
      "cell_type": "code",
      "execution_count": 59,
      "metadata": {
        "id": "QWQfWQmfcn66",
        "colab": {
          "base_uri": "https://localhost:8080/"
        },
        "outputId": "7542392b-f374-4fb0-b517-6a90605fa956"
      },
      "outputs": [
        {
          "output_type": "execute_result",
          "data": {
            "text/plain": [
              "array([[0., 0., 0., 0., 1., 0., 0., 0., 0., 1.],\n",
              "       [0., 0., 0., 0., 0., 0., 0., 0., 0., 0.],\n",
              "       [0., 0., 0., 0., 0., 0., 0., 0., 0., 0.],\n",
              "       [0., 0., 0., 0., 0., 0., 0., 0., 0., 0.],\n",
              "       [0., 0., 0., 0., 0., 0., 0., 0., 0., 0.],\n",
              "       [0., 0., 0., 0., 0., 0., 0., 0., 0., 0.],\n",
              "       [0., 0., 0., 0., 0., 0., 0., 0., 0., 0.],\n",
              "       [0., 0., 0., 0., 0., 0., 0., 0., 0., 0.],\n",
              "       [0., 0., 0., 0., 0., 0., 1., 0., 0., 0.],\n",
              "       [0., 0., 0., 0., 0., 0., 0., 0., 0., 0.]])"
            ]
          },
          "metadata": {},
          "execution_count": 59
        }
      ],
      "source": [
        "p=3\n",
        "Z = np.zeros((10,10))\n",
        "np.put(Z, np.random.choice(range(10*10), p),1)\n",
        "Z"
      ]
    },
    {
      "cell_type": "markdown",
      "metadata": {
        "id": "qUFP8z-dcn66"
      },
      "source": [
        "#### 58. Subtract the mean of each row of a matrix (★★☆) \n",
        "(**hint**: mean(axis=,keepdims=))"
      ]
    },
    {
      "cell_type": "code",
      "execution_count": 60,
      "metadata": {
        "id": "gEfjvzTHcn66",
        "colab": {
          "base_uri": "https://localhost:8080/",
          "height": 537
        },
        "outputId": "c7963a2b-9727-497d-e84d-c48fc963637f"
      },
      "outputs": [
        {
          "output_type": "stream",
          "name": "stdout",
          "text": [
            "[[ 0  1  2  3  4  5  6  7  8  9]\n",
            " [10 11 12 13 14 15 16 17 18 19]\n",
            " [20 21 22 23 24 25 26 27 28 29]\n",
            " [30 31 32 33 34 35 36 37 38 39]\n",
            " [40 41 42 43 44 45 46 47 48 49]\n",
            " [50 51 52 53 54 55 56 57 58 59]\n",
            " [60 61 62 63 64 65 66 67 68 69]\n",
            " [70 71 72 73 74 75 76 77 78 79]\n",
            " [80 81 82 83 84 85 86 87 88 89]\n",
            " [90 91 92 93 94 95 96 97 98 99]]\n"
          ]
        },
        {
          "output_type": "execute_result",
          "data": {
            "text/plain": [
              "     0    1    2    3    4    5    6    7    8    9\n",
              "0 -4.5 -3.5 -2.5 -1.5 -0.5  0.5  1.5  2.5  3.5  4.5\n",
              "1 -4.5 -3.5 -2.5 -1.5 -0.5  0.5  1.5  2.5  3.5  4.5\n",
              "2 -4.5 -3.5 -2.5 -1.5 -0.5  0.5  1.5  2.5  3.5  4.5\n",
              "3 -4.5 -3.5 -2.5 -1.5 -0.5  0.5  1.5  2.5  3.5  4.5\n",
              "4 -4.5 -3.5 -2.5 -1.5 -0.5  0.5  1.5  2.5  3.5  4.5\n",
              "5 -4.5 -3.5 -2.5 -1.5 -0.5  0.5  1.5  2.5  3.5  4.5\n",
              "6 -4.5 -3.5 -2.5 -1.5 -0.5  0.5  1.5  2.5  3.5  4.5\n",
              "7 -4.5 -3.5 -2.5 -1.5 -0.5  0.5  1.5  2.5  3.5  4.5\n",
              "8 -4.5 -3.5 -2.5 -1.5 -0.5  0.5  1.5  2.5  3.5  4.5\n",
              "9 -4.5 -3.5 -2.5 -1.5 -0.5  0.5  1.5  2.5  3.5  4.5"
            ],
            "text/html": [
              "\n",
              "  <div id=\"df-5b109ea9-11d8-438e-894a-32defbc0a913\">\n",
              "    <div class=\"colab-df-container\">\n",
              "      <div>\n",
              "<style scoped>\n",
              "    .dataframe tbody tr th:only-of-type {\n",
              "        vertical-align: middle;\n",
              "    }\n",
              "\n",
              "    .dataframe tbody tr th {\n",
              "        vertical-align: top;\n",
              "    }\n",
              "\n",
              "    .dataframe thead th {\n",
              "        text-align: right;\n",
              "    }\n",
              "</style>\n",
              "<table border=\"1\" class=\"dataframe\">\n",
              "  <thead>\n",
              "    <tr style=\"text-align: right;\">\n",
              "      <th></th>\n",
              "      <th>0</th>\n",
              "      <th>1</th>\n",
              "      <th>2</th>\n",
              "      <th>3</th>\n",
              "      <th>4</th>\n",
              "      <th>5</th>\n",
              "      <th>6</th>\n",
              "      <th>7</th>\n",
              "      <th>8</th>\n",
              "      <th>9</th>\n",
              "    </tr>\n",
              "  </thead>\n",
              "  <tbody>\n",
              "    <tr>\n",
              "      <th>0</th>\n",
              "      <td>-4.5</td>\n",
              "      <td>-3.5</td>\n",
              "      <td>-2.5</td>\n",
              "      <td>-1.5</td>\n",
              "      <td>-0.5</td>\n",
              "      <td>0.5</td>\n",
              "      <td>1.5</td>\n",
              "      <td>2.5</td>\n",
              "      <td>3.5</td>\n",
              "      <td>4.5</td>\n",
              "    </tr>\n",
              "    <tr>\n",
              "      <th>1</th>\n",
              "      <td>-4.5</td>\n",
              "      <td>-3.5</td>\n",
              "      <td>-2.5</td>\n",
              "      <td>-1.5</td>\n",
              "      <td>-0.5</td>\n",
              "      <td>0.5</td>\n",
              "      <td>1.5</td>\n",
              "      <td>2.5</td>\n",
              "      <td>3.5</td>\n",
              "      <td>4.5</td>\n",
              "    </tr>\n",
              "    <tr>\n",
              "      <th>2</th>\n",
              "      <td>-4.5</td>\n",
              "      <td>-3.5</td>\n",
              "      <td>-2.5</td>\n",
              "      <td>-1.5</td>\n",
              "      <td>-0.5</td>\n",
              "      <td>0.5</td>\n",
              "      <td>1.5</td>\n",
              "      <td>2.5</td>\n",
              "      <td>3.5</td>\n",
              "      <td>4.5</td>\n",
              "    </tr>\n",
              "    <tr>\n",
              "      <th>3</th>\n",
              "      <td>-4.5</td>\n",
              "      <td>-3.5</td>\n",
              "      <td>-2.5</td>\n",
              "      <td>-1.5</td>\n",
              "      <td>-0.5</td>\n",
              "      <td>0.5</td>\n",
              "      <td>1.5</td>\n",
              "      <td>2.5</td>\n",
              "      <td>3.5</td>\n",
              "      <td>4.5</td>\n",
              "    </tr>\n",
              "    <tr>\n",
              "      <th>4</th>\n",
              "      <td>-4.5</td>\n",
              "      <td>-3.5</td>\n",
              "      <td>-2.5</td>\n",
              "      <td>-1.5</td>\n",
              "      <td>-0.5</td>\n",
              "      <td>0.5</td>\n",
              "      <td>1.5</td>\n",
              "      <td>2.5</td>\n",
              "      <td>3.5</td>\n",
              "      <td>4.5</td>\n",
              "    </tr>\n",
              "    <tr>\n",
              "      <th>5</th>\n",
              "      <td>-4.5</td>\n",
              "      <td>-3.5</td>\n",
              "      <td>-2.5</td>\n",
              "      <td>-1.5</td>\n",
              "      <td>-0.5</td>\n",
              "      <td>0.5</td>\n",
              "      <td>1.5</td>\n",
              "      <td>2.5</td>\n",
              "      <td>3.5</td>\n",
              "      <td>4.5</td>\n",
              "    </tr>\n",
              "    <tr>\n",
              "      <th>6</th>\n",
              "      <td>-4.5</td>\n",
              "      <td>-3.5</td>\n",
              "      <td>-2.5</td>\n",
              "      <td>-1.5</td>\n",
              "      <td>-0.5</td>\n",
              "      <td>0.5</td>\n",
              "      <td>1.5</td>\n",
              "      <td>2.5</td>\n",
              "      <td>3.5</td>\n",
              "      <td>4.5</td>\n",
              "    </tr>\n",
              "    <tr>\n",
              "      <th>7</th>\n",
              "      <td>-4.5</td>\n",
              "      <td>-3.5</td>\n",
              "      <td>-2.5</td>\n",
              "      <td>-1.5</td>\n",
              "      <td>-0.5</td>\n",
              "      <td>0.5</td>\n",
              "      <td>1.5</td>\n",
              "      <td>2.5</td>\n",
              "      <td>3.5</td>\n",
              "      <td>4.5</td>\n",
              "    </tr>\n",
              "    <tr>\n",
              "      <th>8</th>\n",
              "      <td>-4.5</td>\n",
              "      <td>-3.5</td>\n",
              "      <td>-2.5</td>\n",
              "      <td>-1.5</td>\n",
              "      <td>-0.5</td>\n",
              "      <td>0.5</td>\n",
              "      <td>1.5</td>\n",
              "      <td>2.5</td>\n",
              "      <td>3.5</td>\n",
              "      <td>4.5</td>\n",
              "    </tr>\n",
              "    <tr>\n",
              "      <th>9</th>\n",
              "      <td>-4.5</td>\n",
              "      <td>-3.5</td>\n",
              "      <td>-2.5</td>\n",
              "      <td>-1.5</td>\n",
              "      <td>-0.5</td>\n",
              "      <td>0.5</td>\n",
              "      <td>1.5</td>\n",
              "      <td>2.5</td>\n",
              "      <td>3.5</td>\n",
              "      <td>4.5</td>\n",
              "    </tr>\n",
              "  </tbody>\n",
              "</table>\n",
              "</div>\n",
              "      <button class=\"colab-df-convert\" onclick=\"convertToInteractive('df-5b109ea9-11d8-438e-894a-32defbc0a913')\"\n",
              "              title=\"Convert this dataframe to an interactive table.\"\n",
              "              style=\"display:none;\">\n",
              "        \n",
              "  <svg xmlns=\"http://www.w3.org/2000/svg\" height=\"24px\"viewBox=\"0 0 24 24\"\n",
              "       width=\"24px\">\n",
              "    <path d=\"M0 0h24v24H0V0z\" fill=\"none\"/>\n",
              "    <path d=\"M18.56 5.44l.94 2.06.94-2.06 2.06-.94-2.06-.94-.94-2.06-.94 2.06-2.06.94zm-11 1L8.5 8.5l.94-2.06 2.06-.94-2.06-.94L8.5 2.5l-.94 2.06-2.06.94zm10 10l.94 2.06.94-2.06 2.06-.94-2.06-.94-.94-2.06-.94 2.06-2.06.94z\"/><path d=\"M17.41 7.96l-1.37-1.37c-.4-.4-.92-.59-1.43-.59-.52 0-1.04.2-1.43.59L10.3 9.45l-7.72 7.72c-.78.78-.78 2.05 0 2.83L4 21.41c.39.39.9.59 1.41.59.51 0 1.02-.2 1.41-.59l7.78-7.78 2.81-2.81c.8-.78.8-2.07 0-2.86zM5.41 20L4 18.59l7.72-7.72 1.47 1.35L5.41 20z\"/>\n",
              "  </svg>\n",
              "      </button>\n",
              "      \n",
              "  <style>\n",
              "    .colab-df-container {\n",
              "      display:flex;\n",
              "      flex-wrap:wrap;\n",
              "      gap: 12px;\n",
              "    }\n",
              "\n",
              "    .colab-df-convert {\n",
              "      background-color: #E8F0FE;\n",
              "      border: none;\n",
              "      border-radius: 50%;\n",
              "      cursor: pointer;\n",
              "      display: none;\n",
              "      fill: #1967D2;\n",
              "      height: 32px;\n",
              "      padding: 0 0 0 0;\n",
              "      width: 32px;\n",
              "    }\n",
              "\n",
              "    .colab-df-convert:hover {\n",
              "      background-color: #E2EBFA;\n",
              "      box-shadow: 0px 1px 2px rgba(60, 64, 67, 0.3), 0px 1px 3px 1px rgba(60, 64, 67, 0.15);\n",
              "      fill: #174EA6;\n",
              "    }\n",
              "\n",
              "    [theme=dark] .colab-df-convert {\n",
              "      background-color: #3B4455;\n",
              "      fill: #D2E3FC;\n",
              "    }\n",
              "\n",
              "    [theme=dark] .colab-df-convert:hover {\n",
              "      background-color: #434B5C;\n",
              "      box-shadow: 0px 1px 3px 1px rgba(0, 0, 0, 0.15);\n",
              "      filter: drop-shadow(0px 1px 2px rgba(0, 0, 0, 0.3));\n",
              "      fill: #FFFFFF;\n",
              "    }\n",
              "  </style>\n",
              "\n",
              "      <script>\n",
              "        const buttonEl =\n",
              "          document.querySelector('#df-5b109ea9-11d8-438e-894a-32defbc0a913 button.colab-df-convert');\n",
              "        buttonEl.style.display =\n",
              "          google.colab.kernel.accessAllowed ? 'block' : 'none';\n",
              "\n",
              "        async function convertToInteractive(key) {\n",
              "          const element = document.querySelector('#df-5b109ea9-11d8-438e-894a-32defbc0a913');\n",
              "          const dataTable =\n",
              "            await google.colab.kernel.invokeFunction('convertToInteractive',\n",
              "                                                     [key], {});\n",
              "          if (!dataTable) return;\n",
              "\n",
              "          const docLinkHtml = 'Like what you see? Visit the ' +\n",
              "            '<a target=\"_blank\" href=https://colab.research.google.com/notebooks/data_table.ipynb>data table notebook</a>'\n",
              "            + ' to learn more about interactive tables.';\n",
              "          element.innerHTML = '';\n",
              "          dataTable['output_type'] = 'display_data';\n",
              "          await google.colab.output.renderOutput(dataTable, element);\n",
              "          const docLink = document.createElement('div');\n",
              "          docLink.innerHTML = docLinkHtml;\n",
              "          element.appendChild(docLink);\n",
              "        }\n",
              "      </script>\n",
              "    </div>\n",
              "  </div>\n",
              "  "
            ]
          },
          "metadata": {},
          "execution_count": 60
        }
      ],
      "source": [
        "Mat=np.arange(0,100).reshape(10,10)\n",
        "print(Mat)\n",
        "pd.DataFrame(Mat-np.mean(Mat,axis=1,keepdims=True))"
      ]
    },
    {
      "cell_type": "markdown",
      "metadata": {
        "id": "NId_ky3ncn67"
      },
      "source": [
        "#### 59. How to sort an array by the nth column? (★★☆) \n",
        "(**hint**: argsort)"
      ]
    },
    {
      "cell_type": "code",
      "execution_count": 61,
      "metadata": {
        "id": "RTJn_waCcn67",
        "colab": {
          "base_uri": "https://localhost:8080/"
        },
        "outputId": "070378ed-2f20-49a3-af54-579465306582"
      },
      "outputs": [
        {
          "output_type": "stream",
          "name": "stdout",
          "text": [
            "[[2 6 7 1 7]\n",
            " [8 9 1 1 4]\n",
            " [0 2 3 2 7]\n",
            " [0 6 9 2 6]\n",
            " [3 1 7 6 4]]\n"
          ]
        },
        {
          "output_type": "execute_result",
          "data": {
            "text/plain": [
              "array([[2, 6, 7, 1, 7],\n",
              "       [8, 9, 1, 1, 4],\n",
              "       [0, 2, 3, 2, 7],\n",
              "       [0, 6, 9, 2, 6],\n",
              "       [3, 1, 7, 6, 4]])"
            ]
          },
          "metadata": {},
          "execution_count": 61
        }
      ],
      "source": [
        "n=3\n",
        "Z = np.random.randint(0,10,(5,5))\n",
        "print(Z)\n",
        "Z[Z[:,n].argsort()]"
      ]
    },
    {
      "cell_type": "markdown",
      "metadata": {
        "id": "j_RlajeBcn67"
      },
      "source": [
        "#### 60. How to tell if a given 2D array has null columns? (★★☆) \n",
        "(**hint**: any, ~)"
      ]
    },
    {
      "cell_type": "code",
      "execution_count": 62,
      "metadata": {
        "id": "ovx8OeHFcn67",
        "colab": {
          "base_uri": "https://localhost:8080/"
        },
        "outputId": "af3452ef-27de-481d-c90c-e0c9b0a30225"
      },
      "outputs": [
        {
          "output_type": "stream",
          "name": "stdout",
          "text": [
            "[[ True False False False  True  True  True  True  True  True]\n",
            " [ True False  True  True False False False  True False  True]\n",
            " [False False  True False False  True False False False  True]]\n",
            "[[False  True  True  True False False False False False False]\n",
            " [False  True False False  True  True  True False  True False]\n",
            " [ True  True False  True  True False  True  True  True False]]\n"
          ]
        },
        {
          "output_type": "execute_result",
          "data": {
            "text/plain": [
              "array([ True, False,  True,  True,  True,  True,  True,  True,  True,\n",
              "        True])"
            ]
          },
          "metadata": {},
          "execution_count": 62
        }
      ],
      "source": [
        "Z = np.random.randint(0,3,(3,10))\n",
        "Z[:,1] = 0\n",
        "Z = Z.astype(bool)\n",
        "print(Z)\n",
        "print(~Z)\n",
        "(Z).any(axis = 0)"
      ]
    },
    {
      "cell_type": "markdown",
      "metadata": {
        "id": "TaOwcErrcn67"
      },
      "source": [
        "#### 61. Find the nearest value from a given value in an array (★★☆) \n",
        "(**hint**: np.abs, argmin, flat)"
      ]
    },
    {
      "cell_type": "code",
      "execution_count": 63,
      "metadata": {
        "id": "XWXZgfdPcn67",
        "colab": {
          "base_uri": "https://localhost:8080/"
        },
        "outputId": "9d344748-d756-424d-c421-7c88ef6e9e50"
      },
      "outputs": [
        {
          "output_type": "stream",
          "name": "stdout",
          "text": [
            "[88.4741774  67.30560537 37.74917366 89.5051111  36.12610687 94.7131499\n",
            " 23.56751872 83.09820217 40.01576852 46.59526101 68.56278088 15.80503303\n",
            " 19.86397551 55.47498231 94.6005512  18.94096732 93.38468178  7.92774847\n",
            " 90.59132319 94.2814681 ]\n"
          ]
        },
        {
          "output_type": "execute_result",
          "data": {
            "text/plain": [
              "7.927748469074913"
            ]
          },
          "metadata": {},
          "execution_count": 63
        }
      ],
      "source": [
        "Z=np.random.uniform(0,100,(20))\n",
        "print(Z)\n",
        "Val=7\n",
        "dif=np.abs(Z-Val)\n",
        "Z[dif.argmin()]"
      ]
    },
    {
      "cell_type": "markdown",
      "metadata": {
        "id": "lzb5qLAFcn68"
      },
      "source": [
        "#### 62. Considering two arrays with shape (1,3) and (3,1), how to compute their sum using an iterator? (★★☆) \n",
        "(**hint**: np.nditer)"
      ]
    },
    {
      "cell_type": "code",
      "execution_count": 64,
      "metadata": {
        "id": "qzwrjRGUcn68",
        "colab": {
          "base_uri": "https://localhost:8080/"
        },
        "outputId": "441e2cf1-763a-4bb9-904f-fee9a83fc8d5"
      },
      "outputs": [
        {
          "output_type": "stream",
          "name": "stdout",
          "text": [
            "2\n",
            "3\n",
            "1\n",
            "0\n",
            "1\n",
            "2\n",
            "1\n",
            "4\n",
            "1\n",
            "0\n",
            "15\n"
          ]
        }
      ],
      "source": [
        "Aa=np.random.randint(0,5,10)\n",
        "total=0\n",
        "for x in np.nditer(Aa):\n",
        "  print(x)\n",
        "  total+=x\n",
        "print(total)"
      ]
    },
    {
      "cell_type": "markdown",
      "metadata": {
        "id": "AjwBJksXcn68"
      },
      "source": [
        "#### 63. Create an array class that has a name attribute (★★☆) \n",
        "(**hint**: class method)"
      ]
    },
    {
      "cell_type": "code",
      "execution_count": 65,
      "metadata": {
        "id": "gN8ZcUWrcn69"
      },
      "outputs": [],
      "source": [
        "class NameArr:\n",
        "  def __init__(self,namearr):\n",
        "    self.namearr=namearr\n",
        "\n",
        "  def __str__(self):\n",
        "    return('Name')"
      ]
    },
    {
      "cell_type": "markdown",
      "metadata": {
        "id": "X_IFeaVQcn69"
      },
      "source": [
        "#### 64. Consider a given vector, how to add 1 to each element indexed by a second vector (be careful with repeated indices)? (★★★) \n",
        "(**hint**: np.bincount | np.add.at)"
      ]
    },
    {
      "cell_type": "code",
      "execution_count": 66,
      "metadata": {
        "id": "rqvV9CWWcn69",
        "colab": {
          "base_uri": "https://localhost:8080/"
        },
        "outputId": "9ef4f4f0-c8d1-4611-fb04-b7676894dc26"
      },
      "outputs": [
        {
          "output_type": "stream",
          "name": "stdout",
          "text": [
            "[ 3  4  5  7 10 11]\n"
          ]
        }
      ],
      "source": [
        "arr = np.array([2,3,4,7,9,11])\n",
        "np.add.at(arr, [0,1,2,4], 1)\n",
        "print(arr)"
      ]
    },
    {
      "cell_type": "markdown",
      "metadata": {
        "id": "PCFLxti3cn69"
      },
      "source": [
        "#### 65. How to accumulate elements of a vector (X) to an array (F) based on an index list (I)? (★★★) \n",
        "(**hint**: np.bincount)"
      ]
    },
    {
      "cell_type": "code",
      "execution_count": 67,
      "metadata": {
        "id": "bmKTrgTpcn69",
        "colab": {
          "base_uri": "https://localhost:8080/"
        },
        "outputId": "4cdc7f79-edad-4f3a-cc3d-8b1e4fa3e90f"
      },
      "outputs": [
        {
          "output_type": "stream",
          "name": "stdout",
          "text": [
            "[1 2 3 1 2 1 3 0 2 2]\n",
            "[1 3 4 2]\n"
          ]
        }
      ],
      "source": [
        "randarr=np.random.randint(0,4,10)\n",
        "binar=np.bincount(randarr)\n",
        "print(randarr)\n",
        "print(binar)"
      ]
    },
    {
      "cell_type": "markdown",
      "metadata": {
        "id": "_FZI2fNScn6-"
      },
      "source": [
        "#### 66. Considering a (w,h,3) image of (dtype=ubyte), compute the number of unique colors (★★★) \n",
        "(**hint**: np.unique)"
      ]
    },
    {
      "cell_type": "code",
      "execution_count": 72,
      "metadata": {
        "id": "RUCDIKaWcn6-",
        "colab": {
          "base_uri": "https://localhost:8080/"
        },
        "outputId": "4793613a-e89d-486b-d47b-80e3e02f25cb"
      },
      "outputs": [
        {
          "output_type": "stream",
          "name": "stdout",
          "text": [
            "8\n"
          ]
        }
      ],
      "source": [
        "w,h = 16,16\n",
        "I = np.random.randint(0,2,(h,w,3)).astype(np.ubyte)\n",
        "F = I[...,0]*(256*256) + I[...,1]*256 +I[...,2]\n",
        "n = len(np.unique(F))\n",
        "print(n)"
      ]
    },
    {
      "cell_type": "markdown",
      "metadata": {
        "id": "7kHqDfGMcn6-"
      },
      "source": [
        "#### 67. Considering a four dimensions array, how to get sum over the last two axis at once? (★★★) \n",
        "(**hint**: sum(axis=(-2,-1)))"
      ]
    },
    {
      "cell_type": "code",
      "execution_count": 68,
      "metadata": {
        "id": "t7IPW7Vdcn6-",
        "colab": {
          "base_uri": "https://localhost:8080/"
        },
        "outputId": "bb735b76-cff7-4825-c9c5-bce82f21d921"
      },
      "outputs": [
        {
          "output_type": "execute_result",
          "data": {
            "text/plain": [
              "array([[2416, 2178, 2238, 1515],\n",
              "       [1967, 2265, 1763, 1672],\n",
              "       [2050, 1787, 2158, 1894],\n",
              "       [2404, 2265, 1678, 2500]])"
            ]
          },
          "metadata": {},
          "execution_count": 68
        }
      ],
      "source": [
        "Bb=np.random.randint(0,256,(4,4,4,4))\n",
        "Bb.sum(axis=(-2,-1))"
      ]
    },
    {
      "cell_type": "markdown",
      "metadata": {
        "id": "5_bI4npFcn6-"
      },
      "source": [
        "#### 68. Considering a one-dimensional vector D, how to compute means of subsets of D using a vector S of same size describing subset  indices? (★★★) \n",
        "(**hint**: np.bincount)"
      ]
    },
    {
      "cell_type": "code",
      "execution_count": 69,
      "metadata": {
        "id": "kJfxhqsEcn6-",
        "colab": {
          "base_uri": "https://localhost:8080/"
        },
        "outputId": "8fa18ee0-0948-46e5-ee68-47f91d46dbf9"
      },
      "outputs": [
        {
          "output_type": "execute_result",
          "data": {
            "text/plain": [
              "[0.5, 1.5, 2.5, 3.5, 4.5, 5.5, 6.5]"
            ]
          },
          "metadata": {},
          "execution_count": 69
        }
      ],
      "source": [
        "MainArr=np.arange(0,10)\n",
        "Subset=3\n",
        "MeanAr=[]\n",
        "for i in range(len(MainArr)-3):\n",
        "  MeanAr.append(MainArr[i:i+2].mean())\n",
        "MeanAr"
      ]
    },
    {
      "cell_type": "markdown",
      "metadata": {
        "id": "BUcgQXnacn6-"
      },
      "source": [
        "#### 69. How to get the diagonal of a dot product? (★★★) \n",
        "(**hint**: np.diag)"
      ]
    },
    {
      "cell_type": "code",
      "execution_count": 70,
      "metadata": {
        "id": "2ELRC_mlcn6-",
        "colab": {
          "base_uri": "https://localhost:8080/"
        },
        "outputId": "4fb7cf28-38dc-471f-e218-f9ed10e8226f"
      },
      "outputs": [
        {
          "output_type": "execute_result",
          "data": {
            "text/plain": [
              "array([102,  79, 148])"
            ]
          },
          "metadata": {},
          "execution_count": 70
        }
      ],
      "source": [
        "Vec1=np.random.randint(0,10,(3,3))\n",
        "Vec2=np.random.randint(0,10,(3,3))\n",
        "mat=np.dot(Vec1,Vec2)\n",
        "np.diag(mat)"
      ]
    },
    {
      "cell_type": "markdown",
      "metadata": {
        "id": "564AnFrWcn6-"
      },
      "source": [
        "#### 70. Consider the vector \\[1, 2, 3, 4, 5\\], how to build a new vector with 3 consecutive zeros interleaved between each value? (★★★) \n",
        "(**hint**: array\\[::4\\])"
      ]
    },
    {
      "cell_type": "code",
      "execution_count": 71,
      "metadata": {
        "id": "OUcCnRIycn6-",
        "colab": {
          "base_uri": "https://localhost:8080/"
        },
        "outputId": "f4ab7d09-6309-4c1f-942a-36f59e29ea07"
      },
      "outputs": [
        {
          "output_type": "execute_result",
          "data": {
            "text/plain": [
              "array([1, 0, 0, 0, 2, 0, 0, 0, 3, 0, 0, 0, 4, 0, 0, 0, 5])"
            ]
          },
          "metadata": {},
          "execution_count": 71
        }
      ],
      "source": [
        "Arry=np.array([1,2,3,4,5])\n",
        "zer=np.zeros(17)\n",
        "zer[::4]=Arry\n",
        "zer.astype(int)"
      ]
    },
    {
      "cell_type": "markdown",
      "metadata": {
        "id": "bTlxRfLUcn6_"
      },
      "source": [
        "#### 71. Consider an array of dimension (5,5,3), how to mulitply it by an array with dimensions (5,5)? (★★★) \n",
        "(**hint**: array\\[:, :, None\\])"
      ]
    },
    {
      "cell_type": "code",
      "execution_count": 73,
      "metadata": {
        "collapsed": true,
        "id": "3_1I83gWcn6_",
        "colab": {
          "base_uri": "https://localhost:8080/"
        },
        "outputId": "f13abf87-c75a-49f7-b63b-b89d1abe8562"
      },
      "outputs": [
        {
          "output_type": "stream",
          "name": "stdout",
          "text": [
            "[[[2. 2. 2.]\n",
            "  [2. 2. 2.]\n",
            "  [2. 2. 2.]\n",
            "  [2. 2. 2.]\n",
            "  [2. 2. 2.]]\n",
            "\n",
            " [[2. 2. 2.]\n",
            "  [2. 2. 2.]\n",
            "  [2. 2. 2.]\n",
            "  [2. 2. 2.]\n",
            "  [2. 2. 2.]]\n",
            "\n",
            " [[2. 2. 2.]\n",
            "  [2. 2. 2.]\n",
            "  [2. 2. 2.]\n",
            "  [2. 2. 2.]\n",
            "  [2. 2. 2.]]\n",
            "\n",
            " [[2. 2. 2.]\n",
            "  [2. 2. 2.]\n",
            "  [2. 2. 2.]\n",
            "  [2. 2. 2.]\n",
            "  [2. 2. 2.]]\n",
            "\n",
            " [[2. 2. 2.]\n",
            "  [2. 2. 2.]\n",
            "  [2. 2. 2.]\n",
            "  [2. 2. 2.]\n",
            "  [2. 2. 2.]]]\n"
          ]
        }
      ],
      "source": [
        "A = np.ones((5,5,3))\n",
        "B = 2*np.ones((5,5))\n",
        "print(A * B[:,:,None])"
      ]
    },
    {
      "cell_type": "markdown",
      "metadata": {
        "id": "WhpB4ipBcn6_"
      },
      "source": [
        "#### 72. How to swap two rows of an array? (★★★) \n",
        "(**hint**: array\\[\\[\\]\\] = array\\[\\[\\]\\])"
      ]
    },
    {
      "cell_type": "code",
      "execution_count": 74,
      "metadata": {
        "id": "4zLb5kGtcn6_",
        "colab": {
          "base_uri": "https://localhost:8080/"
        },
        "outputId": "3d2c8a34-8b02-4315-f8ff-7ca50997421b"
      },
      "outputs": [
        {
          "output_type": "stream",
          "name": "stdout",
          "text": [
            "[[ 5  6  7  8  9]\n",
            " [ 0  1  2  3  4]\n",
            " [10 11 12 13 14]\n",
            " [15 16 17 18 19]\n",
            " [20 21 22 23 24]]\n"
          ]
        }
      ],
      "source": [
        "A = np.arange(25).reshape(5,5)\n",
        "A[[0,1]] = A[[1,0]]\n",
        "print(A)"
      ]
    },
    {
      "cell_type": "markdown",
      "metadata": {
        "id": "Fj_ZpdeZcn6_"
      },
      "source": [
        "#### 73. Consider a set of 10 triplets describing 10 triangles (with shared vertices), find the set of unique line segments composing all the  triangles (★★★) \n",
        "(**hint**: repeat, np.roll, np.sort, view, np.unique)"
      ]
    },
    {
      "cell_type": "code",
      "execution_count": 75,
      "metadata": {
        "id": "vALO3DPfcn6_",
        "colab": {
          "base_uri": "https://localhost:8080/"
        },
        "outputId": "f09d7978-fce9-47b6-fcc7-17de6cf46e79"
      },
      "outputs": [
        {
          "output_type": "stream",
          "name": "stdout",
          "text": [
            "[( 1,  3) ( 1, 45) ( 3, 45) ( 6, 33) ( 6, 68) ( 8, 21) ( 8, 30) (14, 39)\n",
            " (14, 79) (17, 62) (17, 80) (17, 88) (18, 63) (18, 78) (21, 30) (25, 74)\n",
            " (25, 88) (33, 68) (39, 79) (41, 42) (41, 95) (42, 95) (59, 62) (59, 75)\n",
            " (62, 75) (62, 80) (62, 88) (63, 78) (74, 88)]\n"
          ]
        }
      ],
      "source": [
        "faces = np.random.randint(0,100,(10,3))\n",
        "F = np.roll(faces.repeat(2,axis=1),-1,axis=1)\n",
        "F = F.reshape(len(F)*3,2)\n",
        "F = np.sort(F,axis=1)\n",
        "G = F.view( dtype=[('p0',F.dtype),('p1',F.dtype)] )\n",
        "G = np.unique(G)\n",
        "print(G)"
      ]
    },
    {
      "cell_type": "markdown",
      "metadata": {
        "id": "_qPv8KVLcn6_"
      },
      "source": [
        "#### 74. Given an array C that is a bincount, how to produce an array A such that np.bincount(A) == C? (★★★) \n",
        "(**hint**: np.repeat)"
      ]
    },
    {
      "cell_type": "code",
      "execution_count": 76,
      "metadata": {
        "id": "irtBxJH4cn6_",
        "colab": {
          "base_uri": "https://localhost:8080/"
        },
        "outputId": "aea47528-ca88-4c5e-eb64-1360f654569c"
      },
      "outputs": [
        {
          "output_type": "stream",
          "name": "stdout",
          "text": [
            "[1 1 2 3 4 4 6]\n"
          ]
        }
      ],
      "source": [
        "C = np.bincount([1,1,2,3,4,4,6])\n",
        "A = np.repeat(np.arange(len(C)), C)\n",
        "print(A)"
      ]
    },
    {
      "cell_type": "markdown",
      "metadata": {
        "id": "22O2cpqzcn6_"
      },
      "source": [
        "#### 75. How to compute averages using a sliding window over an array? (★★★) \n",
        "(**hint**: np.cumsum)"
      ]
    },
    {
      "cell_type": "code",
      "execution_count": 77,
      "metadata": {
        "id": "xR2HhGZHcn7A",
        "colab": {
          "base_uri": "https://localhost:8080/"
        },
        "outputId": "6e70bdcf-43e9-4031-a499-e1ac8d3a48d8"
      },
      "outputs": [
        {
          "output_type": "stream",
          "name": "stdout",
          "text": [
            "[ 1.  2.  3.  4.  5.  6.  7.  8.  9. 10. 11. 12. 13. 14. 15. 16. 17. 18.]\n"
          ]
        }
      ],
      "source": [
        "def moving_average(a, n=3) :\n",
        "    ret = np.cumsum(a, dtype=float)\n",
        "    ret[n:] = ret[n:] - ret[:-n]\n",
        "    return ret[n - 1:] / n\n",
        "Z = np.arange(20)\n",
        "print(moving_average(Z, n=3))"
      ]
    },
    {
      "cell_type": "markdown",
      "metadata": {
        "id": "ujxJNX7ocn7A"
      },
      "source": [
        "#### 76. Consider a one-dimensional array Z, build a two-dimensional array whose first row is (Z\\[0\\],Z\\[1\\],Z\\[2\\]) and each subsequent row is  shifted by 1 (last row should be (Z\\[-3\\],Z\\[-2\\],Z\\[-1\\]) (★★★) \n",
        "(**hint**: from numpy.lib import stride_tricks)"
      ]
    },
    {
      "cell_type": "code",
      "execution_count": 78,
      "metadata": {
        "id": "egwMar5Gcn7A",
        "colab": {
          "base_uri": "https://localhost:8080/"
        },
        "outputId": "b8f03242-dd1e-4222-d2ed-c41e0f15bd4c"
      },
      "outputs": [
        {
          "output_type": "stream",
          "name": "stdout",
          "text": [
            "[[0 1 2]\n",
            " [1 2 3]\n",
            " [2 3 4]\n",
            " [3 4 5]\n",
            " [4 5 6]\n",
            " [5 6 7]\n",
            " [6 7 8]\n",
            " [7 8 9]]\n"
          ]
        }
      ],
      "source": [
        "from numpy.lib import stride_tricks\n",
        "\n",
        "def rolling(a, window):\n",
        "    shape = (a.size - window + 1, window)\n",
        "    strides = (a.itemsize, a.itemsize)\n",
        "    return stride_tricks.as_strided(a, shape=shape, strides=strides)\n",
        "Z = rolling(np.arange(10), 3)\n",
        "print(Z)"
      ]
    },
    {
      "cell_type": "markdown",
      "metadata": {
        "id": "d1PV3peBcn7A"
      },
      "source": [
        "#### 77. How to negate a boolean, or to change the sign of a float inplace? (★★★) \n",
        "(**hint**: np.logical_not, np.negative)"
      ]
    },
    {
      "cell_type": "code",
      "execution_count": 79,
      "metadata": {
        "id": "ExPYS63Ecn7A",
        "colab": {
          "base_uri": "https://localhost:8080/"
        },
        "outputId": "2914e507-c7b4-4277-bfec-1b67506dbdb5"
      },
      "outputs": [
        {
          "output_type": "execute_result",
          "data": {
            "text/plain": [
              "array([-0.77656191, -0.00579307, -0.40586335, -0.54564758,  0.39198316,\n",
              "        0.25705452,  0.3849587 , -0.86144129, -0.30194723, -0.75827872,\n",
              "        0.57704033,  0.77752857,  0.73980031, -0.51179956,  0.78526837,\n",
              "       -0.9857272 ,  0.66972642, -0.22650589, -0.54414552,  0.53085685,\n",
              "        0.46556771, -0.97386427, -0.45497791,  0.86519303,  0.48531314,\n",
              "        0.38134367,  0.89856578,  0.15193875,  0.97995248,  0.67921889,\n",
              "        0.67529176, -0.55111211, -0.85053155,  0.17875879, -0.37489444,\n",
              "        0.59603226,  0.94917364, -0.09168173, -0.47906392, -0.11201703,\n",
              "       -0.80088181,  0.91767777,  0.8820768 ,  0.69553602,  0.70056993,\n",
              "        0.69520603,  0.75205395, -0.02531029,  0.29376732,  0.64516973,\n",
              "       -0.57466077, -0.12640773, -0.99929186, -0.81545185,  0.67743833,\n",
              "        0.48365922,  0.79610142, -0.49056703, -0.36771553, -0.72036083,\n",
              "        0.98108131, -0.26809115, -0.90250889,  0.3890371 ,  0.34710601,\n",
              "        0.98668572,  0.67356521,  0.09222761,  0.13566724,  0.81045132,\n",
              "        0.7243492 , -0.9595793 ,  0.97531053,  0.57874057, -0.46803802,\n",
              "       -0.73568531, -0.15849072, -0.22875623, -0.31344414, -0.72853293,\n",
              "        0.79285261, -0.00921769,  0.09686722,  0.12537139, -0.48477552,\n",
              "       -0.40403469, -0.55063706,  0.99576277,  0.43608528,  0.51517327,\n",
              "        0.22421584, -0.54496149,  0.35961348, -0.60899135, -0.03635217,\n",
              "        0.26728714, -0.07889476,  0.47105787, -0.18900675,  0.92543392])"
            ]
          },
          "metadata": {},
          "execution_count": 79
        }
      ],
      "source": [
        "Z = np.random.randint(0,2,100)\n",
        "np.logical_not(Z, out=Z)\n",
        "\n",
        "Z = np.random.uniform(-1.0,1.0,100)\n",
        "np.negative(Z, out=Z)"
      ]
    },
    {
      "cell_type": "markdown",
      "metadata": {
        "id": "v5w5fWxPcn7A"
      },
      "source": [
        "#### 78. Consider 2 sets of points P0,P1 describing lines (2d) and a point p, how to compute distance from p to each line i  (P0\\[i\\],P1\\[i\\])? (★★★)"
      ]
    },
    {
      "cell_type": "code",
      "execution_count": 80,
      "metadata": {
        "id": "mS6gRhq9cn7A",
        "colab": {
          "base_uri": "https://localhost:8080/"
        },
        "outputId": "63e40984-3879-4fce-a48f-b7664adca5f9"
      },
      "outputs": [
        {
          "output_type": "stream",
          "name": "stdout",
          "text": [
            "[0.17073198 2.32879153 2.85699581 1.38879625 3.56513098 5.65527104\n",
            " 7.05352461 4.77904843 7.91279811 3.65370198]\n"
          ]
        }
      ],
      "source": [
        "def distance(P0, P1, p):\n",
        "    T = P1 - P0\n",
        "    L = (T**2).sum(axis=1)\n",
        "    U = -((P0[:,0]-p[...,0])*T[:,0] + (P0[:,1]-p[...,1])*T[:,1]) / L\n",
        "    U = U.reshape(len(U),1)\n",
        "    D = P0 + U*T - p\n",
        "    return np.sqrt((D**2).sum(axis=1))\n",
        "\n",
        "P0 = np.random.uniform(-10,10,(10,2))\n",
        "P1 = np.random.uniform(-10,10,(10,2))\n",
        "p  = np.random.uniform(-10,10,( 1,2))\n",
        "print(distance(P0, P1, p))"
      ]
    },
    {
      "cell_type": "markdown",
      "metadata": {
        "id": "kYaSJgjTcn7A"
      },
      "source": [
        "#### 79. Consider 2 sets of points P0,P1 describing lines (2d) and a set of points P, how to compute distance from each point j (P\\[j\\]) to each line i (P0\\[i\\],P1\\[i\\])? (★★★)"
      ]
    },
    {
      "cell_type": "code",
      "execution_count": 81,
      "metadata": {
        "id": "1yHhNujXcn7B",
        "colab": {
          "base_uri": "https://localhost:8080/"
        },
        "outputId": "aa3da048-d8c3-4533-886d-4e120a4036b2"
      },
      "outputs": [
        {
          "output_type": "stream",
          "name": "stdout",
          "text": [
            "[[10.94148881  5.81531685  5.43782067  4.78926749  3.43990269 10.3560438\n",
            "   3.60021355  7.54339592  8.31839454  5.31313522]\n",
            " [11.10564518  4.48248466  3.41694914  2.24686835  5.89592652  8.94897079\n",
            "   6.00079021  6.64802508  6.21070898  7.80158126]\n",
            " [10.94851353 10.87223914 12.72037661 13.61208709  4.79472201 15.65719555\n",
            "   4.41147709 11.14731233 15.87322651  3.05539831]\n",
            " [ 2.98796759  4.24696772  0.55005752  5.423851    4.1198413   0.6351574\n",
            "   4.68063698  4.19599291  3.05040863  1.73944678]\n",
            " [11.69857412  2.22284882  0.20141334  2.47469944 10.60117002  6.54476325\n",
            "  10.618305    5.23333322  2.41663924 12.55634983]\n",
            " [ 6.62565782  7.29798843 10.21146484 13.02041853  6.4044621  12.16704965\n",
            "   6.26489794  7.18253452 13.56335726  4.49580039]\n",
            " [13.74141047  6.51934909  4.74142887  2.35882398  7.10974308 10.92766237\n",
            "   7.3569095   8.96400148  7.40613889  8.91591656]\n",
            " [14.00038927  5.27594419  2.79147818  0.15134041  9.58309648  9.6087052\n",
            "   9.78064665  8.16345118  5.36560318 11.41768601]\n",
            " [14.5417034   3.14168549  0.61468125  4.58646414 13.99506172  7.33900923\n",
            "  14.10937761  6.82111008  1.79518259 15.87675215]\n",
            " [ 0.75590275  0.1752681   3.53455718  8.25338791  4.88926378  5.04873729\n",
            "   5.18056535  0.18265703  7.03423963  2.69062654]]\n"
          ]
        }
      ],
      "source": [
        "P0 = np.random.uniform(-10, 10, (10,2))\n",
        "P1 = np.random.uniform(-10,10,(10,2))\n",
        "p = np.random.uniform(-10, 10, (10,2))\n",
        "print(np.array([distance(P0,P1,p_i) for p_i in p]))"
      ]
    },
    {
      "cell_type": "markdown",
      "metadata": {
        "id": "q0lPG66Dcn7B"
      },
      "source": [
        "#### 80. Consider an arbitrary array, write a function that extract a subpart with a fixed shape and centered on a given element (pad with a `fill` value when necessary) (★★★) \n",
        "(**hint**: minimum, maximum)"
      ]
    },
    {
      "cell_type": "code",
      "execution_count": 82,
      "metadata": {
        "id": "63Hf4PgPcn7B",
        "colab": {
          "base_uri": "https://localhost:8080/"
        },
        "outputId": "f34d7fbd-a805-40da-e8ee-afebdd7d3c24"
      },
      "outputs": [
        {
          "output_type": "stream",
          "name": "stdout",
          "text": [
            "[[2 6 0 7 3 7 7 7 7 1]\n",
            " [3 9 1 0 9 5 3 2 1 3]\n",
            " [0 5 0 0 0 9 8 0 9 2]\n",
            " [1 0 1 0 5 4 3 9 3 8]\n",
            " [5 0 1 3 4 8 3 2 0 4]\n",
            " [8 9 3 3 1 2 7 1 7 0]\n",
            " [6 0 8 8 7 2 1 3 9 5]\n",
            " [2 9 2 3 9 4 2 1 9 6]\n",
            " [5 5 0 4 1 4 5 7 0 6]\n",
            " [3 9 0 8 1 2 3 4 0 7]]\n",
            "[[0 0 0 0 0]\n",
            " [0 2 6 0 7]\n",
            " [0 3 9 1 0]\n",
            " [0 0 5 0 0]\n",
            " [0 1 0 1 0]]\n"
          ]
        },
        {
          "output_type": "stream",
          "name": "stderr",
          "text": [
            "/usr/local/lib/python3.7/dist-packages/ipykernel_launcher.py:23: FutureWarning: Using a non-tuple sequence for multidimensional indexing is deprecated; use `arr[tuple(seq)]` instead of `arr[seq]`. In the future this will be interpreted as an array index, `arr[np.array(seq)]`, which will result either in an error or a different result.\n"
          ]
        }
      ],
      "source": [
        "Z = np.random.randint(0,10,(10,10))\n",
        "shape = (5,5)\n",
        "fill  = 0\n",
        "position = (1,1)\n",
        "\n",
        "R = np.ones(shape, dtype=Z.dtype)*fill\n",
        "P  = np.array(list(position)).astype(int)\n",
        "Rs = np.array(list(R.shape)).astype(int)\n",
        "Zs = np.array(list(Z.shape)).astype(int)\n",
        "\n",
        "R_start = np.zeros((len(shape),)).astype(int)\n",
        "R_stop  = np.array(list(shape)).astype(int)\n",
        "Z_start = (P-Rs//2)\n",
        "Z_stop  = (P+Rs//2)+Rs%2\n",
        "\n",
        "R_start = (R_start - np.minimum(Z_start,0)).tolist()\n",
        "Z_start = (np.maximum(Z_start,0)).tolist()\n",
        "R_stop = np.maximum(R_start, (R_stop - np.maximum(Z_stop-Zs,0))).tolist()\n",
        "Z_stop = (np.minimum(Z_stop,Zs)).tolist()\n",
        "\n",
        "r = [slice(start,stop) for start,stop in zip(R_start,R_stop)]\n",
        "z = [slice(start,stop) for start,stop in zip(Z_start,Z_stop)]\n",
        "R[r] = Z[z]\n",
        "print(Z)\n",
        "print(R)"
      ]
    },
    {
      "cell_type": "markdown",
      "metadata": {
        "id": "j0SybxWccn7B"
      },
      "source": [
        "#### 81. Consider an array Z = \\[1,2,3,4,5,6,7,8,9,10,11,12,13,14\\], how to generate an array R = \\[\\[1,2,3,4\\], \\[2,3,4,5\\], \\[3,4,5,6\\], ..., \\[11,12,13,14\\]\\]? (★★★) \n",
        "(**hint**: stride\\_tricks.as\\_strided)"
      ]
    },
    {
      "cell_type": "code",
      "execution_count": 83,
      "metadata": {
        "id": "Jq4UqWPacn7B",
        "colab": {
          "base_uri": "https://localhost:8080/"
        },
        "outputId": "7b36303c-7337-4f0c-ac9a-f9b8e8fe57b7"
      },
      "outputs": [
        {
          "output_type": "stream",
          "name": "stdout",
          "text": [
            "[[ 1  2  3  4]\n",
            " [ 2  3  4  5]\n",
            " [ 3  4  5  6]\n",
            " [ 4  5  6  7]\n",
            " [ 5  6  7  8]\n",
            " [ 6  7  8  9]\n",
            " [ 7  8  9 10]\n",
            " [ 8  9 10 11]\n",
            " [ 9 10 11 12]\n",
            " [10 11 12 13]\n",
            " [11 12 13 14]]\n"
          ]
        }
      ],
      "source": [
        "Z = np.arange(1,15,dtype=np.uint32)\n",
        "R = stride_tricks.as_strided(Z,(11,4),(4,4))\n",
        "print(R)"
      ]
    },
    {
      "cell_type": "markdown",
      "metadata": {
        "id": "98HqaLpqcn7B"
      },
      "source": [
        "#### 82. Compute a matrix rank (★★★) \n",
        "(**hint**: np.linalg.svd) (suggestion: np.linalg.svd)"
      ]
    },
    {
      "cell_type": "code",
      "execution_count": 84,
      "metadata": {
        "id": "lup97yPgcn7B",
        "colab": {
          "base_uri": "https://localhost:8080/"
        },
        "outputId": "c6fbb3d5-28d9-4fb5-d45e-2a20294747bd"
      },
      "outputs": [
        {
          "output_type": "stream",
          "name": "stdout",
          "text": [
            "10\n"
          ]
        }
      ],
      "source": [
        "Z = np.random.uniform(0,1,(10,10))\n",
        "U, S, V = np.linalg.svd(Z) # Singular Value Decomposition\n",
        "rank = np.sum(S > 1e-10)\n",
        "print(rank)"
      ]
    },
    {
      "cell_type": "markdown",
      "metadata": {
        "id": "CrDzaDdWcn7B"
      },
      "source": [
        "#### 83. How to find the most frequent value in an array? \n",
        "(**hint**: np.bincount, argmax)"
      ]
    },
    {
      "cell_type": "code",
      "execution_count": 85,
      "metadata": {
        "id": "OTeJb64ycn7C",
        "colab": {
          "base_uri": "https://localhost:8080/"
        },
        "outputId": "7113110b-12cc-48e8-e6b4-34790869aba9"
      },
      "outputs": [
        {
          "output_type": "stream",
          "name": "stdout",
          "text": [
            "2\n"
          ]
        }
      ],
      "source": [
        "Z = np.random.randint(0,10,50)\n",
        "print(np.bincount(Z).argmax())"
      ]
    },
    {
      "cell_type": "markdown",
      "metadata": {
        "id": "vl5V3oNMcn7C"
      },
      "source": [
        "#### 84. Extract all the contiguous 3x3 blocks from a random 10x10 matrix (★★★) \n",
        "(**hint**: stride\\_tricks.as\\_strided)"
      ]
    },
    {
      "cell_type": "code",
      "execution_count": 86,
      "metadata": {
        "id": "qEz_ZoDGcn7C",
        "colab": {
          "base_uri": "https://localhost:8080/"
        },
        "outputId": "c23b4302-d79d-486f-a244-91dcc8700afc"
      },
      "outputs": [
        {
          "output_type": "stream",
          "name": "stdout",
          "text": [
            "[[[[2 4 3]\n",
            "   [0 1 0]\n",
            "   [2 3 1]]\n",
            "\n",
            "  [[4 3 2]\n",
            "   [1 0 3]\n",
            "   [3 1 0]]\n",
            "\n",
            "  [[3 2 3]\n",
            "   [0 3 1]\n",
            "   [1 0 4]]\n",
            "\n",
            "  [[2 3 3]\n",
            "   [3 1 4]\n",
            "   [0 4 2]]\n",
            "\n",
            "  [[3 3 1]\n",
            "   [1 4 1]\n",
            "   [4 2 3]]\n",
            "\n",
            "  [[3 1 3]\n",
            "   [4 1 3]\n",
            "   [2 3 4]]\n",
            "\n",
            "  [[1 3 3]\n",
            "   [1 3 0]\n",
            "   [3 4 3]]\n",
            "\n",
            "  [[3 3 3]\n",
            "   [3 0 4]\n",
            "   [4 3 3]]]\n",
            "\n",
            "\n",
            " [[[0 1 0]\n",
            "   [2 3 1]\n",
            "   [4 1 2]]\n",
            "\n",
            "  [[1 0 3]\n",
            "   [3 1 0]\n",
            "   [1 2 0]]\n",
            "\n",
            "  [[0 3 1]\n",
            "   [1 0 4]\n",
            "   [2 0 2]]\n",
            "\n",
            "  [[3 1 4]\n",
            "   [0 4 2]\n",
            "   [0 2 4]]\n",
            "\n",
            "  [[1 4 1]\n",
            "   [4 2 3]\n",
            "   [2 4 3]]\n",
            "\n",
            "  [[4 1 3]\n",
            "   [2 3 4]\n",
            "   [4 3 1]]\n",
            "\n",
            "  [[1 3 0]\n",
            "   [3 4 3]\n",
            "   [3 1 3]]\n",
            "\n",
            "  [[3 0 4]\n",
            "   [4 3 3]\n",
            "   [1 3 3]]]\n",
            "\n",
            "\n",
            " [[[2 3 1]\n",
            "   [4 1 2]\n",
            "   [4 3 4]]\n",
            "\n",
            "  [[3 1 0]\n",
            "   [1 2 0]\n",
            "   [3 4 3]]\n",
            "\n",
            "  [[1 0 4]\n",
            "   [2 0 2]\n",
            "   [4 3 0]]\n",
            "\n",
            "  [[0 4 2]\n",
            "   [0 2 4]\n",
            "   [3 0 0]]\n",
            "\n",
            "  [[4 2 3]\n",
            "   [2 4 3]\n",
            "   [0 0 3]]\n",
            "\n",
            "  [[2 3 4]\n",
            "   [4 3 1]\n",
            "   [0 3 2]]\n",
            "\n",
            "  [[3 4 3]\n",
            "   [3 1 3]\n",
            "   [3 2 3]]\n",
            "\n",
            "  [[4 3 3]\n",
            "   [1 3 3]\n",
            "   [2 3 2]]]\n",
            "\n",
            "\n",
            " [[[4 1 2]\n",
            "   [4 3 4]\n",
            "   [3 3 3]]\n",
            "\n",
            "  [[1 2 0]\n",
            "   [3 4 3]\n",
            "   [3 3 3]]\n",
            "\n",
            "  [[2 0 2]\n",
            "   [4 3 0]\n",
            "   [3 3 0]]\n",
            "\n",
            "  [[0 2 4]\n",
            "   [3 0 0]\n",
            "   [3 0 3]]\n",
            "\n",
            "  [[2 4 3]\n",
            "   [0 0 3]\n",
            "   [0 3 1]]\n",
            "\n",
            "  [[4 3 1]\n",
            "   [0 3 2]\n",
            "   [3 1 1]]\n",
            "\n",
            "  [[3 1 3]\n",
            "   [3 2 3]\n",
            "   [1 1 0]]\n",
            "\n",
            "  [[1 3 3]\n",
            "   [2 3 2]\n",
            "   [1 0 4]]]\n",
            "\n",
            "\n",
            " [[[4 3 4]\n",
            "   [3 3 3]\n",
            "   [4 0 1]]\n",
            "\n",
            "  [[3 4 3]\n",
            "   [3 3 3]\n",
            "   [0 1 3]]\n",
            "\n",
            "  [[4 3 0]\n",
            "   [3 3 0]\n",
            "   [1 3 2]]\n",
            "\n",
            "  [[3 0 0]\n",
            "   [3 0 3]\n",
            "   [3 2 1]]\n",
            "\n",
            "  [[0 0 3]\n",
            "   [0 3 1]\n",
            "   [2 1 1]]\n",
            "\n",
            "  [[0 3 2]\n",
            "   [3 1 1]\n",
            "   [1 1 4]]\n",
            "\n",
            "  [[3 2 3]\n",
            "   [1 1 0]\n",
            "   [1 4 3]]\n",
            "\n",
            "  [[2 3 2]\n",
            "   [1 0 4]\n",
            "   [4 3 2]]]\n",
            "\n",
            "\n",
            " [[[3 3 3]\n",
            "   [4 0 1]\n",
            "   [0 3 3]]\n",
            "\n",
            "  [[3 3 3]\n",
            "   [0 1 3]\n",
            "   [3 3 3]]\n",
            "\n",
            "  [[3 3 0]\n",
            "   [1 3 2]\n",
            "   [3 3 0]]\n",
            "\n",
            "  [[3 0 3]\n",
            "   [3 2 1]\n",
            "   [3 0 3]]\n",
            "\n",
            "  [[0 3 1]\n",
            "   [2 1 1]\n",
            "   [0 3 2]]\n",
            "\n",
            "  [[3 1 1]\n",
            "   [1 1 4]\n",
            "   [3 2 4]]\n",
            "\n",
            "  [[1 1 0]\n",
            "   [1 4 3]\n",
            "   [2 4 3]]\n",
            "\n",
            "  [[1 0 4]\n",
            "   [4 3 2]\n",
            "   [4 3 0]]]\n",
            "\n",
            "\n",
            " [[[4 0 1]\n",
            "   [0 3 3]\n",
            "   [3 1 3]]\n",
            "\n",
            "  [[0 1 3]\n",
            "   [3 3 3]\n",
            "   [1 3 4]]\n",
            "\n",
            "  [[1 3 2]\n",
            "   [3 3 0]\n",
            "   [3 4 0]]\n",
            "\n",
            "  [[3 2 1]\n",
            "   [3 0 3]\n",
            "   [4 0 3]]\n",
            "\n",
            "  [[2 1 1]\n",
            "   [0 3 2]\n",
            "   [0 3 3]]\n",
            "\n",
            "  [[1 1 4]\n",
            "   [3 2 4]\n",
            "   [3 3 1]]\n",
            "\n",
            "  [[1 4 3]\n",
            "   [2 4 3]\n",
            "   [3 1 3]]\n",
            "\n",
            "  [[4 3 2]\n",
            "   [4 3 0]\n",
            "   [1 3 0]]]\n",
            "\n",
            "\n",
            " [[[0 3 3]\n",
            "   [3 1 3]\n",
            "   [0 3 3]]\n",
            "\n",
            "  [[3 3 3]\n",
            "   [1 3 4]\n",
            "   [3 3 1]]\n",
            "\n",
            "  [[3 3 0]\n",
            "   [3 4 0]\n",
            "   [3 1 0]]\n",
            "\n",
            "  [[3 0 3]\n",
            "   [4 0 3]\n",
            "   [1 0 0]]\n",
            "\n",
            "  [[0 3 2]\n",
            "   [0 3 3]\n",
            "   [0 0 3]]\n",
            "\n",
            "  [[3 2 4]\n",
            "   [3 3 1]\n",
            "   [0 3 4]]\n",
            "\n",
            "  [[2 4 3]\n",
            "   [3 1 3]\n",
            "   [3 4 0]]\n",
            "\n",
            "  [[4 3 0]\n",
            "   [1 3 0]\n",
            "   [4 0 0]]]]\n"
          ]
        }
      ],
      "source": [
        "Z = np.random.randint(0,5,(10,10))\n",
        "n = 3\n",
        "i = 1 + (Z.shape[0]-3)\n",
        "j = 1 + (Z.shape[1]-3)\n",
        "C = stride_tricks.as_strided(Z, shape=(i, j, n, n), strides=Z.strides + Z.strides)\n",
        "print(C)"
      ]
    },
    {
      "cell_type": "markdown",
      "metadata": {
        "id": "VHDkeZjycn7C"
      },
      "source": [
        "#### 85. Create a 2D array subclass such that Z\\[i,j\\] == Z\\[j,i\\] (★★★) \n",
        "(**hint**: class method)"
      ]
    },
    {
      "cell_type": "code",
      "execution_count": 87,
      "metadata": {
        "id": "54JIM4Bjcn7C",
        "colab": {
          "base_uri": "https://localhost:8080/"
        },
        "outputId": "8da1ba56-181c-4a63-ee2c-7359f0317419"
      },
      "outputs": [
        {
          "output_type": "stream",
          "name": "stdout",
          "text": [
            "[[ 7  9  7 11 10]\n",
            " [ 9  3 15  7 12]\n",
            " [ 7 15  5 42  5]\n",
            " [11  7 42  8  9]\n",
            " [10 12  5  9  6]]\n"
          ]
        }
      ],
      "source": [
        "class Symetric(np.ndarray):\n",
        "    def __setitem__(self, index, value):\n",
        "        i,j = index\n",
        "        super(Symetric, self).__setitem__((i,j), value)\n",
        "        super(Symetric, self).__setitem__((j,i), value)\n",
        "\n",
        "def symetric(Z):\n",
        "    return np.asarray(Z + Z.T - np.diag(Z.diagonal())).view(Symetric)\n",
        "\n",
        "S = symetric(np.random.randint(0,10,(5,5)))\n",
        "S[2,3] = 42\n",
        "print(S)"
      ]
    },
    {
      "cell_type": "markdown",
      "metadata": {
        "id": "qjlXz7Khcn7C"
      },
      "source": [
        "#### 86. Consider a set of p matrices wich shape (n,n) and a set of p vectors with shape (n,1). How to compute the sum of of the p matrix products at once? (result has shape (n,1)) (★★★) \n",
        "(**hint**: np.tensordot)"
      ]
    },
    {
      "cell_type": "code",
      "execution_count": 88,
      "metadata": {
        "id": "dIxWQvXScn7D",
        "colab": {
          "base_uri": "https://localhost:8080/"
        },
        "outputId": "157ea4e5-98f7-46c2-aedb-5daba7aa02e7"
      },
      "outputs": [
        {
          "output_type": "stream",
          "name": "stdout",
          "text": [
            "[[200.]\n",
            " [200.]\n",
            " [200.]\n",
            " [200.]\n",
            " [200.]\n",
            " [200.]\n",
            " [200.]\n",
            " [200.]\n",
            " [200.]\n",
            " [200.]\n",
            " [200.]\n",
            " [200.]\n",
            " [200.]\n",
            " [200.]\n",
            " [200.]\n",
            " [200.]\n",
            " [200.]\n",
            " [200.]\n",
            " [200.]\n",
            " [200.]]\n"
          ]
        }
      ],
      "source": [
        "p, n = 10, 20\n",
        "M = np.ones((p,n,n))\n",
        "V = np.ones((p,n,1))\n",
        "S = np.tensordot(M, V, axes=[[0, 2], [0, 1]])\n",
        "print(S)"
      ]
    },
    {
      "cell_type": "markdown",
      "metadata": {
        "id": "YNpXVdH1cn7E"
      },
      "source": [
        "#### 87. Consider a 16x16 array, how to get the block-sum (block size is 4x4)? (★★★) \n",
        "(**hint**: np.add.reduceat)"
      ]
    },
    {
      "cell_type": "code",
      "execution_count": 89,
      "metadata": {
        "id": "JQULq4DEcn7E",
        "colab": {
          "base_uri": "https://localhost:8080/"
        },
        "outputId": "0f1875f6-8ffa-412b-da39-b8f8b08c07ee"
      },
      "outputs": [
        {
          "output_type": "stream",
          "name": "stdout",
          "text": [
            "[[16. 16. 16. 16.]\n",
            " [16. 16. 16. 16.]\n",
            " [16. 16. 16. 16.]\n",
            " [16. 16. 16. 16.]]\n"
          ]
        }
      ],
      "source": [
        "Z = np.ones((16,16))\n",
        "k = 4\n",
        "S = np.add.reduceat(np.add.reduceat(Z, np.arange(0, Z.shape[0], k), axis=0),\n",
        "                                       np.arange(0, Z.shape[1], k), axis=1)\n",
        "print(S)"
      ]
    },
    {
      "cell_type": "markdown",
      "metadata": {
        "id": "DjERdjB8cn7E"
      },
      "source": [
        "#### 88. How to implement the Game of Life using numpy arrays? (★★★)"
      ]
    },
    {
      "cell_type": "code",
      "execution_count": 90,
      "metadata": {
        "id": "YT43yPoWcn7E",
        "colab": {
          "base_uri": "https://localhost:8080/"
        },
        "outputId": "541e6c7c-704a-4823-c9b4-0a920fa1b43b"
      },
      "outputs": [
        {
          "output_type": "stream",
          "name": "stdout",
          "text": [
            "[[0 0 0 ... 0 0 0]\n",
            " [0 0 0 ... 0 0 0]\n",
            " [0 0 0 ... 0 0 0]\n",
            " ...\n",
            " [0 0 0 ... 0 0 0]\n",
            " [0 0 0 ... 0 0 0]\n",
            " [0 0 0 ... 0 0 0]]\n"
          ]
        }
      ],
      "source": [
        "def iterate(Z):\n",
        "    # Count neighbours\n",
        "    N = (Z[0:-2,0:-2] + Z[0:-2,1:-1] + Z[0:-2,2:] +\n",
        "         Z[1:-1,0:-2]                + Z[1:-1,2:] +\n",
        "         Z[2:  ,0:-2] + Z[2:  ,1:-1] + Z[2:  ,2:])\n",
        "\n",
        "    # Apply rules\n",
        "    birth = (N==3) & (Z[1:-1,1:-1]==0)\n",
        "    survive = ((N==2) | (N==3)) & (Z[1:-1,1:-1]==1)\n",
        "    Z[...] = 0\n",
        "    Z[1:-1,1:-1][birth | survive] = 1\n",
        "    return Z\n",
        "\n",
        "Z = np.random.randint(0,2,(50,50))\n",
        "for i in range(100): Z = iterate(Z)\n",
        "print(Z)"
      ]
    },
    {
      "cell_type": "markdown",
      "metadata": {
        "id": "H5h3KGlLcn7E"
      },
      "source": [
        "#### 89. How to get the n largest values of an array (★★★) \n",
        "(**hint**: np.argsort | np.argpartition)"
      ]
    },
    {
      "cell_type": "code",
      "execution_count": 91,
      "metadata": {
        "id": "_Elc3dUPcn7E",
        "colab": {
          "base_uri": "https://localhost:8080/"
        },
        "outputId": "de575e15-511d-4372-a8af-8b40c8b1e6e6"
      },
      "outputs": [
        {
          "output_type": "stream",
          "name": "stdout",
          "text": [
            "[9995 9996 9997 9998 9999]\n",
            "[9998 9997 9999 9996 9995]\n"
          ]
        }
      ],
      "source": [
        "Z = np.arange(10000)\n",
        "np.random.shuffle(Z)\n",
        "n = 5\n",
        "\n",
        "# Slow\n",
        "print (Z[np.argsort(Z)[-n:]])\n",
        "\n",
        "# Fast\n",
        "print (Z[np.argpartition(-Z,n)[:n]])"
      ]
    },
    {
      "cell_type": "markdown",
      "metadata": {
        "id": "ZnzgwBxlcn7E"
      },
      "source": [
        "#### 90. Given an arbitrary number of vectors, build the cartesian product (every combinations of every item) (★★★) \n",
        "(**hint**: np.indices)"
      ]
    },
    {
      "cell_type": "code",
      "execution_count": 92,
      "metadata": {
        "scrolled": true,
        "id": "2Ti704HDcn7E",
        "colab": {
          "base_uri": "https://localhost:8080/"
        },
        "outputId": "c24d004a-27a6-42aa-85af-538ee42b7a67"
      },
      "outputs": [
        {
          "output_type": "stream",
          "name": "stdout",
          "text": [
            "[[1 4 6]\n",
            " [1 4 7]\n",
            " [1 5 6]\n",
            " [1 5 7]\n",
            " [2 4 6]\n",
            " [2 4 7]\n",
            " [2 5 6]\n",
            " [2 5 7]\n",
            " [3 4 6]\n",
            " [3 4 7]\n",
            " [3 5 6]\n",
            " [3 5 7]]\n"
          ]
        }
      ],
      "source": [
        "def cartesian(arrays):\n",
        "    arrays = [np.asarray(a) for a in arrays]\n",
        "    shape = (len(x) for x in arrays)\n",
        "\n",
        "    ix = np.indices(shape, dtype=int)\n",
        "    ix = ix.reshape(len(arrays), -1).T\n",
        "\n",
        "    for n, arr in enumerate(arrays):\n",
        "        ix[:, n] = arrays[n][ix[:, n]]\n",
        "\n",
        "    return ix\n",
        "\n",
        "print (cartesian(([1, 2, 3], [4, 5], [6, 7])))"
      ]
    },
    {
      "cell_type": "markdown",
      "metadata": {
        "id": "mZ6Dnefgcn7F"
      },
      "source": [
        "#### 91. How to create a record array from a regular array? (★★★) \n",
        "(**hint**: np.core.records.fromarrays)"
      ]
    },
    {
      "cell_type": "code",
      "execution_count": 93,
      "metadata": {
        "id": "O53DmjnLcn7F",
        "colab": {
          "base_uri": "https://localhost:8080/"
        },
        "outputId": "03b1a97d-2cb2-4654-d255-7f3bbe8ec2fb"
      },
      "outputs": [
        {
          "output_type": "stream",
          "name": "stdout",
          "text": [
            "[(b'Hello', 2.5, 3) (b'World', 3.6, 2)]\n"
          ]
        }
      ],
      "source": [
        "Z = np.array([(\"Hello\", 2.5, 3),\n",
        "              (\"World\", 3.6, 2)])\n",
        "R = np.core.records.fromarrays(Z.T, \n",
        "                               names='col1, col2, col3',\n",
        "                               formats = 'S8, f8, i8')\n",
        "print(R)"
      ]
    },
    {
      "cell_type": "markdown",
      "metadata": {
        "id": "-GZG_98Ocn7F"
      },
      "source": [
        "#### 92. Consider a large vector Z, compute Z to the power of 3 using 3 different methods (★★★) \n",
        "(**hint**: np.power, \\*, np.einsum)"
      ]
    },
    {
      "cell_type": "code",
      "execution_count": 102,
      "metadata": {
        "id": "4u7ZmV0kcn7F",
        "colab": {
          "base_uri": "https://localhost:8080/"
        },
        "outputId": "5f43ef39-f9cc-4f55-bb57-da8b7e1d3b51"
      },
      "outputs": [
        {
          "output_type": "stream",
          "name": "stdout",
          "text": [
            "[0.36812243 0.93857275 0.60187376 ... 0.00486691 0.03044518 0.51723324]\n",
            "[0.36812243 0.93857275 0.60187376 ... 0.00486691 0.03044518 0.51723324]\n",
            "[0.36812243 0.93857275 0.60187376 ... 0.00486691 0.03044518 0.51723324]\n"
          ]
        }
      ],
      "source": [
        "x = np.random.rand(5*10**7)\n",
        "\n",
        "print(np.power(x,3))\n",
        "print(x*x*x)\n",
        "print(np.einsum('i,i,i->i',x,x,x))"
      ]
    },
    {
      "cell_type": "markdown",
      "metadata": {
        "id": "4itq37Tncn7F"
      },
      "source": [
        "#### 93. Consider two arrays A and B of shape (8,3) and (2,2). How to find rows of A that contain elements of each row of B regardless of the order of the elements in B? (★★★) \n",
        "(**hint**: np.where)"
      ]
    },
    {
      "cell_type": "code",
      "execution_count": 103,
      "metadata": {
        "id": "Df8Fj5lacn7F",
        "colab": {
          "base_uri": "https://localhost:8080/"
        },
        "outputId": "d14cd215-997b-4f3a-daf1-4fc4d1c33085"
      },
      "outputs": [
        {
          "output_type": "stream",
          "name": "stdout",
          "text": [
            "[1 4 5 6 7]\n"
          ]
        }
      ],
      "source": [
        "A = np.random.randint(0,5,(8,3))\n",
        "B = np.random.randint(0,5,(2,2))\n",
        "\n",
        "C = (A[..., np.newaxis, np.newaxis] == B)\n",
        "rows = np.where(C.any((3,1)).all(1))[0]\n",
        "print(rows)"
      ]
    },
    {
      "cell_type": "markdown",
      "metadata": {
        "id": "HOTFiOXFcn7F"
      },
      "source": [
        "#### 94. Considering a 10x3 matrix, extract rows with unequal values (e.g. \\[2,2,3\\]) (★★★)"
      ]
    },
    {
      "cell_type": "code",
      "execution_count": 104,
      "metadata": {
        "id": "UQt2P1Aycn7F",
        "colab": {
          "base_uri": "https://localhost:8080/"
        },
        "outputId": "fa1f5aa9-ba5f-468f-f5ce-5c49181421e2"
      },
      "outputs": [
        {
          "output_type": "stream",
          "name": "stdout",
          "text": [
            "[[3 2 0]\n",
            " [4 1 1]\n",
            " [1 3 1]\n",
            " [2 3 3]\n",
            " [2 4 0]\n",
            " [4 1 3]\n",
            " [4 1 3]\n",
            " [3 3 0]\n",
            " [1 3 0]\n",
            " [1 4 1]]\n",
            "[[3 2 0]\n",
            " [4 1 1]\n",
            " [1 3 1]\n",
            " [2 3 3]\n",
            " [2 4 0]\n",
            " [4 1 3]\n",
            " [4 1 3]\n",
            " [3 3 0]\n",
            " [1 3 0]\n",
            " [1 4 1]]\n",
            "[[3 2 0]\n",
            " [4 1 1]\n",
            " [1 3 1]\n",
            " [2 3 3]\n",
            " [2 4 0]\n",
            " [4 1 3]\n",
            " [4 1 3]\n",
            " [3 3 0]\n",
            " [1 3 0]\n",
            " [1 4 1]]\n"
          ]
        }
      ],
      "source": [
        "Z = np.random.randint(0,5,(10,3))\n",
        "print(Z)\n",
        "# solution for arrays of all dtypes (including string arrays and record arrays)\n",
        "E = np.all(Z[:,1:] == Z[:,:-1], axis=1)\n",
        "U = Z[~E]\n",
        "print(U)\n",
        "# soluiton for numerical arrays only, will work for any number of columns in Z\n",
        "U = Z[Z.max(axis=1) != Z.min(axis=1),:]\n",
        "print(U)"
      ]
    },
    {
      "cell_type": "markdown",
      "metadata": {
        "id": "qTHXEPDwcn7F"
      },
      "source": [
        "#### 95. Convert a vector of ints into a matrix binary representation (★★★) \n",
        "(**hint**: np.unpackbits)"
      ]
    },
    {
      "cell_type": "code",
      "execution_count": 105,
      "metadata": {
        "id": "h35z6fTycn7G",
        "colab": {
          "base_uri": "https://localhost:8080/"
        },
        "outputId": "3f1e0f12-8eda-41cf-bb56-d2c4a952ace6"
      },
      "outputs": [
        {
          "output_type": "stream",
          "name": "stdout",
          "text": [
            "[[0 0 0 0 0 0 0 0]\n",
            " [0 0 0 0 0 0 0 1]\n",
            " [0 0 0 0 0 0 1 0]\n",
            " [0 0 0 0 0 0 1 1]\n",
            " [0 0 0 0 1 1 1 1]\n",
            " [0 0 0 1 0 0 0 0]\n",
            " [0 0 1 0 0 0 0 0]\n",
            " [0 1 0 0 0 0 0 0]\n",
            " [1 0 0 0 0 0 0 0]]\n",
            "[[0 0 0 0 0 0 0 0]\n",
            " [0 0 0 0 0 0 0 1]\n",
            " [0 0 0 0 0 0 1 0]\n",
            " [0 0 0 0 0 0 1 1]\n",
            " [0 0 0 0 1 1 1 1]\n",
            " [0 0 0 1 0 0 0 0]\n",
            " [0 0 1 0 0 0 0 0]\n",
            " [0 1 0 0 0 0 0 0]\n",
            " [1 0 0 0 0 0 0 0]]\n"
          ]
        }
      ],
      "source": [
        "I = np.array([0, 1, 2, 3, 15, 16, 32, 64, 128])\n",
        "B = ((I.reshape(-1,1) & (2**np.arange(8))) != 0).astype(int)\n",
        "print(B[:,::-1])\n",
        "\n",
        "# Author: Daniel T. McDonald\n",
        "\n",
        "I = np.array([0, 1, 2, 3, 15, 16, 32, 64, 128], dtype=np.uint8)\n",
        "print(np.unpackbits(I[:, np.newaxis], axis=1))"
      ]
    },
    {
      "cell_type": "markdown",
      "metadata": {
        "id": "tgH9XKf5cn7G"
      },
      "source": [
        "#### 96. Given a two dimensional array, how to extract unique rows? (★★★) \n",
        "(**hint**: np.ascontiguousarray)"
      ]
    },
    {
      "cell_type": "code",
      "execution_count": 106,
      "metadata": {
        "id": "wmfgdLd5cn7G",
        "colab": {
          "base_uri": "https://localhost:8080/"
        },
        "outputId": "e95c6e69-abca-43c9-9d58-d2ad03871163"
      },
      "outputs": [
        {
          "output_type": "stream",
          "name": "stdout",
          "text": [
            "[[0 0 0]\n",
            " [0 1 1]\n",
            " [1 0 1]\n",
            " [1 1 1]]\n",
            "[[0 0 0]\n",
            " [0 1 1]\n",
            " [1 0 1]\n",
            " [1 1 1]]\n"
          ]
        }
      ],
      "source": [
        "Z = np.random.randint(0,2,(6,3))\n",
        "T = np.ascontiguousarray(Z).view(np.dtype((np.void, Z.dtype.itemsize * Z.shape[1])))\n",
        "_, idx = np.unique(T, return_index=True)\n",
        "uZ = Z[idx]\n",
        "print(uZ)\n",
        "\n",
        "# Author: Andreas Kouzelis\n",
        "# NumPy >= 1.13\n",
        "uZ = np.unique(Z, axis=0)\n",
        "print(uZ)"
      ]
    },
    {
      "cell_type": "markdown",
      "metadata": {
        "id": "uEit8w6hcn7G"
      },
      "source": [
        "#### 97. Considering 2 vectors A & B, write the einsum equivalent of inner, outer, sum, and mul function (★★★) \n",
        "(**hint**: np.einsum)"
      ]
    },
    {
      "cell_type": "code",
      "execution_count": 107,
      "metadata": {
        "id": "i8TaEiofcn7G",
        "colab": {
          "base_uri": "https://localhost:8080/"
        },
        "outputId": "cfff66df-83f5-4ce8-f8da-b23236f31cdc"
      },
      "outputs": [
        {
          "output_type": "execute_result",
          "data": {
            "text/plain": [
              "array([[4.63060904e-01, 5.56839591e-01, 5.73907312e-01, 2.51513619e-01,\n",
              "        5.65553902e-02, 6.55823719e-03, 5.67141579e-02, 3.87690807e-01,\n",
              "        4.25376465e-01, 5.45189023e-01],\n",
              "       [3.51781446e-01, 4.23023915e-01, 4.35990044e-01, 1.91071680e-01,\n",
              "        4.29644066e-02, 4.98220891e-03, 4.30850204e-02, 2.94523747e-01,\n",
              "        3.23153059e-01, 4.14173127e-01],\n",
              "       [2.95746345e-01, 3.55640635e-01, 3.66541395e-01, 1.60635962e-01,\n",
              "        3.61206265e-02, 4.18859520e-03, 3.62220277e-02, 2.47609198e-01,\n",
              "        2.71678161e-01, 3.48199685e-01],\n",
              "       [1.25642173e-01, 1.51087116e-01, 1.55718095e-01, 6.82431133e-02,\n",
              "        1.53451567e-02, 1.77944449e-03, 1.53882351e-02, 1.05192028e-01,\n",
              "        1.15417266e-01, 1.47925971e-01],\n",
              "       [3.00269372e-01, 3.61079661e-01, 3.72147133e-01, 1.63092664e-01,\n",
              "        3.66730409e-02, 4.25265390e-03, 3.67759930e-02, 2.51396035e-01,\n",
              "        2.75833098e-01, 3.53524912e-01],\n",
              "       [3.75994739e-01, 4.52140862e-01, 4.65999456e-01, 2.04223239e-01,\n",
              "        4.59216681e-02, 5.32513683e-03, 4.60505838e-02, 3.14795964e-01,\n",
              "        3.45395846e-01, 4.42680870e-01],\n",
              "       [6.32486720e-01, 7.60577373e-01, 7.83889872e-01, 3.43538015e-01,\n",
              "        7.72480098e-02, 8.95778047e-03, 7.74648677e-02, 5.29540034e-01,\n",
              "        5.81014209e-01, 7.44664068e-01],\n",
              "       [2.43724263e-02, 2.93083087e-02, 3.02066392e-02, 1.32379933e-02,\n",
              "        2.97669717e-03, 3.45181706e-04, 2.98505364e-03, 2.04054489e-02,\n",
              "        2.23889697e-02, 2.86951007e-02],\n",
              "       [6.35608151e-01, 7.64330954e-01, 7.87758504e-01, 3.45233435e-01,\n",
              "        7.76292420e-02, 9.00198867e-03, 7.78471702e-02, 5.32153405e-01,\n",
              "        5.83881614e-01, 7.48339113e-01],\n",
              "       [7.44431687e-01, 8.95193337e-01, 9.22631957e-01, 4.04341429e-01,\n",
              "        9.09202746e-02, 1.05432342e-02, 9.11755146e-02, 6.23264281e-01,\n",
              "        6.83848963e-01, 8.76463506e-01]])"
            ]
          },
          "metadata": {},
          "execution_count": 107
        }
      ],
      "source": [
        "A = np.random.uniform(0,1,10)\n",
        "B = np.random.uniform(0,1,10)\n",
        "\n",
        "np.einsum('i->', A)       # np.sum(A)\n",
        "np.einsum('i,i->i', A, B) # A * B\n",
        "np.einsum('i,i', A, B)    # np.inner(A, B)\n",
        "np.einsum('i,j->ij', A, B)    # np.outer(A, B)"
      ]
    },
    {
      "cell_type": "markdown",
      "metadata": {
        "id": "bBoieD4ncn7G"
      },
      "source": [
        "#### 98. Considering a path described by two vectors (X,Y), how to sample it using equidistant samples (★★★)? \n",
        "(**hint**: np.cumsum, np.interp)"
      ]
    },
    {
      "cell_type": "code",
      "execution_count": 108,
      "metadata": {
        "collapsed": true,
        "id": "cMlqQFHYcn7G"
      },
      "outputs": [],
      "source": [
        "phi = np.arange(0, 10*np.pi, 0.1)\n",
        "a = 1\n",
        "x = a*phi*np.cos(phi)\n",
        "y = a*phi*np.sin(phi)\n",
        "\n",
        "dr = (np.diff(x)**2 + np.diff(y)**2)**.5 # segment lengths\n",
        "r = np.zeros_like(x)\n",
        "r[1:] = np.cumsum(dr)                # integrate path\n",
        "r_int = np.linspace(0, r.max(), 200) # regular spaced path\n",
        "x_int = np.interp(r_int, r, x)       # integrate path\n",
        "y_int = np.interp(r_int, r, y)"
      ]
    },
    {
      "cell_type": "markdown",
      "metadata": {
        "id": "qXTAq9G9cn7G"
      },
      "source": [
        "#### 99. Given an integer n and a 2D array X, select from X the rows which can be interpreted as draws from a multinomial distribution with n degrees, i.e., the rows which only contain integers and which sum to n. (★★★) \n",
        "(**hint**: np.logical\\_and.reduce, np.mod)"
      ]
    },
    {
      "cell_type": "code",
      "execution_count": 109,
      "metadata": {
        "id": "6HtW49tPcn7G",
        "colab": {
          "base_uri": "https://localhost:8080/"
        },
        "outputId": "8467cd4b-6132-467d-b9b7-09a626c75fee"
      },
      "outputs": [
        {
          "output_type": "stream",
          "name": "stdout",
          "text": [
            "[[2. 0. 1. 1.]]\n"
          ]
        }
      ],
      "source": [
        "X = np.asarray([[1.0, 0.0, 3.0, 8.0],\n",
        "                [2.0, 0.0, 1.0, 1.0],\n",
        "                [1.5, 2.5, 1.0, 0.0]])\n",
        "n = 4\n",
        "M = np.logical_and.reduce(np.mod(X, 1) == 0, axis=-1)\n",
        "M &= (X.sum(axis=-1) == n)\n",
        "print(X[M])"
      ]
    },
    {
      "cell_type": "markdown",
      "metadata": {
        "id": "eSB9znY7cn7G"
      },
      "source": [
        "#### 100. Compute bootstrapped 95% confidence intervals for the mean of a 1D array X (i.e., resample the elements of an array with replacement N times, compute the mean of each sample, and then compute percentiles over the means). (★★★) \n",
        "(**hint**: np.percentile)"
      ]
    },
    {
      "cell_type": "code",
      "execution_count": 110,
      "metadata": {
        "id": "omOhFDJKcn7H",
        "colab": {
          "base_uri": "https://localhost:8080/"
        },
        "outputId": "6ce8dde5-16c2-4529-ae3c-78ebaf1b8fb5"
      },
      "outputs": [
        {
          "output_type": "stream",
          "name": "stdout",
          "text": [
            "[0.01665447 0.31960698]\n"
          ]
        }
      ],
      "source": [
        "X = np.random.randn(100) # random 1D array\n",
        "N = 1000 # number of bootstrap samples\n",
        "idx = np.random.randint(0, X.size, (N, X.size))\n",
        "means = X[idx].mean(axis=1)\n",
        "confint = np.percentile(means, [2.5, 97.5])\n",
        "print(confint)"
      ]
    }
  ],
  "metadata": {
    "kernelspec": {
      "display_name": "Python 3",
      "language": "python",
      "name": "python3"
    },
    "language_info": {
      "codemirror_mode": {
        "name": "ipython",
        "version": 3
      },
      "file_extension": ".py",
      "mimetype": "text/x-python",
      "name": "python",
      "nbconvert_exporter": "python",
      "pygments_lexer": "ipython3",
      "version": "3.8.3"
    },
    "colab": {
      "name": "Numpy_tasks_Wilson.ipynb",
      "provenance": [],
      "collapsed_sections": [
        "WhpB4ipBcn6_",
        "Fj_ZpdeZcn6_",
        "_qPv8KVLcn6_",
        "22O2cpqzcn6_",
        "ujxJNX7ocn7A",
        "d1PV3peBcn7A",
        "v5w5fWxPcn7A",
        "kYaSJgjTcn7A",
        "q0lPG66Dcn7B",
        "j0SybxWccn7B",
        "98HqaLpqcn7B",
        "CrDzaDdWcn7B",
        "vl5V3oNMcn7C",
        "VHDkeZjycn7C",
        "qjlXz7Khcn7C",
        "YNpXVdH1cn7E",
        "DjERdjB8cn7E",
        "H5h3KGlLcn7E",
        "ZnzgwBxlcn7E",
        "mZ6Dnefgcn7F",
        "-GZG_98Ocn7F",
        "4itq37Tncn7F",
        "HOTFiOXFcn7F",
        "qTHXEPDwcn7F",
        "tgH9XKf5cn7G",
        "uEit8w6hcn7G",
        "bBoieD4ncn7G",
        "qXTAq9G9cn7G",
        "eSB9znY7cn7G"
      ],
      "include_colab_link": true
    }
  },
  "nbformat": 4,
  "nbformat_minor": 0
}