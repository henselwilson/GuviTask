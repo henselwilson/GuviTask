{
  "nbformat": 4,
  "nbformat_minor": 0,
  "metadata": {
    "colab": {
      "name": "Product_User_prediction_Task5_Wilson.ipynb",
      "provenance": [],
      "collapsed_sections": [],
      "mount_file_id": "1OJ1XEsHrui3W9xK8UFkpp_12Q_U-apvM",
      "authorship_tag": "ABX9TyNdkE8B6kE6MfgXePNrlqK+",
      "include_colab_link": true
    },
    "kernelspec": {
      "name": "python3",
      "display_name": "Python 3"
    },
    "language_info": {
      "name": "python"
    }
  },
  "cells": [
    {
      "cell_type": "markdown",
      "metadata": {
        "id": "view-in-github",
        "colab_type": "text"
      },
      "source": [
        "<a href=\"https://colab.research.google.com/github/henselwilson/GuviTask/blob/main/Product_User_prediction_Task5_Wilson.ipynb\" target=\"_parent\"><img src=\"https://colab.research.google.com/assets/colab-badge.svg\" alt=\"Open In Colab\"/></a>"
      ]
    },
    {
      "cell_type": "markdown",
      "source": [
        "# Product User Prediction Analysis\n",
        "\n",
        "This notebook performs analysis on the 'takehome_users' dataset and the 'takehome_user_engagement' dataset of a product and provides result of the most important factors that affect the future user adoption of the product.\n",
        "The result and Summary are given at the end of this file."
      ],
      "metadata": {
        "id": "tgOlFJG52xnn"
      }
    },
    {
      "cell_type": "code",
      "execution_count": 23,
      "metadata": {
        "id": "zdiaCmNH2fks"
      },
      "outputs": [],
      "source": [
        "# Importing the necessary Libraries\n",
        "\n",
        "import pandas as pd\n",
        "import numpy as np\n",
        "import matplotlib.pyplot as plt\n"
      ]
    },
    {
      "cell_type": "code",
      "source": [
        "\"\"\"\n",
        "from google.colab import files\n",
        "uploaded=files.upload()\n",
        "\"\"\""
      ],
      "metadata": {
        "id": "y_XUBbKi4kV2",
        "colab": {
          "base_uri": "https://localhost:8080/",
          "height": 35
        },
        "outputId": "5e5bf2dc-2b65-4bbc-aaec-fe4988ea2e2e"
      },
      "execution_count": 24,
      "outputs": [
        {
          "output_type": "execute_result",
          "data": {
            "text/plain": [
              "'\\nfrom google.colab import files\\nuploaded=files.upload()\\n'"
            ],
            "application/vnd.google.colaboratory.intrinsic+json": {
              "type": "string"
            }
          },
          "metadata": {},
          "execution_count": 24
        }
      ]
    },
    {
      "cell_type": "code",
      "source": [
        "#Checking the encoding of the 'takehome_users' file as it throws error for read_csv() function as encoding is not the default 'utf8'\n",
        "\n",
        "import chardet\n",
        "with open('/content/drive/MyDrive/GuviTasks/Task5Files/takehome_users.csv', 'rb') as rawdata:\n",
        "    result = chardet.detect(rawdata.read(100000))\n",
        "result"
      ],
      "metadata": {
        "colab": {
          "base_uri": "https://localhost:8080/"
        },
        "id": "f-dTJnS6-mFO",
        "outputId": "38d577f4-f5b1-4d48-c2a1-c604218361d8"
      },
      "execution_count": 25,
      "outputs": [
        {
          "output_type": "execute_result",
          "data": {
            "text/plain": [
              "{'confidence': 0.7294372453287324, 'encoding': 'ISO-8859-1', 'language': ''}"
            ]
          },
          "metadata": {},
          "execution_count": 25
        }
      ]
    },
    {
      "cell_type": "code",
      "source": [
        "# Chaninging the default encoding of the file\n",
        "\n",
        "df1=pd.read_csv('https://raw.githubusercontent.com/henselwilson/GuviTask/main/takehome_users.csv',encoding='ISO-8859-1',index_col='object_id')\n",
        "df1.head()"
      ],
      "metadata": {
        "id": "_iMaBVsR5c1N",
        "colab": {
          "base_uri": "https://localhost:8080/",
          "height": 388
        },
        "outputId": "2de6dd86-c361-49df-e933-7b10b6baf311"
      },
      "execution_count": 26,
      "outputs": [
        {
          "output_type": "execute_result",
          "data": {
            "text/plain": [
              "                 creation_time               name                       email  \\\n",
              "object_id                                                                       \n",
              "1          2014-04-22 03:53:30     Clausen August    AugustCClausen@yahoo.com   \n",
              "2          2013-11-15 03:45:04      Poole Matthew      MatthewPoole@gustr.com   \n",
              "3          2013-03-19 23:14:52  Bottrill Mitchell  MitchellBottrill@gustr.com   \n",
              "4          2013-05-21 08:09:28    Clausen Nicklas   NicklasSClausen@yahoo.com   \n",
              "5          2013-01-17 10:14:20          Raw Grace          GraceRaw@yahoo.com   \n",
              "\n",
              "          creation_source  last_session_creation_time  \\\n",
              "object_id                                               \n",
              "1            GUEST_INVITE                1.398139e+09   \n",
              "2              ORG_INVITE                1.396238e+09   \n",
              "3              ORG_INVITE                1.363735e+09   \n",
              "4            GUEST_INVITE                1.369210e+09   \n",
              "5            GUEST_INVITE                1.358850e+09   \n",
              "\n",
              "           opted_in_to_mailing_list  enabled_for_marketing_drip  org_id  \\\n",
              "object_id                                                                 \n",
              "1                                 1                           0      11   \n",
              "2                                 0                           0       1   \n",
              "3                                 0                           0      94   \n",
              "4                                 0                           0       1   \n",
              "5                                 0                           0     193   \n",
              "\n",
              "           invited_by_user_id  \n",
              "object_id                      \n",
              "1                     10803.0  \n",
              "2                       316.0  \n",
              "3                      1525.0  \n",
              "4                      5151.0  \n",
              "5                      5240.0  "
            ],
            "text/html": [
              "\n",
              "  <div id=\"df-a45936e8-10fc-4551-8213-31a9de9256b9\">\n",
              "    <div class=\"colab-df-container\">\n",
              "      <div>\n",
              "<style scoped>\n",
              "    .dataframe tbody tr th:only-of-type {\n",
              "        vertical-align: middle;\n",
              "    }\n",
              "\n",
              "    .dataframe tbody tr th {\n",
              "        vertical-align: top;\n",
              "    }\n",
              "\n",
              "    .dataframe thead th {\n",
              "        text-align: right;\n",
              "    }\n",
              "</style>\n",
              "<table border=\"1\" class=\"dataframe\">\n",
              "  <thead>\n",
              "    <tr style=\"text-align: right;\">\n",
              "      <th></th>\n",
              "      <th>creation_time</th>\n",
              "      <th>name</th>\n",
              "      <th>email</th>\n",
              "      <th>creation_source</th>\n",
              "      <th>last_session_creation_time</th>\n",
              "      <th>opted_in_to_mailing_list</th>\n",
              "      <th>enabled_for_marketing_drip</th>\n",
              "      <th>org_id</th>\n",
              "      <th>invited_by_user_id</th>\n",
              "    </tr>\n",
              "    <tr>\n",
              "      <th>object_id</th>\n",
              "      <th></th>\n",
              "      <th></th>\n",
              "      <th></th>\n",
              "      <th></th>\n",
              "      <th></th>\n",
              "      <th></th>\n",
              "      <th></th>\n",
              "      <th></th>\n",
              "      <th></th>\n",
              "    </tr>\n",
              "  </thead>\n",
              "  <tbody>\n",
              "    <tr>\n",
              "      <th>1</th>\n",
              "      <td>2014-04-22 03:53:30</td>\n",
              "      <td>Clausen August</td>\n",
              "      <td>AugustCClausen@yahoo.com</td>\n",
              "      <td>GUEST_INVITE</td>\n",
              "      <td>1.398139e+09</td>\n",
              "      <td>1</td>\n",
              "      <td>0</td>\n",
              "      <td>11</td>\n",
              "      <td>10803.0</td>\n",
              "    </tr>\n",
              "    <tr>\n",
              "      <th>2</th>\n",
              "      <td>2013-11-15 03:45:04</td>\n",
              "      <td>Poole Matthew</td>\n",
              "      <td>MatthewPoole@gustr.com</td>\n",
              "      <td>ORG_INVITE</td>\n",
              "      <td>1.396238e+09</td>\n",
              "      <td>0</td>\n",
              "      <td>0</td>\n",
              "      <td>1</td>\n",
              "      <td>316.0</td>\n",
              "    </tr>\n",
              "    <tr>\n",
              "      <th>3</th>\n",
              "      <td>2013-03-19 23:14:52</td>\n",
              "      <td>Bottrill Mitchell</td>\n",
              "      <td>MitchellBottrill@gustr.com</td>\n",
              "      <td>ORG_INVITE</td>\n",
              "      <td>1.363735e+09</td>\n",
              "      <td>0</td>\n",
              "      <td>0</td>\n",
              "      <td>94</td>\n",
              "      <td>1525.0</td>\n",
              "    </tr>\n",
              "    <tr>\n",
              "      <th>4</th>\n",
              "      <td>2013-05-21 08:09:28</td>\n",
              "      <td>Clausen Nicklas</td>\n",
              "      <td>NicklasSClausen@yahoo.com</td>\n",
              "      <td>GUEST_INVITE</td>\n",
              "      <td>1.369210e+09</td>\n",
              "      <td>0</td>\n",
              "      <td>0</td>\n",
              "      <td>1</td>\n",
              "      <td>5151.0</td>\n",
              "    </tr>\n",
              "    <tr>\n",
              "      <th>5</th>\n",
              "      <td>2013-01-17 10:14:20</td>\n",
              "      <td>Raw Grace</td>\n",
              "      <td>GraceRaw@yahoo.com</td>\n",
              "      <td>GUEST_INVITE</td>\n",
              "      <td>1.358850e+09</td>\n",
              "      <td>0</td>\n",
              "      <td>0</td>\n",
              "      <td>193</td>\n",
              "      <td>5240.0</td>\n",
              "    </tr>\n",
              "  </tbody>\n",
              "</table>\n",
              "</div>\n",
              "      <button class=\"colab-df-convert\" onclick=\"convertToInteractive('df-a45936e8-10fc-4551-8213-31a9de9256b9')\"\n",
              "              title=\"Convert this dataframe to an interactive table.\"\n",
              "              style=\"display:none;\">\n",
              "        \n",
              "  <svg xmlns=\"http://www.w3.org/2000/svg\" height=\"24px\"viewBox=\"0 0 24 24\"\n",
              "       width=\"24px\">\n",
              "    <path d=\"M0 0h24v24H0V0z\" fill=\"none\"/>\n",
              "    <path d=\"M18.56 5.44l.94 2.06.94-2.06 2.06-.94-2.06-.94-.94-2.06-.94 2.06-2.06.94zm-11 1L8.5 8.5l.94-2.06 2.06-.94-2.06-.94L8.5 2.5l-.94 2.06-2.06.94zm10 10l.94 2.06.94-2.06 2.06-.94-2.06-.94-.94-2.06-.94 2.06-2.06.94z\"/><path d=\"M17.41 7.96l-1.37-1.37c-.4-.4-.92-.59-1.43-.59-.52 0-1.04.2-1.43.59L10.3 9.45l-7.72 7.72c-.78.78-.78 2.05 0 2.83L4 21.41c.39.39.9.59 1.41.59.51 0 1.02-.2 1.41-.59l7.78-7.78 2.81-2.81c.8-.78.8-2.07 0-2.86zM5.41 20L4 18.59l7.72-7.72 1.47 1.35L5.41 20z\"/>\n",
              "  </svg>\n",
              "      </button>\n",
              "      \n",
              "  <style>\n",
              "    .colab-df-container {\n",
              "      display:flex;\n",
              "      flex-wrap:wrap;\n",
              "      gap: 12px;\n",
              "    }\n",
              "\n",
              "    .colab-df-convert {\n",
              "      background-color: #E8F0FE;\n",
              "      border: none;\n",
              "      border-radius: 50%;\n",
              "      cursor: pointer;\n",
              "      display: none;\n",
              "      fill: #1967D2;\n",
              "      height: 32px;\n",
              "      padding: 0 0 0 0;\n",
              "      width: 32px;\n",
              "    }\n",
              "\n",
              "    .colab-df-convert:hover {\n",
              "      background-color: #E2EBFA;\n",
              "      box-shadow: 0px 1px 2px rgba(60, 64, 67, 0.3), 0px 1px 3px 1px rgba(60, 64, 67, 0.15);\n",
              "      fill: #174EA6;\n",
              "    }\n",
              "\n",
              "    [theme=dark] .colab-df-convert {\n",
              "      background-color: #3B4455;\n",
              "      fill: #D2E3FC;\n",
              "    }\n",
              "\n",
              "    [theme=dark] .colab-df-convert:hover {\n",
              "      background-color: #434B5C;\n",
              "      box-shadow: 0px 1px 3px 1px rgba(0, 0, 0, 0.15);\n",
              "      filter: drop-shadow(0px 1px 2px rgba(0, 0, 0, 0.3));\n",
              "      fill: #FFFFFF;\n",
              "    }\n",
              "  </style>\n",
              "\n",
              "      <script>\n",
              "        const buttonEl =\n",
              "          document.querySelector('#df-a45936e8-10fc-4551-8213-31a9de9256b9 button.colab-df-convert');\n",
              "        buttonEl.style.display =\n",
              "          google.colab.kernel.accessAllowed ? 'block' : 'none';\n",
              "\n",
              "        async function convertToInteractive(key) {\n",
              "          const element = document.querySelector('#df-a45936e8-10fc-4551-8213-31a9de9256b9');\n",
              "          const dataTable =\n",
              "            await google.colab.kernel.invokeFunction('convertToInteractive',\n",
              "                                                     [key], {});\n",
              "          if (!dataTable) return;\n",
              "\n",
              "          const docLinkHtml = 'Like what you see? Visit the ' +\n",
              "            '<a target=\"_blank\" href=https://colab.research.google.com/notebooks/data_table.ipynb>data table notebook</a>'\n",
              "            + ' to learn more about interactive tables.';\n",
              "          element.innerHTML = '';\n",
              "          dataTable['output_type'] = 'display_data';\n",
              "          await google.colab.output.renderOutput(dataTable, element);\n",
              "          const docLink = document.createElement('div');\n",
              "          docLink.innerHTML = docLinkHtml;\n",
              "          element.appendChild(docLink);\n",
              "        }\n",
              "      </script>\n",
              "    </div>\n",
              "  </div>\n",
              "  "
            ]
          },
          "metadata": {},
          "execution_count": 26
        }
      ]
    },
    {
      "cell_type": "markdown",
      "source": [
        "# EDA and Preprocessing"
      ],
      "metadata": {
        "id": "e6gbxmZ3Xk6P"
      }
    },
    {
      "cell_type": "code",
      "source": [
        "df1[df1.isna().any(axis=1)].count()"
      ],
      "metadata": {
        "id": "CX_a4AivPEf-",
        "colab": {
          "base_uri": "https://localhost:8080/"
        },
        "outputId": "694dc2f1-60a1-412a-8472-6206b8f0085b"
      },
      "execution_count": 27,
      "outputs": [
        {
          "output_type": "execute_result",
          "data": {
            "text/plain": [
              "creation_time                 7224\n",
              "name                          7224\n",
              "email                         7224\n",
              "creation_source               7224\n",
              "last_session_creation_time    4047\n",
              "opted_in_to_mailing_list      7224\n",
              "enabled_for_marketing_drip    7224\n",
              "org_id                        7224\n",
              "invited_by_user_id            1641\n",
              "dtype: int64"
            ]
          },
          "metadata": {},
          "execution_count": 27
        }
      ]
    },
    {
      "cell_type": "code",
      "source": [
        "df1.info()"
      ],
      "metadata": {
        "id": "-MmP7odb-H8Z",
        "colab": {
          "base_uri": "https://localhost:8080/"
        },
        "outputId": "f677605a-599a-4e62-963a-d6fe197fe8c4"
      },
      "execution_count": 28,
      "outputs": [
        {
          "output_type": "stream",
          "name": "stdout",
          "text": [
            "<class 'pandas.core.frame.DataFrame'>\n",
            "Int64Index: 12000 entries, 1 to 12000\n",
            "Data columns (total 9 columns):\n",
            " #   Column                      Non-Null Count  Dtype  \n",
            "---  ------                      --------------  -----  \n",
            " 0   creation_time               12000 non-null  object \n",
            " 1   name                        12000 non-null  object \n",
            " 2   email                       12000 non-null  object \n",
            " 3   creation_source             12000 non-null  object \n",
            " 4   last_session_creation_time  8823 non-null   float64\n",
            " 5   opted_in_to_mailing_list    12000 non-null  int64  \n",
            " 6   enabled_for_marketing_drip  12000 non-null  int64  \n",
            " 7   org_id                      12000 non-null  int64  \n",
            " 8   invited_by_user_id          6417 non-null   float64\n",
            "dtypes: float64(2), int64(3), object(4)\n",
            "memory usage: 937.5+ KB\n"
          ]
        }
      ]
    },
    {
      "cell_type": "code",
      "source": [
        "# Changing the data type of 'Creation_time' to datetime64\n",
        "df1['creation_time']=df1['creation_time'].astype('datetime64')\n",
        "df1.info()"
      ],
      "metadata": {
        "id": "kjM2MSRPZCOD",
        "colab": {
          "base_uri": "https://localhost:8080/"
        },
        "outputId": "544b8100-e165-417f-f8a1-fefa810e948c"
      },
      "execution_count": 29,
      "outputs": [
        {
          "output_type": "stream",
          "name": "stdout",
          "text": [
            "<class 'pandas.core.frame.DataFrame'>\n",
            "Int64Index: 12000 entries, 1 to 12000\n",
            "Data columns (total 9 columns):\n",
            " #   Column                      Non-Null Count  Dtype         \n",
            "---  ------                      --------------  -----         \n",
            " 0   creation_time               12000 non-null  datetime64[ns]\n",
            " 1   name                        12000 non-null  object        \n",
            " 2   email                       12000 non-null  object        \n",
            " 3   creation_source             12000 non-null  object        \n",
            " 4   last_session_creation_time  8823 non-null   float64       \n",
            " 5   opted_in_to_mailing_list    12000 non-null  int64         \n",
            " 6   enabled_for_marketing_drip  12000 non-null  int64         \n",
            " 7   org_id                      12000 non-null  int64         \n",
            " 8   invited_by_user_id          6417 non-null   float64       \n",
            "dtypes: datetime64[ns](1), float64(2), int64(3), object(3)\n",
            "memory usage: 937.5+ KB\n"
          ]
        }
      ]
    },
    {
      "cell_type": "code",
      "source": [
        "# Converting the 'Last_session_creation_time' to datetime64 format\n",
        "\n",
        "df1['last_session_creation_time']=pd.to_datetime(df1['last_session_creation_time'], unit='s')\n",
        "df1.info()"
      ],
      "metadata": {
        "id": "ylZRGMYFhoTV",
        "colab": {
          "base_uri": "https://localhost:8080/"
        },
        "outputId": "68df9561-42dd-4cb4-8e96-921ed962a440"
      },
      "execution_count": 30,
      "outputs": [
        {
          "output_type": "stream",
          "name": "stdout",
          "text": [
            "<class 'pandas.core.frame.DataFrame'>\n",
            "Int64Index: 12000 entries, 1 to 12000\n",
            "Data columns (total 9 columns):\n",
            " #   Column                      Non-Null Count  Dtype         \n",
            "---  ------                      --------------  -----         \n",
            " 0   creation_time               12000 non-null  datetime64[ns]\n",
            " 1   name                        12000 non-null  object        \n",
            " 2   email                       12000 non-null  object        \n",
            " 3   creation_source             12000 non-null  object        \n",
            " 4   last_session_creation_time  8823 non-null   datetime64[ns]\n",
            " 5   opted_in_to_mailing_list    12000 non-null  int64         \n",
            " 6   enabled_for_marketing_drip  12000 non-null  int64         \n",
            " 7   org_id                      12000 non-null  int64         \n",
            " 8   invited_by_user_id          6417 non-null   float64       \n",
            "dtypes: datetime64[ns](2), float64(1), int64(3), object(3)\n",
            "memory usage: 937.5+ KB\n"
          ]
        }
      ]
    },
    {
      "cell_type": "code",
      "source": [
        "# Reading the Userlogin Data file\n",
        "\n",
        "df2=pd.read_csv('https://raw.githubusercontent.com/henselwilson/GuviTask/main/takehome_user_engagement.csv')\n",
        "df2.head()"
      ],
      "metadata": {
        "id": "ydFeukM6pGMd",
        "colab": {
          "base_uri": "https://localhost:8080/",
          "height": 206
        },
        "outputId": "d4e7a8df-d7cd-4845-8117-ec22f51406d4"
      },
      "execution_count": 31,
      "outputs": [
        {
          "output_type": "execute_result",
          "data": {
            "text/plain": [
              "            time_stamp  user_id  visited\n",
              "0  2014-04-22 03:53:30        1        1\n",
              "1  2013-11-15 03:45:04        2        1\n",
              "2  2013-11-29 03:45:04        2        1\n",
              "3  2013-12-09 03:45:04        2        1\n",
              "4  2013-12-25 03:45:04        2        1"
            ],
            "text/html": [
              "\n",
              "  <div id=\"df-ff30910e-45c9-4871-b394-95475e8f084f\">\n",
              "    <div class=\"colab-df-container\">\n",
              "      <div>\n",
              "<style scoped>\n",
              "    .dataframe tbody tr th:only-of-type {\n",
              "        vertical-align: middle;\n",
              "    }\n",
              "\n",
              "    .dataframe tbody tr th {\n",
              "        vertical-align: top;\n",
              "    }\n",
              "\n",
              "    .dataframe thead th {\n",
              "        text-align: right;\n",
              "    }\n",
              "</style>\n",
              "<table border=\"1\" class=\"dataframe\">\n",
              "  <thead>\n",
              "    <tr style=\"text-align: right;\">\n",
              "      <th></th>\n",
              "      <th>time_stamp</th>\n",
              "      <th>user_id</th>\n",
              "      <th>visited</th>\n",
              "    </tr>\n",
              "  </thead>\n",
              "  <tbody>\n",
              "    <tr>\n",
              "      <th>0</th>\n",
              "      <td>2014-04-22 03:53:30</td>\n",
              "      <td>1</td>\n",
              "      <td>1</td>\n",
              "    </tr>\n",
              "    <tr>\n",
              "      <th>1</th>\n",
              "      <td>2013-11-15 03:45:04</td>\n",
              "      <td>2</td>\n",
              "      <td>1</td>\n",
              "    </tr>\n",
              "    <tr>\n",
              "      <th>2</th>\n",
              "      <td>2013-11-29 03:45:04</td>\n",
              "      <td>2</td>\n",
              "      <td>1</td>\n",
              "    </tr>\n",
              "    <tr>\n",
              "      <th>3</th>\n",
              "      <td>2013-12-09 03:45:04</td>\n",
              "      <td>2</td>\n",
              "      <td>1</td>\n",
              "    </tr>\n",
              "    <tr>\n",
              "      <th>4</th>\n",
              "      <td>2013-12-25 03:45:04</td>\n",
              "      <td>2</td>\n",
              "      <td>1</td>\n",
              "    </tr>\n",
              "  </tbody>\n",
              "</table>\n",
              "</div>\n",
              "      <button class=\"colab-df-convert\" onclick=\"convertToInteractive('df-ff30910e-45c9-4871-b394-95475e8f084f')\"\n",
              "              title=\"Convert this dataframe to an interactive table.\"\n",
              "              style=\"display:none;\">\n",
              "        \n",
              "  <svg xmlns=\"http://www.w3.org/2000/svg\" height=\"24px\"viewBox=\"0 0 24 24\"\n",
              "       width=\"24px\">\n",
              "    <path d=\"M0 0h24v24H0V0z\" fill=\"none\"/>\n",
              "    <path d=\"M18.56 5.44l.94 2.06.94-2.06 2.06-.94-2.06-.94-.94-2.06-.94 2.06-2.06.94zm-11 1L8.5 8.5l.94-2.06 2.06-.94-2.06-.94L8.5 2.5l-.94 2.06-2.06.94zm10 10l.94 2.06.94-2.06 2.06-.94-2.06-.94-.94-2.06-.94 2.06-2.06.94z\"/><path d=\"M17.41 7.96l-1.37-1.37c-.4-.4-.92-.59-1.43-.59-.52 0-1.04.2-1.43.59L10.3 9.45l-7.72 7.72c-.78.78-.78 2.05 0 2.83L4 21.41c.39.39.9.59 1.41.59.51 0 1.02-.2 1.41-.59l7.78-7.78 2.81-2.81c.8-.78.8-2.07 0-2.86zM5.41 20L4 18.59l7.72-7.72 1.47 1.35L5.41 20z\"/>\n",
              "  </svg>\n",
              "      </button>\n",
              "      \n",
              "  <style>\n",
              "    .colab-df-container {\n",
              "      display:flex;\n",
              "      flex-wrap:wrap;\n",
              "      gap: 12px;\n",
              "    }\n",
              "\n",
              "    .colab-df-convert {\n",
              "      background-color: #E8F0FE;\n",
              "      border: none;\n",
              "      border-radius: 50%;\n",
              "      cursor: pointer;\n",
              "      display: none;\n",
              "      fill: #1967D2;\n",
              "      height: 32px;\n",
              "      padding: 0 0 0 0;\n",
              "      width: 32px;\n",
              "    }\n",
              "\n",
              "    .colab-df-convert:hover {\n",
              "      background-color: #E2EBFA;\n",
              "      box-shadow: 0px 1px 2px rgba(60, 64, 67, 0.3), 0px 1px 3px 1px rgba(60, 64, 67, 0.15);\n",
              "      fill: #174EA6;\n",
              "    }\n",
              "\n",
              "    [theme=dark] .colab-df-convert {\n",
              "      background-color: #3B4455;\n",
              "      fill: #D2E3FC;\n",
              "    }\n",
              "\n",
              "    [theme=dark] .colab-df-convert:hover {\n",
              "      background-color: #434B5C;\n",
              "      box-shadow: 0px 1px 3px 1px rgba(0, 0, 0, 0.15);\n",
              "      filter: drop-shadow(0px 1px 2px rgba(0, 0, 0, 0.3));\n",
              "      fill: #FFFFFF;\n",
              "    }\n",
              "  </style>\n",
              "\n",
              "      <script>\n",
              "        const buttonEl =\n",
              "          document.querySelector('#df-ff30910e-45c9-4871-b394-95475e8f084f button.colab-df-convert');\n",
              "        buttonEl.style.display =\n",
              "          google.colab.kernel.accessAllowed ? 'block' : 'none';\n",
              "\n",
              "        async function convertToInteractive(key) {\n",
              "          const element = document.querySelector('#df-ff30910e-45c9-4871-b394-95475e8f084f');\n",
              "          const dataTable =\n",
              "            await google.colab.kernel.invokeFunction('convertToInteractive',\n",
              "                                                     [key], {});\n",
              "          if (!dataTable) return;\n",
              "\n",
              "          const docLinkHtml = 'Like what you see? Visit the ' +\n",
              "            '<a target=\"_blank\" href=https://colab.research.google.com/notebooks/data_table.ipynb>data table notebook</a>'\n",
              "            + ' to learn more about interactive tables.';\n",
              "          element.innerHTML = '';\n",
              "          dataTable['output_type'] = 'display_data';\n",
              "          await google.colab.output.renderOutput(dataTable, element);\n",
              "          const docLink = document.createElement('div');\n",
              "          docLink.innerHTML = docLinkHtml;\n",
              "          element.appendChild(docLink);\n",
              "        }\n",
              "      </script>\n",
              "    </div>\n",
              "  </div>\n",
              "  "
            ]
          },
          "metadata": {},
          "execution_count": 31
        }
      ]
    },
    {
      "cell_type": "code",
      "source": [
        "df2.shape"
      ],
      "metadata": {
        "id": "K8UeFaaPqoEe",
        "colab": {
          "base_uri": "https://localhost:8080/"
        },
        "outputId": "84f21d84-d147-4cbc-d403-083a6730ec40"
      },
      "execution_count": 32,
      "outputs": [
        {
          "output_type": "execute_result",
          "data": {
            "text/plain": [
              "(207917, 3)"
            ]
          },
          "metadata": {},
          "execution_count": 32
        }
      ]
    },
    {
      "cell_type": "code",
      "source": [
        "df2.info()"
      ],
      "metadata": {
        "id": "Ux93Pql7rgmO",
        "colab": {
          "base_uri": "https://localhost:8080/"
        },
        "outputId": "0d263af8-24b8-468c-90db-6bf972d86314"
      },
      "execution_count": 33,
      "outputs": [
        {
          "output_type": "stream",
          "name": "stdout",
          "text": [
            "<class 'pandas.core.frame.DataFrame'>\n",
            "RangeIndex: 207917 entries, 0 to 207916\n",
            "Data columns (total 3 columns):\n",
            " #   Column      Non-Null Count   Dtype \n",
            "---  ------      --------------   ----- \n",
            " 0   time_stamp  207917 non-null  object\n",
            " 1   user_id     207917 non-null  int64 \n",
            " 2   visited     207917 non-null  int64 \n",
            "dtypes: int64(2), object(1)\n",
            "memory usage: 4.8+ MB\n"
          ]
        }
      ]
    },
    {
      "cell_type": "code",
      "source": [
        "# Converting 'time_stamp' column to datetime format\n",
        "\n",
        "df2['time_stamp']=df2['time_stamp'].astype('datetime64')\n",
        "df2.info()"
      ],
      "metadata": {
        "id": "o_FvLordtBhx",
        "colab": {
          "base_uri": "https://localhost:8080/"
        },
        "outputId": "f861c958-5058-4bf9-bc17-da5a8de2d0bf"
      },
      "execution_count": 34,
      "outputs": [
        {
          "output_type": "stream",
          "name": "stdout",
          "text": [
            "<class 'pandas.core.frame.DataFrame'>\n",
            "RangeIndex: 207917 entries, 0 to 207916\n",
            "Data columns (total 3 columns):\n",
            " #   Column      Non-Null Count   Dtype         \n",
            "---  ------      --------------   -----         \n",
            " 0   time_stamp  207917 non-null  datetime64[ns]\n",
            " 1   user_id     207917 non-null  int64         \n",
            " 2   visited     207917 non-null  int64         \n",
            "dtypes: datetime64[ns](1), int64(2)\n",
            "memory usage: 4.8 MB\n"
          ]
        }
      ]
    },
    {
      "cell_type": "code",
      "source": [
        "# Creating a data column that contains only the Date patrt of the time_stamp\n",
        "# Plotting the graph between the date and Logins per day.\n",
        "\n",
        "df2['date']=df2['time_stamp'].dt.date\n",
        "users_per_day=df2.groupby('date').count()\n",
        "users_per_day.reset_index(inplace=True)\n",
        "plt.plot(users_per_day.date,users_per_day.visited)"
      ],
      "metadata": {
        "id": "ubZ6HTY6tObR",
        "colab": {
          "base_uri": "https://localhost:8080/",
          "height": 282
        },
        "outputId": "a2d0548d-3437-4ed3-8090-ffaf605a23a0"
      },
      "execution_count": 35,
      "outputs": [
        {
          "output_type": "execute_result",
          "data": {
            "text/plain": [
              "[<matplotlib.lines.Line2D at 0x7f1a564d0910>]"
            ]
          },
          "metadata": {},
          "execution_count": 35
        },
        {
          "output_type": "display_data",
          "data": {
            "text/plain": [
              "<Figure size 432x288 with 1 Axes>"
            ],
            "image/png": "[encoded data removed]"
          },
          "metadata": {
            "needs_background": "light"
          }
        }
      ]
    },
    {
      "cell_type": "code",
      "source": [
        "# Plotting to identify the trends in the highest contributor/source to signing up users\n",
        "\n",
        "plt.figure(figsize=(10,10))\n",
        "plt.hist(df1.creation_source)"
      ],
      "metadata": {
        "id": "tSOgkhjeyM4C",
        "colab": {
          "base_uri": "https://localhost:8080/",
          "height": 661
        },
        "outputId": "64c36acd-67ea-45e0-a07d-e5edb8cc6bbe"
      },
      "execution_count": 36,
      "outputs": [
        {
          "output_type": "execute_result",
          "data": {
            "text/plain": [
              "(array([2163.,    0., 4254.,    0.,    0., 2087.,    0., 2111.,    0.,\n",
              "        1385.]),\n",
              " array([0. , 0.4, 0.8, 1.2, 1.6, 2. , 2.4, 2.8, 3.2, 3.6, 4. ]),\n",
              " <a list of 10 Patch objects>)"
            ]
          },
          "metadata": {},
          "execution_count": 36
        },
        {
          "output_type": "display_data",
          "data": {
            "text/plain": [
              "<Figure size 720x720 with 1 Axes>"
            ],
            "image/png": "[encoded data removed]"
          },
          "metadata": {
            "needs_background": "light"
          }
        }
      ]
    },
    {
      "cell_type": "code",
      "source": [
        "\"\"\"\n",
        "adopted_user=[]\n",
        "from datetime import datetime, timedelta\n",
        "for user in range(1,12001):\n",
        "  if user not in df2.values:\n",
        "    continue\n",
        "  temp=df2.loc[df2['user_id']==user]\n",
        "  temp['usage']=temp['date'].diff(periods=2)\n",
        "  temp['usage']=temp['usage'].fillna(timedelta(days=10))\n",
        "  if temp.usage.dt.days.min()<7:\n",
        "    adopted_user.append(user)\n",
        "len(adopted_user)\n",
        "\"\"\""
      ],
      "metadata": {
        "id": "_HcqybR50BLr",
        "colab": {
          "base_uri": "https://localhost:8080/",
          "height": 70
        },
        "outputId": "5f420001-3d26-48d6-e1f0-178bf7fbfd24"
      },
      "execution_count": 37,
      "outputs": [
        {
          "output_type": "execute_result",
          "data": {
            "text/plain": [
              "\"\\nadopted_user=[]\\nfrom datetime import datetime, timedelta\\nfor user in range(1,12001):\\n  if user not in df2.values:\\n    continue\\n  temp=df2.loc[df2['user_id']==user]\\n  temp['usage']=temp['date'].diff(periods=2)\\n  temp['usage']=temp['usage'].fillna(timedelta(days=10))\\n  if temp.usage.dt.days.min()<7:\\n    adopted_user.append(user)\\nlen(adopted_user)\\n\""
            ],
            "application/vnd.google.colaboratory.intrinsic+json": {
              "type": "string"
            }
          },
          "metadata": {},
          "execution_count": 37
        }
      ]
    },
    {
      "cell_type": "code",
      "source": [
        "# This code below creates a dataframe and groups entries with same user_id and then resets the index so that further operations can be performed. \n",
        "# The difference of date between entries 2 periods apart is taken and added to a new column.\n",
        "# The data is again grouped by user_id and then the minimum of this value is checked if it below 7 days. If it is less than 7 days the user_id is added to a list of adopted_users\n",
        "\n",
        "usage_data=df2.groupby(['user_id','date']).count()\n",
        "usage_data.reset_index(inplace=True)\n",
        "usage_data['usage']=usage_data.date.diff(periods=2).abs()\n",
        "Min_usage_data=pd.DataFrame(usage_data.groupby('user_id').usage.min().dt.days)\n",
        "Min_usage_data.reset_index(inplace=True)\n",
        "adopted_users=list(Min_usage_data[Min_usage_data.usage<7].user_id)"
      ],
      "metadata": {
        "id": "BQWQlBD1-46e"
      },
      "execution_count": 38,
      "outputs": []
    },
    {
      "cell_type": "code",
      "source": [
        "len(adopted_users)"
      ],
      "metadata": {
        "id": "9lj_RpvH6teB",
        "colab": {
          "base_uri": "https://localhost:8080/"
        },
        "outputId": "b53fbff4-43bd-4ba9-c675-849434870926"
      },
      "execution_count": 39,
      "outputs": [
        {
          "output_type": "execute_result",
          "data": {
            "text/plain": [
              "1802"
            ]
          },
          "metadata": {},
          "execution_count": 39
        }
      ]
    },
    {
      "cell_type": "code",
      "source": [
        "# The adopted users data collected from the 'takehome_users_engagement' dataset is linked to the object_id column of the 'takehome_users' data.\n",
        "# If the object id is in the list of adpted_users the 'adopted_user' colum if give value 1 else it is 0.\n",
        "\n",
        "df1['adopted_user']=0\n",
        "df1.loc[adopted_users,'adopted_user']=1"
      ],
      "metadata": {
        "id": "pnn6SfTbByZ0"
      },
      "execution_count": 40,
      "outputs": []
    },
    {
      "cell_type": "code",
      "source": [
        "# The Creation source is converted from object to numerical data.\n",
        "\n",
        "creation_val={'ORG_INVITE':1,'GUEST_INVITE':2,'PERSONAL_PROJECTS':3,'SIGNUP':4,'SIGNUP_GOOGLE_AUTH':5}\n",
        "df1['creation_source']=df1['creation_source'].apply(lambda x : creation_val[x])\n",
        "df1"
      ],
      "metadata": {
        "id": "BQVSKex-FKW0",
        "colab": {
          "base_uri": "https://localhost:8080/",
          "height": 693
        },
        "outputId": "ff754202-7eae-4796-c5c7-0d41776f6d48"
      },
      "execution_count": 41,
      "outputs": [
        {
          "output_type": "execute_result",
          "data": {
            "text/plain": [
              "                creation_time               name                       email  \\\n",
              "object_id                                                                      \n",
              "1         2014-04-22 03:53:30     Clausen August    AugustCClausen@yahoo.com   \n",
              "2         2013-11-15 03:45:04      Poole Matthew      MatthewPoole@gustr.com   \n",
              "3         2013-03-19 23:14:52  Bottrill Mitchell  MitchellBottrill@gustr.com   \n",
              "4         2013-05-21 08:09:28    Clausen Nicklas   NicklasSClausen@yahoo.com   \n",
              "5         2013-01-17 10:14:20          Raw Grace          GraceRaw@yahoo.com   \n",
              "...                       ...                ...                         ...   \n",
              "11996     2013-09-06 06:14:15       Meier Sophia       SophiaMeier@gustr.com   \n",
              "11997     2013-01-10 18:28:37      Fisher Amelie      AmelieFisher@gmail.com   \n",
              "11998     2014-04-27 12:45:16        Haynes Jake         JakeHaynes@cuvox.de   \n",
              "11999     2012-05-31 11:55:59       Faber Annett          mhaerzxp@iuxiw.com   \n",
              "12000     2014-01-26 08:57:12         Lima Thaís   ThaisMeloLima@hotmail.com   \n",
              "\n",
              "           creation_source last_session_creation_time  \\\n",
              "object_id                                               \n",
              "1                        2        2014-04-22 03:53:30   \n",
              "2                        1        2014-03-31 03:45:04   \n",
              "3                        1        2013-03-19 23:14:52   \n",
              "4                        2        2013-05-22 08:09:28   \n",
              "5                        2        2013-01-22 10:14:20   \n",
              "...                    ...                        ...   \n",
              "11996                    1        2013-09-06 06:14:15   \n",
              "11997                    5        2013-01-15 18:28:37   \n",
              "11998                    2        2014-04-27 12:45:16   \n",
              "11999                    3        2012-06-02 11:55:59   \n",
              "12000                    4        2014-01-26 08:57:12   \n",
              "\n",
              "           opted_in_to_mailing_list  enabled_for_marketing_drip  org_id  \\\n",
              "object_id                                                                 \n",
              "1                                 1                           0      11   \n",
              "2                                 0                           0       1   \n",
              "3                                 0                           0      94   \n",
              "4                                 0                           0       1   \n",
              "5                                 0                           0     193   \n",
              "...                             ...                         ...     ...   \n",
              "11996                             0                           0      89   \n",
              "11997                             0                           0     200   \n",
              "11998                             1                           1      83   \n",
              "11999                             0                           0       6   \n",
              "12000                             0                           1       0   \n",
              "\n",
              "           invited_by_user_id  adopted_user  \n",
              "object_id                                    \n",
              "1                     10803.0             0  \n",
              "2                       316.0             1  \n",
              "3                      1525.0             0  \n",
              "4                      5151.0             0  \n",
              "5                      5240.0             0  \n",
              "...                       ...           ...  \n",
              "11996                  8263.0             0  \n",
              "11997                     NaN             0  \n",
              "11998                  8074.0             0  \n",
              "11999                     NaN             0  \n",
              "12000                     NaN             0  \n",
              "\n",
              "[12000 rows x 10 columns]"
            ],
            "text/html": [
              "\n",
              "  <div id=\"df-086274d0-2493-4cbc-941b-a2f5fc560290\">\n",
              "    <div class=\"colab-df-container\">\n",
              "      <div>\n",
              "<style scoped>\n",
              "    .dataframe tbody tr th:only-of-type {\n",
              "        vertical-align: middle;\n",
              "    }\n",
              "\n",
              "    .dataframe tbody tr th {\n",
              "        vertical-align: top;\n",
              "    }\n",
              "\n",
              "    .dataframe thead th {\n",
              "        text-align: right;\n",
              "    }\n",
              "</style>\n",
              "<table border=\"1\" class=\"dataframe\">\n",
              "  <thead>\n",
              "    <tr style=\"text-align: right;\">\n",
              "      <th></th>\n",
              "      <th>creation_time</th>\n",
              "      <th>name</th>\n",
              "      <th>email</th>\n",
              "      <th>creation_source</th>\n",
              "      <th>last_session_creation_time</th>\n",
              "      <th>opted_in_to_mailing_list</th>\n",
              "      <th>enabled_for_marketing_drip</th>\n",
              "      <th>org_id</th>\n",
              "      <th>invited_by_user_id</th>\n",
              "      <th>adopted_user</th>\n",
              "    </tr>\n",
              "    <tr>\n",
              "      <th>object_id</th>\n",
              "      <th></th>\n",
              "      <th></th>\n",
              "      <th></th>\n",
              "      <th></th>\n",
              "      <th></th>\n",
              "      <th></th>\n",
              "      <th></th>\n",
              "      <th></th>\n",
              "      <th></th>\n",
              "      <th></th>\n",
              "    </tr>\n",
              "  </thead>\n",
              "  <tbody>\n",
              "    <tr>\n",
              "      <th>1</th>\n",
              "      <td>2014-04-22 03:53:30</td>\n",
              "      <td>Clausen August</td>\n",
              "      <td>AugustCClausen@yahoo.com</td>\n",
              "      <td>2</td>\n",
              "      <td>2014-04-22 03:53:30</td>\n",
              "      <td>1</td>\n",
              "      <td>0</td>\n",
              "      <td>11</td>\n",
              "      <td>10803.0</td>\n",
              "      <td>0</td>\n",
              "    </tr>\n",
              "    <tr>\n",
              "      <th>2</th>\n",
              "      <td>2013-11-15 03:45:04</td>\n",
              "      <td>Poole Matthew</td>\n",
              "      <td>MatthewPoole@gustr.com</td>\n",
              "      <td>1</td>\n",
              "      <td>2014-03-31 03:45:04</td>\n",
              "      <td>0</td>\n",
              "      <td>0</td>\n",
              "      <td>1</td>\n",
              "      <td>316.0</td>\n",
              "      <td>1</td>\n",
              "    </tr>\n",
              "    <tr>\n",
              "      <th>3</th>\n",
              "      <td>2013-03-19 23:14:52</td>\n",
              "      <td>Bottrill Mitchell</td>\n",
              "      <td>MitchellBottrill@gustr.com</td>\n",
              "      <td>1</td>\n",
              "      <td>2013-03-19 23:14:52</td>\n",
              "      <td>0</td>\n",
              "      <td>0</td>\n",
              "      <td>94</td>\n",
              "      <td>1525.0</td>\n",
              "      <td>0</td>\n",
              "    </tr>\n",
              "    <tr>\n",
              "      <th>4</th>\n",
              "      <td>2013-05-21 08:09:28</td>\n",
              "      <td>Clausen Nicklas</td>\n",
              "      <td>NicklasSClausen@yahoo.com</td>\n",
              "      <td>2</td>\n",
              "      <td>2013-05-22 08:09:28</td>\n",
              "      <td>0</td>\n",
              "      <td>0</td>\n",
              "      <td>1</td>\n",
              "      <td>5151.0</td>\n",
              "      <td>0</td>\n",
              "    </tr>\n",
              "    <tr>\n",
              "      <th>5</th>\n",
              "      <td>2013-01-17 10:14:20</td>\n",
              "      <td>Raw Grace</td>\n",
              "      <td>GraceRaw@yahoo.com</td>\n",
              "      <td>2</td>\n",
              "      <td>2013-01-22 10:14:20</td>\n",
              "      <td>0</td>\n",
              "      <td>0</td>\n",
              "      <td>193</td>\n",
              "      <td>5240.0</td>\n",
              "      <td>0</td>\n",
              "    </tr>\n",
              "    <tr>\n",
              "      <th>...</th>\n",
              "      <td>...</td>\n",
              "      <td>...</td>\n",
              "      <td>...</td>\n",
              "      <td>...</td>\n",
              "      <td>...</td>\n",
              "      <td>...</td>\n",
              "      <td>...</td>\n",
              "      <td>...</td>\n",
              "      <td>...</td>\n",
              "      <td>...</td>\n",
              "    </tr>\n",
              "    <tr>\n",
              "      <th>11996</th>\n",
              "      <td>2013-09-06 06:14:15</td>\n",
              "      <td>Meier Sophia</td>\n",
              "      <td>SophiaMeier@gustr.com</td>\n",
              "      <td>1</td>\n",
              "      <td>2013-09-06 06:14:15</td>\n",
              "      <td>0</td>\n",
              "      <td>0</td>\n",
              "      <td>89</td>\n",
              "      <td>8263.0</td>\n",
              "      <td>0</td>\n",
              "    </tr>\n",
              "    <tr>\n",
              "      <th>11997</th>\n",
              "      <td>2013-01-10 18:28:37</td>\n",
              "      <td>Fisher Amelie</td>\n",
              "      <td>AmelieFisher@gmail.com</td>\n",
              "      <td>5</td>\n",
              "      <td>2013-01-15 18:28:37</td>\n",
              "      <td>0</td>\n",
              "      <td>0</td>\n",
              "      <td>200</td>\n",
              "      <td>NaN</td>\n",
              "      <td>0</td>\n",
              "    </tr>\n",
              "    <tr>\n",
              "      <th>11998</th>\n",
              "      <td>2014-04-27 12:45:16</td>\n",
              "      <td>Haynes Jake</td>\n",
              "      <td>JakeHaynes@cuvox.de</td>\n",
              "      <td>2</td>\n",
              "      <td>2014-04-27 12:45:16</td>\n",
              "      <td>1</td>\n",
              "      <td>1</td>\n",
              "      <td>83</td>\n",
              "      <td>8074.0</td>\n",
              "      <td>0</td>\n",
              "    </tr>\n",
              "    <tr>\n",
              "      <th>11999</th>\n",
              "      <td>2012-05-31 11:55:59</td>\n",
              "      <td>Faber Annett</td>\n",
              "      <td>mhaerzxp@iuxiw.com</td>\n",
              "      <td>3</td>\n",
              "      <td>2012-06-02 11:55:59</td>\n",
              "      <td>0</td>\n",
              "      <td>0</td>\n",
              "      <td>6</td>\n",
              "      <td>NaN</td>\n",
              "      <td>0</td>\n",
              "    </tr>\n",
              "    <tr>\n",
              "      <th>12000</th>\n",
              "      <td>2014-01-26 08:57:12</td>\n",
              "      <td>Lima Thaís</td>\n",
              "      <td>ThaisMeloLima@hotmail.com</td>\n",
              "      <td>4</td>\n",
              "      <td>2014-01-26 08:57:12</td>\n",
              "      <td>0</td>\n",
              "      <td>1</td>\n",
              "      <td>0</td>\n",
              "      <td>NaN</td>\n",
              "      <td>0</td>\n",
              "    </tr>\n",
              "  </tbody>\n",
              "</table>\n",
              "<p>12000 rows × 10 columns</p>\n",
              "</div>\n",
              "      <button class=\"colab-df-convert\" onclick=\"convertToInteractive('df-086274d0-2493-4cbc-941b-a2f5fc560290')\"\n",
              "              title=\"Convert this dataframe to an interactive table.\"\n",
              "              style=\"display:none;\">\n",
              "        \n",
              "  <svg xmlns=\"http://www.w3.org/2000/svg\" height=\"24px\"viewBox=\"0 0 24 24\"\n",
              "       width=\"24px\">\n",
              "    <path d=\"M0 0h24v24H0V0z\" fill=\"none\"/>\n",
              "    <path d=\"M18.56 5.44l.94 2.06.94-2.06 2.06-.94-2.06-.94-.94-2.06-.94 2.06-2.06.94zm-11 1L8.5 8.5l.94-2.06 2.06-.94-2.06-.94L8.5 2.5l-.94 2.06-2.06.94zm10 10l.94 2.06.94-2.06 2.06-.94-2.06-.94-.94-2.06-.94 2.06-2.06.94z\"/><path d=\"M17.41 7.96l-1.37-1.37c-.4-.4-.92-.59-1.43-.59-.52 0-1.04.2-1.43.59L10.3 9.45l-7.72 7.72c-.78.78-.78 2.05 0 2.83L4 21.41c.39.39.9.59 1.41.59.51 0 1.02-.2 1.41-.59l7.78-7.78 2.81-2.81c.8-.78.8-2.07 0-2.86zM5.41 20L4 18.59l7.72-7.72 1.47 1.35L5.41 20z\"/>\n",
              "  </svg>\n",
              "      </button>\n",
              "      \n",
              "  <style>\n",
              "    .colab-df-container {\n",
              "      display:flex;\n",
              "      flex-wrap:wrap;\n",
              "      gap: 12px;\n",
              "    }\n",
              "\n",
              "    .colab-df-convert {\n",
              "      background-color: #E8F0FE;\n",
              "      border: none;\n",
              "      border-radius: 50%;\n",
              "      cursor: pointer;\n",
              "      display: none;\n",
              "      fill: #1967D2;\n",
              "      height: 32px;\n",
              "      padding: 0 0 0 0;\n",
              "      width: 32px;\n",
              "    }\n",
              "\n",
              "    .colab-df-convert:hover {\n",
              "      background-color: #E2EBFA;\n",
              "      box-shadow: 0px 1px 2px rgba(60, 64, 67, 0.3), 0px 1px 3px 1px rgba(60, 64, 67, 0.15);\n",
              "      fill: #174EA6;\n",
              "    }\n",
              "\n",
              "    [theme=dark] .colab-df-convert {\n",
              "      background-color: #3B4455;\n",
              "      fill: #D2E3FC;\n",
              "    }\n",
              "\n",
              "    [theme=dark] .colab-df-convert:hover {\n",
              "      background-color: #434B5C;\n",
              "      box-shadow: 0px 1px 3px 1px rgba(0, 0, 0, 0.15);\n",
              "      filter: drop-shadow(0px 1px 2px rgba(0, 0, 0, 0.3));\n",
              "      fill: #FFFFFF;\n",
              "    }\n",
              "  </style>\n",
              "\n",
              "      <script>\n",
              "        const buttonEl =\n",
              "          document.querySelector('#df-086274d0-2493-4cbc-941b-a2f5fc560290 button.colab-df-convert');\n",
              "        buttonEl.style.display =\n",
              "          google.colab.kernel.accessAllowed ? 'block' : 'none';\n",
              "\n",
              "        async function convertToInteractive(key) {\n",
              "          const element = document.querySelector('#df-086274d0-2493-4cbc-941b-a2f5fc560290');\n",
              "          const dataTable =\n",
              "            await google.colab.kernel.invokeFunction('convertToInteractive',\n",
              "                                                     [key], {});\n",
              "          if (!dataTable) return;\n",
              "\n",
              "          const docLinkHtml = 'Like what you see? Visit the ' +\n",
              "            '<a target=\"_blank\" href=https://colab.research.google.com/notebooks/data_table.ipynb>data table notebook</a>'\n",
              "            + ' to learn more about interactive tables.';\n",
              "          element.innerHTML = '';\n",
              "          dataTable['output_type'] = 'display_data';\n",
              "          await google.colab.output.renderOutput(dataTable, element);\n",
              "          const docLink = document.createElement('div');\n",
              "          docLink.innerHTML = docLinkHtml;\n",
              "          element.appendChild(docLink);\n",
              "        }\n",
              "      </script>\n",
              "    </div>\n",
              "  </div>\n",
              "  "
            ]
          },
          "metadata": {},
          "execution_count": 41
        }
      ]
    },
    {
      "cell_type": "code",
      "source": [
        "\"\"\"\n",
        "from sklearn.preprocessing import StandardScaler\n",
        "funcn=StandardScaler()\n",
        "func.fit_transform(X)\n",
        "stand_df1=df1.copy()\n",
        "stand_df1[]\n",
        "\"\"\""
      ],
      "metadata": {
        "colab": {
          "base_uri": "https://localhost:8080/",
          "height": 35
        },
        "id": "octk4TNnuXRu",
        "outputId": "3c8f4bba-f8f9-4f28-dfe2-463ebfff504a"
      },
      "execution_count": 42,
      "outputs": [
        {
          "output_type": "execute_result",
          "data": {
            "text/plain": [
              "'\\nfrom sklearn.preprocessing import StandardScaler\\nfuncn=StandardScaler()\\nfunc.fit_transform(X)\\nstand_df1=df1.copy()\\nstand_df1[]\\n'"
            ],
            "application/vnd.google.colaboratory.intrinsic+json": {
              "type": "string"
            }
          },
          "metadata": {},
          "execution_count": 42
        }
      ]
    },
    {
      "cell_type": "code",
      "source": [
        "# The correlation heatmap of the numerical column is plotted to find out the relation between all the features and Output - Adopted_user\n",
        "# The correlation values seem very low which may mean the data might not be linear\n",
        "\n",
        "import seaborn as sns\n",
        "plt.figure(figsize=(12,8))\n",
        "sns.heatmap(df1.corr(),annot=True)"
      ],
      "metadata": {
        "colab": {
          "base_uri": "https://localhost:8080/",
          "height": 633
        },
        "id": "_RJQMGGJtLOK",
        "outputId": "fba87f9b-3555-4f9d-83a0-bc6e10f2273b"
      },
      "execution_count": 43,
      "outputs": [
        {
          "output_type": "execute_result",
          "data": {
            "text/plain": [
              "<matplotlib.axes._subplots.AxesSubplot at 0x7f1a5641f0d0>"
            ]
          },
          "metadata": {},
          "execution_count": 43
        },
        {
          "output_type": "display_data",
          "data": {
            "text/plain": [
              "<Figure size 864x576 with 2 Axes>"
            ],
            "image/png": "[encoded data removed]"
          },
          "metadata": {
            "needs_background": "light"
          }
        }
      ]
    },
    {
      "cell_type": "code",
      "source": [
        "# Importing the necessary ML modules\n",
        "\n",
        "from sklearn.model_selection import KFold, cross_val_score\n",
        "from sklearn.neighbors import KNeighborsClassifier\n",
        "from sklearn.linear_model import LogisticRegression\n",
        "from sklearn import svm\n",
        "from sklearn.tree import DecisionTreeClassifier\n",
        "kfold=KFold(n_splits=10)\n",
        "\n",
        "X=df1.iloc[:,[3,5,6,7]].values\n",
        "Y=df1.iloc[:,9].values\n",
        "print(X)\n",
        "print(Y)"
      ],
      "metadata": {
        "id": "0eEa9UOuc9lU",
        "colab": {
          "base_uri": "https://localhost:8080/"
        },
        "outputId": "cbc56fe6-8497-4342-ead5-9d6037ebb92e"
      },
      "execution_count": 98,
      "outputs": [
        {
          "output_type": "stream",
          "name": "stdout",
          "text": [
            "[[ 2  1  0 11]\n",
            " [ 1  0  0  1]\n",
            " [ 1  0  0 94]\n",
            " ...\n",
            " [ 2  1  1 83]\n",
            " [ 3  0  0  6]\n",
            " [ 4  0  1  0]]\n",
            "[0 1 0 ... 0 0 0]\n"
          ]
        }
      ]
    },
    {
      "cell_type": "code",
      "source": [
        "# Training and testing the data with different models by K-fold cross validation\n",
        "\n",
        "clf_models=[KNeighborsClassifier(n_neighbors=3),KNeighborsClassifier(n_neighbors=2),LogisticRegression(),svm.SVC(kernel='linear'),svm.SVC(kernel='rbf'),svm.SVC(kernel='poly')]\n",
        "kfold=KFold(n_splits=10)\n",
        "scores=[]\n",
        "for model in clf_models:\n",
        "  scores.append(cross_val_score(model,X,Y,cv=kfold,scoring='accuracy').mean())\n",
        "scores"
      ],
      "metadata": {
        "id": "4wuoOV3br9aZ",
        "colab": {
          "base_uri": "https://localhost:8080/"
        },
        "outputId": "8d90d432-eab8-4fe2-d6c7-7d487e255c2f"
      },
      "execution_count": 45,
      "outputs": [
        {
          "output_type": "execute_result",
          "data": {
            "text/plain": [
              "[0.8114166666666666,\n",
              " 0.8336666666666666,\n",
              " 0.8498333333333333,\n",
              " 0.8498333333333333,\n",
              " 0.8498333333333333,\n",
              " 0.8498333333333333]"
            ]
          },
          "metadata": {},
          "execution_count": 45
        }
      ]
    },
    {
      "cell_type": "markdown",
      "source": [
        "# Observation and Conclusion\n",
        "\n",
        "   The analysis of the Datasets provided has been completed. \n",
        "   These Data sets contain information about the users of a product, their first login and usage details and other such details.\n",
        "\n",
        "\n",
        "  This dataset has certain null Values under the invited_by Column and the last_session_creation column, but these null values don't affect the output in any way.\n",
        "\n",
        "\n",
        "  The output i.e. Adopted user had to be processed from the 'takehome_user_engagement' dataset. The regular users who log into the product on 3 different days within a 7day period come under this category. This was calculated by taking the difference of login period of a user in two alternate logins.\n",
        "\n",
        "  The users with this period lower than 7days atleast once were labeled as adopted users. \n",
        "\n",
        "  I changed the Categorical object values of creation_source to numerical values.\n",
        "\n",
        "  Exploratory Data Analysis was done on the features. The correlation heatmap was plotted and the correlation values were observed to be extremely low. This could be because the data could be non linearly distributed. \n",
        "\n",
        "  I imported the necessary ML models and performed cross validation of different models such as Logistic Regression, Knearest neighbors, Support Vctor Machine.\n",
        "\n",
        "  I ran KFold cross validation with 10 segments and got the best accuracy score as 84.9833 for Logistic Regression and SVM with different kernels.\n",
        "\n"
      ],
      "metadata": {
        "id": "PuLOr2pRBXgM"
      }
    }
  ]
}